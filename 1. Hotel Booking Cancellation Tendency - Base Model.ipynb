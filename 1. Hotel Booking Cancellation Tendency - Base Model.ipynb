{
 "cells": [
  {
   "cell_type": "markdown",
   "metadata": {},
   "source": [
    "# HOTEL BOOKING CANCELLATION TENDENCY \n",
    "## BASE MODEL\n",
    "### Using Logistic Regression, K-Nearest Neighbors (KNN), Support Vector Classifier (SVC), Decision Tree, and Random Forest\n",
    "#### Notebook 1 of 2"
   ]
  },
  {
   "cell_type": "markdown",
   "metadata": {},
   "source": [
    "[![hotel](https://www.journeyera.com/wp-content/uploads/2022/01/luxury-5-star-hotels-kathmandu-thamel-251085752.jpg)](https://www.journeyera.com/wp-content/uploads/2022/01/luxury-5-star-hotels-kathmandu-thamel-251085752.jpg)"
   ]
  },
  {
   "cell_type": "markdown",
   "metadata": {},
   "source": [
    "## Project Instruction"
   ]
  },
  {
   "cell_type": "markdown",
   "metadata": {},
   "source": [
    "As per Capstone Project Module 3 Guideline instructed by project organizer (Purwadhika Digital Technology School), this capstone project aims student to be able to make data analysis and build a Machine Learning Model in accordance with data and requirement. Obviously, every student must perform this project by end-to-end, covering problem statement, target / goals, model limitation, up to summary and recommendation in regards with the project done."
   ]
  },
  {
   "cell_type": "markdown",
   "metadata": {},
   "source": [
    "## Project Background"
   ]
  },
  {
   "cell_type": "markdown",
   "metadata": {},
   "source": [
    "We act as newly hired In-House Data Scientist at a 5-stars Hotel. Our responsibilities is to `predict tendency` of a customer with certain features will cancel their bookings at our hotel or not. Before appointed us, the Hotel often suffer revenue loss from customer suddenly cancel their room bookings which left the rooms vacant and can not be occupied by other customers.\n",
    "\n",
    "According to Forbes in 2014[[1]](#1), every day in the United States alone, more than 221,000 hotel rooms are cancelled and paid for, resulting in a market which sees $8.6 million wasted annually on non-refundable hotel room cancellations. An online travel marketplace for non-refundable hotel reservation, Roomer, as reported by Forbes, stated that hotel room cancellations hurt the entire value chain of the travel industry: the customer paying the cancellation fees, the travel agent losing his/her commission, and the hotel that is losing potential 30% extra income in Food & Beverage and Amenity purchases from the hotel guest. Industry and academia pointed out that this trend of hotel reservation cancellations and no-shows is troublesome because it is causing significant financial losses (Duetto, 2016; Pederson, 2018)[[2]](#2).\n",
    "\n",
    "Other case that causes this domino-effect to be happening is the *cancelling re-booking scheme*. As illustrated by Bonnie Clay in ideas.com[[3]](#3), a guest named Jamie (*pseudonym* - not real name) booked a **fully flexible reservation** at your hotel for a future trip. Before continuing this illustration, hotel cancellation policy usually comes in 2 options, refundable and non refundable as written on tiket.com[[4]](#4)\n",
    "- Non-refundable means the reservation is not possible for any kind of refunds. If customer ended up to cancel their reservation, no amount of money will be returned as refund by the hotel.\n",
    "- Refundable/Free-Cancellation means the reservation is available to be cancelled and any payment done will be returned back to the customer. However in the practice, refundable scheme could be in many forms, as reported by roomertravel.com[[5]](#5) :\n",
    "    - The “cancel by certain date” policy -> cancel hotel reservations free of charge up until a certain date. Once this date passes, hotel cancellation policies can either be standard cancellation fee or full payment.\n",
    "    - The “one night penalty” policy -> hotel charges a cancellation fee equivalent to one night’s stay at the hotel.\n",
    "\n",
    "Continuing the illustration, Jamie booked a fully flexible reservation at your hotel for a future trip. Every once in a while, Jamie gets bored at work, thinks about his upcoming vacation and continues to surf hotel and travel rates online—checking both your website and comprehensive metasearch sites—just in case he spots a better deal.\n",
    "\n",
    "Implication of the scenario are:\n",
    "1. What Jamie’s going to do if he sees a lower rate offered over the dates of his future stay?\n",
    "- **Answer:** Jamie will cancel reservation he made and then re-booked for the same property at lower price.\n",
    "\n",
    "2. Jamie gradually checking hotel price for better deal, what's the implication to the hotel?\n",
    "- **Answer:**  If every click of the button captured as a new unit of hotel demand to the hotel's website algorithm, there will be inflation to hotel's price as usually hotel implemented machine learning to automatically set room price based on the demand of the property (inflation in price, bias of hotel's demand forecast-analysis)"
   ]
  },
  {
   "cell_type": "markdown",
   "metadata": {},
   "source": [
    "## What We Offer"
   ]
  },
  {
   "cell_type": "markdown",
   "metadata": {},
   "source": [
    "We will build Machine Learning model to predict whether a customer have a tendency to cancel their bookings or not. By studying the historical data of past customers, we train Model to learn about underlying characteristics of customer that actually cancel their booking and customer who completed their bookings. If the Machine detected that a customer have high tendency to cancel their bookings in the future, we will abort their booking process and redirect them to our website's homepage. We obviously hope that our Model could predict and classify customers by their features precisely as what they will actually done in the future (cancel or not), but our Model also come with possibility of falsely predicted the outcome. This could be explained with Confusion Matrix below:"
   ]
  },
  {
   "cell_type": "markdown",
   "metadata": {},
   "source": [
    "Actual/Prediction | 1 (Predicted Cancel) | 0 (Predicted Not_Cancel)\n",
    "-----|-----|-----\n",
    "1 (Actual Cancel)|True-Positive|`False-Negative`\n",
    "0 (Actual Not_Cancel)|`False-Positive`|True-Negative\n",
    "\n",
    "Interpretation:\n",
    "1. True-Positive : We predict that customer will cancel their bookings and in actual they did cancel their bookings\n",
    "    - Impact: We could maximalize our profit by filling our room entirely, as well as gaining extra profit from F&B service.\n",
    "2. `False-Negative` : We predict that customer will not cancel their bookings and in actual they did cancel their bookings\n",
    "    - Impact: We will lose productivity of our hotel staffs to giving service on customer who will ended up not staying in our hotel. Further, room which customer cancelled will remain vacant and hotel will losing profit on this room * number of nights, while actually we could fill it up with other customers.\n",
    "3. `False-Positive` : We predict that customer will cancel their bookings and in actual they did not cancel their bookings\n",
    "    - Impact: We will lose customers (presumably new long-term customers), but if our hotel is full-packed there should be no burden on hotel's profitability since no hotel room remain vacant as result of this case.\n",
    "4. True-Negative : We predict that customer will not cancel their bookings and in actual they did not cancel their bookings\n",
    "    - Impact: Normal hotel bookings scheme."
   ]
  },
  {
   "cell_type": "markdown",
   "metadata": {},
   "source": [
    "We will explained thoroughly when we analyze about the target column in our dataset in the end of Chapter 1 of this project. To summarize, customers' behavior on 'cancel and re-booked' room in our hotel is bringing Domino effect not only to themself if they have to lose certain money of their payment (for bookings under Refundable scheme), but also to the hotel because of vacant room and reduce in F&B income, including other customers in the waiting list (in case of fully booked hotel) and general customer that experiencing price inflation since hotel's room price algorithm will detect this condition as high-demand and ended up increasing the room's price."
   ]
  },
  {
   "cell_type": "markdown",
   "metadata": {},
   "source": [
    "## Goals"
   ]
  },
  {
   "cell_type": "markdown",
   "metadata": {},
   "source": [
    "As mentioned on Confusion Matrix above, our goals is to reduce number of False-Negative cases (model predicted customers will not cancel but in actual they will) as low as possible to avoid revenue loss from vacant room and unreliable demand projection of our hotel's forecast."
   ]
  },
  {
   "cell_type": "markdown",
   "metadata": {},
   "source": [
    "## Project Limitation - Start of Project"
   ]
  },
  {
   "cell_type": "markdown",
   "metadata": {},
   "source": [
    "We obtain the dataset for this project directly from project organizer, Purwadhika Digital Technology School. As explained by the project organizer, this dataset has been set purposely for this project only, while details like hotel name, time period, location, hotel location, hotel occupation rate, price rate are not disclosed. Therefore, the outcome of this project will be very limited and may not be suitable for many cases, however this project aim to produce the basic Machine Learning process to make prediction about customer's tendency to make cancellation or not. We will also summarized project limitation at the end of the project after we perform Data Understanding to each features available in the dataset."
   ]
  },
  {
   "cell_type": "markdown",
   "metadata": {},
   "source": [
    "## Project Overview"
   ]
  },
  {
   "cell_type": "markdown",
   "metadata": {},
   "source": [
    "1. **PROBLEM STATEMENT** : How can we predict and minimalized cancellations by customers so that we can reduce opportunity cost from vacant rooms and extra income from Foods and Beverages, as well as improving the reliability of demand forecast of our hotel rooms ? \n",
    "\n",
    "2. **DATA** : In this project, we would like to predict risk of booking cancellations by customers. Cancellation risk could be predicted using demographic information from historical data of past customers, as well as booking details requested on each cancelled bookings so that we could assessed pattern of customers who likely to cancelled their bookings.\n",
    "\n",
    "3. **MACHINE LEARNING OBJECTIVE** : To MINIMALIZED opportunity cost arise from bookings cancellation, that could be in form of:\n",
    "    - Expected Profit per Room - Unrefundable Deposit\n",
    "    - Additional income from F&B service as well as tips for hotel staffs (reception, bellboy and valet)\n",
    "    - Unreliability of demand forecast as customers who had made bookings kept on searching for lowest price and then caused cancel-then-rebook phenomenon.\n",
    "    - Price inflation because Hotel's website detected particular rooms had high demand from this cancel-then-rebook practice, which could cause market position of the hotel could shifted into higher market. Even though the higher price of the rooms in a fully-booked hotel could means that Hotel gained extra profit than they targeted, customer will have higher expectation to the services since they have paid high price for a room, which in actual could be overwhelmed to hotel's staff that did not usually performed service in high level.\n",
    "\n",
    "4. **ACTION** : To not letting/reject customers who had high tendency (example: more than 50% possibility) to cancel their bookings in the future, to book a room at our hotel.\n",
    "\n",
    "5. **VALUE** : Purpose of using Machine Learning is to reduce OPPORTUNITY COST (income that should have had been produced if customers did not cancel their bookings) and turn it into ACTUAL INCOME."
   ]
  },
  {
   "cell_type": "markdown",
   "metadata": {},
   "source": [
    "## MAIN QUESTION : WHY PROBLEM MUST BE SOLVED WITH MACHINE LEARNING\n",
    "Illustration : \n",
    "- [![water](https://blueskyplumbingfl.com/wp-content/uploads/2016/10/leaky-faucet-blog.jpg)](https://blueskyplumbingfl.com/wp-content/uploads/2016/10/leaky-faucet-blog.jpg)\n",
    "\n",
    "Without implementation of machine learning, hotel will treat this cancelled room and vacant rooms as small or insignificant loss to their entire Statement of Profit / Loss. The hotel staff will not bothered by this too, as vacant rooms means there are less customers to be served, less service to be given, less room need to be cleaned. We illustrated this situation as small leakage in a faucet, if a drop of water (0.05 mL)[[6]](#6) leaked from a faucet every 5 seconds, it means we have lost a total of 86,400 (total seconds in a day) / 5 * 0.05 mL = **864 mL** of water in a day. It is equivalent to **3,153.6 litres** of water in a year or **31,536** litres of water in 10 years. "
   ]
  },
  {
   "cell_type": "markdown",
   "metadata": {},
   "source": [
    "This drop of water leakage or profit in terms of hotel cancellation are the Opportunity Cost instead of simply Expenses or Loss that could be seen in Statement of Profit or Loss in Company's financial statements. Opportunity cost is cost borned by an entity for not taking particular choices for another alternative. As this is only a **potential benefit**, management tends to bat their eye as without this extra income, hotel are still very healthy financially. However as this practice keeps on happening, hotel could lose huge potential benefit in long terms, include if there's a circumstances where hotel need to get used a little profit as possible to help their business running, for example when Covid-19 hits and hospitality service is the first one getting hit hard by the pandemic. Without Machine Learning, hotel could only review their cancellation policies and apply very high unrefundable deposit rate or maybe change their cancellation policies as totally unrefundable to avoid losing income from cancellations. However, this is not nearly a solution since the root cause of the problem is hotel letting the customer that has high potential to cancel their bookings in the end to still making reservation in our hotel."
   ]
  },
  {
   "cell_type": "markdown",
   "metadata": {},
   "source": [
    "With the implementation of machine learning, the hotel could have a very stable income _(room type * rate * number of rooms)_ and did not need to allocate huge time from their staffs to serve for customers who would like to cancel their bookings. This could also give potential customer (customer who still search for a bookings in our hotel) or customer in waiting list understanding that, there is only a very small chance someone would give up their room since we had filter them out with Machine Learning from the very first time they book in our hotel. Our demand forecast with data from total clicks from our website or travel agent site will also gain boost in their reliability and credibility, since we have eliminate customer who still searching for lower price or possibility of someone cancel their bookings. "
   ]
  },
  {
   "cell_type": "markdown",
   "metadata": {},
   "source": [
    "## Economic Implications"
   ]
  },
  {
   "cell_type": "markdown",
   "metadata": {},
   "source": [
    "Economic implication for the implementation of Machine Learning are:\n",
    "- Income: \n",
    "    1. Dohop : Some 19% of hotels that are booked online are cancelled before the guest arrives at the hotel[[7]](#7)\n",
    "        - Since our hotel had waiting list customers waiting for cancellation bookings, we assume half of them could be switched for customers in waiting list. **So 10% of rooms are vacant - 10% of potential income were lost**\n",
    "        \n",
    "    2. AirBnB : Moderate cancellation policy: Guests can cancel up to 5 days before check-in for a full refund, and you won’t be paid. If they cancel after that, you’ll be paid for each night they stay, plus 1 additional night and 50% for all unspent nights.[[8]](#8)\n",
    "        - Since there are a lot of cancellation in our hotel, we assume hotel were using moderate cancellation policy. **Out of 10% vacant rooms, we receive 50% of unrefundable payment - 50% of potential loss were recovered**\n",
    "\n",
    "    3. STR : Total food-and-beverage revenue per occupied room rose 1.6% to $105.56 in 2017, though in-room dining decreased 3% from 2016.[[9]](#9)\n",
    "        - Since 10% of our rooms are vacant, potential benefit from F&B revenue are **10% of total rooms x USD 105.56**\n",
    "\n",
    "    4. Although the average nightly price in North America is $884, the most common nightly price is between $500 and $750.[[10]](#10)\n",
    "        - We use USD 884 as average cost per room per night.\n",
    "\n",
    "    5. Statista : Average number of rooms in Luxury Hotel are around 300 rooms.[[11]](#11)\n",
    "\n",
    "**TOTAL OPPORTUNITY COST TO BE RECOVERED AS INCOME WITH MACHINE LEARNING**\n",
    "> ((10% * 300 rooms) * ( USD 884 + USD 105.56)) * 50% = USD 14,843.4 per day\n",
    "\n",
    "    - Potential Additional Income per day: USD 14,843.4\n",
    "    - Potential Additional Income per year: USD 5,417,841\n",
    "\n",
    "- Cost:\n",
    "    - We will build a Machine Learning Team in our hotel consist of 1 Machine Learning Manager, 1 Machine Learning Team Lead and 3 Machine Learning Engineers.\n",
    "    1. Machine Learning Manager : USD 191,891/year (Glassdoor [[12]](#12))\n",
    "    2. Machine Learning Team Leader : USD 136,969/year (Glassdoor [[13]](#13))\n",
    "    3. Machine Learning Engineer : USD 100,310/year (Glassdoor [[14]](#14))\n",
    "\n",
    "**TOTAL COST OF HIRING MACHINE LEARNING TEAM**\n",
    "> (1 * USD 191,891) + (1 * USD 136,969) + (3 * USD 100,310) = USD 629,790 per year\n",
    "\n",
    "**POTENTIAL BENEFIT**\n",
    "- Potential Benefit per year = USD 4,788,051\n",
    "- Potential Benefit per 10 years = USD 47,880,510\n"
   ]
  },
  {
   "cell_type": "code",
   "execution_count": 1,
   "metadata": {},
   "outputs": [],
   "source": [
    "## Import Common Package\n",
    "import numpy as np\n",
    "import pandas as pd\n",
    "import matplotlib.pyplot as plt\n",
    "import seaborn as sns\n",
    "import warnings\n",
    "warnings.filterwarnings('ignore')"
   ]
  },
  {
   "cell_type": "code",
   "execution_count": 2,
   "metadata": {},
   "outputs": [
    {
     "data": {
      "text/html": [
       "<div>\n",
       "<style scoped>\n",
       "    .dataframe tbody tr th:only-of-type {\n",
       "        vertical-align: middle;\n",
       "    }\n",
       "\n",
       "    .dataframe tbody tr th {\n",
       "        vertical-align: top;\n",
       "    }\n",
       "\n",
       "    .dataframe thead th {\n",
       "        text-align: right;\n",
       "    }\n",
       "</style>\n",
       "<table border=\"1\" class=\"dataframe\">\n",
       "  <thead>\n",
       "    <tr style=\"text-align: right;\">\n",
       "      <th></th>\n",
       "      <th>country</th>\n",
       "      <th>market_segment</th>\n",
       "      <th>previous_cancellations</th>\n",
       "      <th>booking_changes</th>\n",
       "      <th>deposit_type</th>\n",
       "      <th>days_in_waiting_list</th>\n",
       "      <th>customer_type</th>\n",
       "      <th>reserved_room_type</th>\n",
       "      <th>required_car_parking_spaces</th>\n",
       "      <th>total_of_special_requests</th>\n",
       "      <th>is_canceled</th>\n",
       "    </tr>\n",
       "  </thead>\n",
       "  <tbody>\n",
       "    <tr>\n",
       "      <th>0</th>\n",
       "      <td>IRL</td>\n",
       "      <td>Offline TA/TO</td>\n",
       "      <td>0</td>\n",
       "      <td>0</td>\n",
       "      <td>No Deposit</td>\n",
       "      <td>0</td>\n",
       "      <td>Transient-Party</td>\n",
       "      <td>A</td>\n",
       "      <td>0</td>\n",
       "      <td>0</td>\n",
       "      <td>0</td>\n",
       "    </tr>\n",
       "    <tr>\n",
       "      <th>1</th>\n",
       "      <td>FRA</td>\n",
       "      <td>Online TA</td>\n",
       "      <td>0</td>\n",
       "      <td>0</td>\n",
       "      <td>No Deposit</td>\n",
       "      <td>0</td>\n",
       "      <td>Transient</td>\n",
       "      <td>A</td>\n",
       "      <td>0</td>\n",
       "      <td>2</td>\n",
       "      <td>0</td>\n",
       "    </tr>\n",
       "    <tr>\n",
       "      <th>2</th>\n",
       "      <td>PRT</td>\n",
       "      <td>Online TA</td>\n",
       "      <td>0</td>\n",
       "      <td>1</td>\n",
       "      <td>No Deposit</td>\n",
       "      <td>0</td>\n",
       "      <td>Transient</td>\n",
       "      <td>A</td>\n",
       "      <td>0</td>\n",
       "      <td>2</td>\n",
       "      <td>0</td>\n",
       "    </tr>\n",
       "    <tr>\n",
       "      <th>3</th>\n",
       "      <td>NLD</td>\n",
       "      <td>Online TA</td>\n",
       "      <td>0</td>\n",
       "      <td>0</td>\n",
       "      <td>No Deposit</td>\n",
       "      <td>0</td>\n",
       "      <td>Transient</td>\n",
       "      <td>A</td>\n",
       "      <td>0</td>\n",
       "      <td>1</td>\n",
       "      <td>1</td>\n",
       "    </tr>\n",
       "    <tr>\n",
       "      <th>4</th>\n",
       "      <td>PRT</td>\n",
       "      <td>Online TA</td>\n",
       "      <td>0</td>\n",
       "      <td>2</td>\n",
       "      <td>No Deposit</td>\n",
       "      <td>0</td>\n",
       "      <td>Transient</td>\n",
       "      <td>A</td>\n",
       "      <td>0</td>\n",
       "      <td>2</td>\n",
       "      <td>0</td>\n",
       "    </tr>\n",
       "  </tbody>\n",
       "</table>\n",
       "</div>"
      ],
      "text/plain": [
       "  country market_segment  previous_cancellations  booking_changes  \\\n",
       "0     IRL  Offline TA/TO                       0                0   \n",
       "1     FRA      Online TA                       0                0   \n",
       "2     PRT      Online TA                       0                1   \n",
       "3     NLD      Online TA                       0                0   \n",
       "4     PRT      Online TA                       0                2   \n",
       "\n",
       "  deposit_type  days_in_waiting_list    customer_type reserved_room_type  \\\n",
       "0   No Deposit                     0  Transient-Party                  A   \n",
       "1   No Deposit                     0        Transient                  A   \n",
       "2   No Deposit                     0        Transient                  A   \n",
       "3   No Deposit                     0        Transient                  A   \n",
       "4   No Deposit                     0        Transient                  A   \n",
       "\n",
       "   required_car_parking_spaces  total_of_special_requests  is_canceled  \n",
       "0                            0                          0            0  \n",
       "1                            0                          2            0  \n",
       "2                            0                          2            0  \n",
       "3                            0                          1            1  \n",
       "4                            0                          2            0  "
      ]
     },
     "execution_count": 2,
     "metadata": {},
     "output_type": "execute_result"
    }
   ],
   "source": [
    "## Import Dataset\n",
    "df=pd.read_csv('data_hotel_booking_demand.csv')\n",
    "df.head()"
   ]
  },
  {
   "cell_type": "markdown",
   "metadata": {},
   "source": [
    "We were given dataset by the project organizer (Purwadhika Digital Technology School), and the information in this dataset have been adjusted for the purpose of this project only. Dataset was given in .csv format and we have imported to this notebook as above. From this point, we will perform Data Understanding and Data Wrangling to understand more about the information in the dataset and preparing the information and format needed by Machine Learning model in the next stage of the project."
   ]
  },
  {
   "cell_type": "markdown",
   "metadata": {},
   "source": [
    "<hr>\n",
    "\n",
    "## 1. Data Understanding and Data Wrangling"
   ]
  },
  {
   "cell_type": "code",
   "execution_count": 3,
   "metadata": {},
   "outputs": [
    {
     "name": "stdout",
     "output_type": "stream",
     "text": [
      "<class 'pandas.core.frame.DataFrame'>\n",
      "RangeIndex: 83573 entries, 0 to 83572\n",
      "Data columns (total 11 columns):\n",
      " #   Column                       Non-Null Count  Dtype \n",
      "---  ------                       --------------  ----- \n",
      " 0   country                      83222 non-null  object\n",
      " 1   market_segment               83573 non-null  object\n",
      " 2   previous_cancellations       83573 non-null  int64 \n",
      " 3   booking_changes              83573 non-null  int64 \n",
      " 4   deposit_type                 83573 non-null  object\n",
      " 5   days_in_waiting_list         83573 non-null  int64 \n",
      " 6   customer_type                83573 non-null  object\n",
      " 7   reserved_room_type           83573 non-null  object\n",
      " 8   required_car_parking_spaces  83573 non-null  int64 \n",
      " 9   total_of_special_requests    83573 non-null  int64 \n",
      " 10  is_canceled                  83573 non-null  int64 \n",
      "dtypes: int64(6), object(5)\n",
      "memory usage: 7.0+ MB\n"
     ]
    }
   ],
   "source": [
    "## Check data info\n",
    "df.info()"
   ]
  },
  {
   "cell_type": "markdown",
   "metadata": {},
   "source": [
    "First thing first, we check the information of the columns in the dataset. There are 11 columns available, including our target column which is `is_cancelled` that given information whether the hotel room reservation is being cancelled or completed. In the non-null count column, we detected that `country` column has different number of non-null data than other column, therefore we detected that there will be missing value from our dataset. Meanwhile, from the 11 columns in the dataset, 5 of them are object-type while remainder are in integer. \n",
    "\n",
    "As missing value is expected, we ensure that missing value is present by visualizing the data in Heatmap below."
   ]
  },
  {
   "cell_type": "markdown",
   "metadata": {},
   "source": [
    "### 1.1 Visualize and Handle Missing Value"
   ]
  },
  {
   "cell_type": "code",
   "execution_count": 4,
   "metadata": {},
   "outputs": [
    {
     "data": {
      "image/png": "[encoded data removed]",
      "text/plain": [
       "<Figure size 1080x504 with 1 Axes>"
      ]
     },
     "metadata": {
      "needs_background": "light"
     },
     "output_type": "display_data"
    }
   ],
   "source": [
    "## Visualize Missing Value Using Heatmap\n",
    "plt.figure(figsize=(15,7)) # set size of heatmap\n",
    "sns.heatmap(df.isna(), cmap='viridis', cbar=False)\n",
    "# cmap = palette colour of the heatmap\n",
    "# cbar=False -> to hide heatmap bar (legends) as we will not do analysis from this figure, we only want to detect missing value\n",
    "plt.xticks(rotation=30) # set degree rotation of the x-axis labels for visualization purposes\n",
    "plt.show()\n",
    "## Result: missing value detected in columns country only (yellow colour represent missing value)"
   ]
  },
  {
   "cell_type": "code",
   "execution_count": 5,
   "metadata": {},
   "outputs": [
    {
     "name": "stdout",
     "output_type": "stream",
     "text": [
      "Number of missing value in Country column :  351\n",
      "Proportion of missing value (%) :  0.42\n"
     ]
    }
   ],
   "source": [
    "## Show Number of Missing Value and Proportion to Dataset\n",
    "print('Number of missing value in Country column : ', df['country'].isna().sum())\n",
    "print('Proportion of missing value (%) : ', ((df['country'].isna().sum() / len(df)) *100).round(2))"
   ]
  },
  {
   "cell_type": "markdown",
   "metadata": {},
   "source": [
    "Number of missing value in `country` column are only 351 data, equivalent to 0.42% to total number of rows/data in our dataset. Even though this number of data is insignificant to our dataset and analysis further, we decided to keep this information by filling the missing value with 'Other' value."
   ]
  },
  {
   "cell_type": "code",
   "execution_count": 6,
   "metadata": {},
   "outputs": [],
   "source": [
    "# Handling Missing Value - Fill in missing data with 'Other'\n",
    "## There should be no customer without being a member of a country, therefore we fill in with 'Other'\n",
    "df['country'] = df['country'].fillna('Other')"
   ]
  },
  {
   "cell_type": "code",
   "execution_count": 7,
   "metadata": {},
   "outputs": [
    {
     "data": {
      "image/png": "[encoded data removed]",
      "text/plain": [
       "<Figure size 1080x504 with 1 Axes>"
      ]
     },
     "metadata": {
      "needs_background": "light"
     },
     "output_type": "display_data"
    }
   ],
   "source": [
    "## Confirm Elimination of Missing Value\n",
    "plt.figure(figsize=(15,7))\n",
    "sns.heatmap(df.isna(), cmap='viridis', cbar=False)\n",
    "plt.xticks(rotation=30)\n",
    "plt.show()\n",
    "## Result: No missing value left in our dataset"
   ]
  },
  {
   "cell_type": "markdown",
   "metadata": {},
   "source": [
    "### 1.2 Check Duplicated Data"
   ]
  },
  {
   "cell_type": "code",
   "execution_count": 8,
   "metadata": {},
   "outputs": [
    {
     "data": {
      "text/plain": [
       "True"
      ]
     },
     "execution_count": 8,
     "metadata": {},
     "output_type": "execute_result"
    }
   ],
   "source": [
    "## Check if there duplicated data\n",
    "df.duplicated().any()\n",
    "## Result: There are duplicated data"
   ]
  },
  {
   "cell_type": "code",
   "execution_count": 9,
   "metadata": {},
   "outputs": [
    {
     "data": {
      "text/html": [
       "<div>\n",
       "<style scoped>\n",
       "    .dataframe tbody tr th:only-of-type {\n",
       "        vertical-align: middle;\n",
       "    }\n",
       "\n",
       "    .dataframe tbody tr th {\n",
       "        vertical-align: top;\n",
       "    }\n",
       "\n",
       "    .dataframe thead th {\n",
       "        text-align: right;\n",
       "    }\n",
       "</style>\n",
       "<table border=\"1\" class=\"dataframe\">\n",
       "  <thead>\n",
       "    <tr style=\"text-align: right;\">\n",
       "      <th></th>\n",
       "      <th>country</th>\n",
       "      <th>market_segment</th>\n",
       "      <th>previous_cancellations</th>\n",
       "      <th>booking_changes</th>\n",
       "      <th>deposit_type</th>\n",
       "      <th>days_in_waiting_list</th>\n",
       "      <th>customer_type</th>\n",
       "      <th>reserved_room_type</th>\n",
       "      <th>required_car_parking_spaces</th>\n",
       "      <th>total_of_special_requests</th>\n",
       "      <th>is_canceled</th>\n",
       "    </tr>\n",
       "  </thead>\n",
       "  <tbody>\n",
       "    <tr>\n",
       "      <th>7</th>\n",
       "      <td>PRT</td>\n",
       "      <td>Groups</td>\n",
       "      <td>0</td>\n",
       "      <td>0</td>\n",
       "      <td>Non Refund</td>\n",
       "      <td>0</td>\n",
       "      <td>Transient</td>\n",
       "      <td>A</td>\n",
       "      <td>0</td>\n",
       "      <td>0</td>\n",
       "      <td>1</td>\n",
       "    </tr>\n",
       "    <tr>\n",
       "      <th>22</th>\n",
       "      <td>PRT</td>\n",
       "      <td>Groups</td>\n",
       "      <td>0</td>\n",
       "      <td>0</td>\n",
       "      <td>Non Refund</td>\n",
       "      <td>0</td>\n",
       "      <td>Transient</td>\n",
       "      <td>A</td>\n",
       "      <td>0</td>\n",
       "      <td>0</td>\n",
       "      <td>1</td>\n",
       "    </tr>\n",
       "    <tr>\n",
       "      <th>29</th>\n",
       "      <td>PRT</td>\n",
       "      <td>Online TA</td>\n",
       "      <td>0</td>\n",
       "      <td>0</td>\n",
       "      <td>No Deposit</td>\n",
       "      <td>0</td>\n",
       "      <td>Transient</td>\n",
       "      <td>A</td>\n",
       "      <td>0</td>\n",
       "      <td>1</td>\n",
       "      <td>0</td>\n",
       "    </tr>\n",
       "    <tr>\n",
       "      <th>34</th>\n",
       "      <td>PRT</td>\n",
       "      <td>Groups</td>\n",
       "      <td>0</td>\n",
       "      <td>0</td>\n",
       "      <td>Non Refund</td>\n",
       "      <td>0</td>\n",
       "      <td>Transient</td>\n",
       "      <td>A</td>\n",
       "      <td>0</td>\n",
       "      <td>0</td>\n",
       "      <td>1</td>\n",
       "    </tr>\n",
       "    <tr>\n",
       "      <th>44</th>\n",
       "      <td>PRT</td>\n",
       "      <td>Groups</td>\n",
       "      <td>0</td>\n",
       "      <td>0</td>\n",
       "      <td>Non Refund</td>\n",
       "      <td>0</td>\n",
       "      <td>Transient</td>\n",
       "      <td>A</td>\n",
       "      <td>0</td>\n",
       "      <td>0</td>\n",
       "      <td>1</td>\n",
       "    </tr>\n",
       "    <tr>\n",
       "      <th>...</th>\n",
       "      <td>...</td>\n",
       "      <td>...</td>\n",
       "      <td>...</td>\n",
       "      <td>...</td>\n",
       "      <td>...</td>\n",
       "      <td>...</td>\n",
       "      <td>...</td>\n",
       "      <td>...</td>\n",
       "      <td>...</td>\n",
       "      <td>...</td>\n",
       "      <td>...</td>\n",
       "    </tr>\n",
       "    <tr>\n",
       "      <th>83568</th>\n",
       "      <td>PRT</td>\n",
       "      <td>Online TA</td>\n",
       "      <td>0</td>\n",
       "      <td>0</td>\n",
       "      <td>No Deposit</td>\n",
       "      <td>0</td>\n",
       "      <td>Contract</td>\n",
       "      <td>A</td>\n",
       "      <td>0</td>\n",
       "      <td>3</td>\n",
       "      <td>1</td>\n",
       "    </tr>\n",
       "    <tr>\n",
       "      <th>83569</th>\n",
       "      <td>FRA</td>\n",
       "      <td>Online TA</td>\n",
       "      <td>0</td>\n",
       "      <td>0</td>\n",
       "      <td>No Deposit</td>\n",
       "      <td>0</td>\n",
       "      <td>Transient</td>\n",
       "      <td>D</td>\n",
       "      <td>0</td>\n",
       "      <td>2</td>\n",
       "      <td>0</td>\n",
       "    </tr>\n",
       "    <tr>\n",
       "      <th>83570</th>\n",
       "      <td>PRT</td>\n",
       "      <td>Online TA</td>\n",
       "      <td>0</td>\n",
       "      <td>1</td>\n",
       "      <td>No Deposit</td>\n",
       "      <td>0</td>\n",
       "      <td>Transient</td>\n",
       "      <td>D</td>\n",
       "      <td>0</td>\n",
       "      <td>3</td>\n",
       "      <td>0</td>\n",
       "    </tr>\n",
       "    <tr>\n",
       "      <th>83571</th>\n",
       "      <td>CN</td>\n",
       "      <td>Offline TA/TO</td>\n",
       "      <td>0</td>\n",
       "      <td>0</td>\n",
       "      <td>No Deposit</td>\n",
       "      <td>0</td>\n",
       "      <td>Transient-Party</td>\n",
       "      <td>A</td>\n",
       "      <td>0</td>\n",
       "      <td>0</td>\n",
       "      <td>0</td>\n",
       "    </tr>\n",
       "    <tr>\n",
       "      <th>83572</th>\n",
       "      <td>PRT</td>\n",
       "      <td>Groups</td>\n",
       "      <td>0</td>\n",
       "      <td>0</td>\n",
       "      <td>Non Refund</td>\n",
       "      <td>0</td>\n",
       "      <td>Transient</td>\n",
       "      <td>A</td>\n",
       "      <td>0</td>\n",
       "      <td>0</td>\n",
       "      <td>1</td>\n",
       "    </tr>\n",
       "  </tbody>\n",
       "</table>\n",
       "<p>73371 rows × 11 columns</p>\n",
       "</div>"
      ],
      "text/plain": [
       "      country market_segment  previous_cancellations  booking_changes  \\\n",
       "7         PRT         Groups                       0                0   \n",
       "22        PRT         Groups                       0                0   \n",
       "29        PRT      Online TA                       0                0   \n",
       "34        PRT         Groups                       0                0   \n",
       "44        PRT         Groups                       0                0   \n",
       "...       ...            ...                     ...              ...   \n",
       "83568     PRT      Online TA                       0                0   \n",
       "83569     FRA      Online TA                       0                0   \n",
       "83570     PRT      Online TA                       0                1   \n",
       "83571      CN  Offline TA/TO                       0                0   \n",
       "83572     PRT         Groups                       0                0   \n",
       "\n",
       "      deposit_type  days_in_waiting_list    customer_type reserved_room_type  \\\n",
       "7       Non Refund                     0        Transient                  A   \n",
       "22      Non Refund                     0        Transient                  A   \n",
       "29      No Deposit                     0        Transient                  A   \n",
       "34      Non Refund                     0        Transient                  A   \n",
       "44      Non Refund                     0        Transient                  A   \n",
       "...            ...                   ...              ...                ...   \n",
       "83568   No Deposit                     0         Contract                  A   \n",
       "83569   No Deposit                     0        Transient                  D   \n",
       "83570   No Deposit                     0        Transient                  D   \n",
       "83571   No Deposit                     0  Transient-Party                  A   \n",
       "83572   Non Refund                     0        Transient                  A   \n",
       "\n",
       "       required_car_parking_spaces  total_of_special_requests  is_canceled  \n",
       "7                                0                          0            1  \n",
       "22                               0                          0            1  \n",
       "29                               0                          1            0  \n",
       "34                               0                          0            1  \n",
       "44                               0                          0            1  \n",
       "...                            ...                        ...          ...  \n",
       "83568                            0                          3            1  \n",
       "83569                            0                          2            0  \n",
       "83570                            0                          3            0  \n",
       "83571                            0                          0            0  \n",
       "83572                            0                          0            1  \n",
       "\n",
       "[73371 rows x 11 columns]"
      ]
     },
     "execution_count": 9,
     "metadata": {},
     "output_type": "execute_result"
    }
   ],
   "source": [
    "## Combine duplicate data in a variable and show duplicate data\n",
    "duplicates = df[df.duplicated() == True]\n",
    "duplicates"
   ]
  },
  {
   "cell_type": "markdown",
   "metadata": {},
   "source": [
    "There are 73,371 duplicated data in our dataset, however, there are no unique information (date/time or customer name/number) that could be used to distinguish one data to another. Therefore, we did not treat this duplicate data further as it is highly possible that this duplicate data could occur since there are no unique information to refer to."
   ]
  },
  {
   "cell_type": "markdown",
   "metadata": {},
   "source": [
    "### 1.3 Describe Columns and Perform Encoding for Categorical Columns"
   ]
  },
  {
   "cell_type": "code",
   "execution_count": 10,
   "metadata": {},
   "outputs": [],
   "source": [
    "## Build For Loop to contain data for checking column details\n",
    "hotelDesc=[]\n",
    "\n",
    "for i in df.columns:\n",
    "    hotelDesc.append([\n",
    "        i,\n",
    "        df[i].dtypes,\n",
    "        df[i].isna().sum(),\n",
    "        round((df[i].isna().sum() / len(df))*100, 2),\n",
    "        df[i].nunique(),\n",
    "        df[i].drop_duplicates().sample(2).values\n",
    "        ])"
   ]
  },
  {
   "cell_type": "code",
   "execution_count": 11,
   "metadata": {},
   "outputs": [
    {
     "data": {
      "text/html": [
       "<div>\n",
       "<style scoped>\n",
       "    .dataframe tbody tr th:only-of-type {\n",
       "        vertical-align: middle;\n",
       "    }\n",
       "\n",
       "    .dataframe tbody tr th {\n",
       "        vertical-align: top;\n",
       "    }\n",
       "\n",
       "    .dataframe thead th {\n",
       "        text-align: right;\n",
       "    }\n",
       "</style>\n",
       "<table border=\"1\" class=\"dataframe\">\n",
       "  <thead>\n",
       "    <tr style=\"text-align: right;\">\n",
       "      <th></th>\n",
       "      <th>Features</th>\n",
       "      <th>DataType</th>\n",
       "      <th>Null</th>\n",
       "      <th>Null%</th>\n",
       "      <th>Unique</th>\n",
       "      <th>Sample</th>\n",
       "    </tr>\n",
       "  </thead>\n",
       "  <tbody>\n",
       "    <tr>\n",
       "      <th>0</th>\n",
       "      <td>country</td>\n",
       "      <td>object</td>\n",
       "      <td>0</td>\n",
       "      <td>0.0</td>\n",
       "      <td>163</td>\n",
       "      <td>[RWA, ECU]</td>\n",
       "    </tr>\n",
       "    <tr>\n",
       "      <th>1</th>\n",
       "      <td>market_segment</td>\n",
       "      <td>object</td>\n",
       "      <td>0</td>\n",
       "      <td>0.0</td>\n",
       "      <td>8</td>\n",
       "      <td>[Direct, Undefined]</td>\n",
       "    </tr>\n",
       "    <tr>\n",
       "      <th>2</th>\n",
       "      <td>previous_cancellations</td>\n",
       "      <td>int64</td>\n",
       "      <td>0</td>\n",
       "      <td>0.0</td>\n",
       "      <td>15</td>\n",
       "      <td>[21, 26]</td>\n",
       "    </tr>\n",
       "    <tr>\n",
       "      <th>3</th>\n",
       "      <td>booking_changes</td>\n",
       "      <td>int64</td>\n",
       "      <td>0</td>\n",
       "      <td>0.0</td>\n",
       "      <td>19</td>\n",
       "      <td>[8, 4]</td>\n",
       "    </tr>\n",
       "    <tr>\n",
       "      <th>4</th>\n",
       "      <td>deposit_type</td>\n",
       "      <td>object</td>\n",
       "      <td>0</td>\n",
       "      <td>0.0</td>\n",
       "      <td>3</td>\n",
       "      <td>[Non Refund, No Deposit]</td>\n",
       "    </tr>\n",
       "    <tr>\n",
       "      <th>5</th>\n",
       "      <td>days_in_waiting_list</td>\n",
       "      <td>int64</td>\n",
       "      <td>0</td>\n",
       "      <td>0.0</td>\n",
       "      <td>115</td>\n",
       "      <td>[76, 113]</td>\n",
       "    </tr>\n",
       "    <tr>\n",
       "      <th>6</th>\n",
       "      <td>customer_type</td>\n",
       "      <td>object</td>\n",
       "      <td>0</td>\n",
       "      <td>0.0</td>\n",
       "      <td>4</td>\n",
       "      <td>[Transient-Party, Contract]</td>\n",
       "    </tr>\n",
       "    <tr>\n",
       "      <th>7</th>\n",
       "      <td>reserved_room_type</td>\n",
       "      <td>object</td>\n",
       "      <td>0</td>\n",
       "      <td>0.0</td>\n",
       "      <td>10</td>\n",
       "      <td>[A, E]</td>\n",
       "    </tr>\n",
       "    <tr>\n",
       "      <th>8</th>\n",
       "      <td>required_car_parking_spaces</td>\n",
       "      <td>int64</td>\n",
       "      <td>0</td>\n",
       "      <td>0.0</td>\n",
       "      <td>5</td>\n",
       "      <td>[2, 8]</td>\n",
       "    </tr>\n",
       "    <tr>\n",
       "      <th>9</th>\n",
       "      <td>total_of_special_requests</td>\n",
       "      <td>int64</td>\n",
       "      <td>0</td>\n",
       "      <td>0.0</td>\n",
       "      <td>6</td>\n",
       "      <td>[0, 1]</td>\n",
       "    </tr>\n",
       "    <tr>\n",
       "      <th>10</th>\n",
       "      <td>is_canceled</td>\n",
       "      <td>int64</td>\n",
       "      <td>0</td>\n",
       "      <td>0.0</td>\n",
       "      <td>2</td>\n",
       "      <td>[0, 1]</td>\n",
       "    </tr>\n",
       "  </tbody>\n",
       "</table>\n",
       "</div>"
      ],
      "text/plain": [
       "                       Features DataType  Null  Null%  Unique  \\\n",
       "0                       country   object     0    0.0     163   \n",
       "1                market_segment   object     0    0.0       8   \n",
       "2        previous_cancellations    int64     0    0.0      15   \n",
       "3               booking_changes    int64     0    0.0      19   \n",
       "4                  deposit_type   object     0    0.0       3   \n",
       "5          days_in_waiting_list    int64     0    0.0     115   \n",
       "6                 customer_type   object     0    0.0       4   \n",
       "7            reserved_room_type   object     0    0.0      10   \n",
       "8   required_car_parking_spaces    int64     0    0.0       5   \n",
       "9     total_of_special_requests    int64     0    0.0       6   \n",
       "10                  is_canceled    int64     0    0.0       2   \n",
       "\n",
       "                         Sample  \n",
       "0                    [RWA, ECU]  \n",
       "1           [Direct, Undefined]  \n",
       "2                      [21, 26]  \n",
       "3                        [8, 4]  \n",
       "4      [Non Refund, No Deposit]  \n",
       "5                     [76, 113]  \n",
       "6   [Transient-Party, Contract]  \n",
       "7                        [A, E]  \n",
       "8                        [2, 8]  \n",
       "9                        [0, 1]  \n",
       "10                       [0, 1]  "
      ]
     },
     "execution_count": 11,
     "metadata": {},
     "output_type": "execute_result"
    }
   ],
   "source": [
    "## Input data into DataFrame and show details of every column\n",
    "pd.DataFrame(data=hotelDesc,\n",
    "            columns=[\n",
    "                'Features',\n",
    "                'DataType',\n",
    "                'Null',\n",
    "                'Null%',\n",
    "                'Unique',\n",
    "                'Sample'\n",
    "            ])"
   ]
  },
  {
   "cell_type": "markdown",
   "metadata": {},
   "source": [
    "From table above, we confirmed that no missing value detected in our dataset (for handling of missing value please refer to Activity 1.1). Our dataset is consist about information of every reservation made to the hotel, so each row of data consist of single reservation transaction from the information mainly about the customer including room and service request booked to the hotel. We will quickly define values and purpose of every columns below:"
   ]
  },
  {
   "cell_type": "markdown",
   "metadata": {},
   "source": [
    "#### `FEATURES COLUMN`"
   ]
  },
  {
   "cell_type": "markdown",
   "metadata": {},
   "source": [
    "#### 1.3.1. Country"
   ]
  },
  {
   "cell_type": "code",
   "execution_count": 12,
   "metadata": {},
   "outputs": [
    {
     "data": {
      "text/plain": [
       "array(['IRL', 'FRA', 'PRT', 'NLD', 'ESP', 'UMI', 'CN', 'LUX', 'BRA',\n",
       "       'BEL', 'JPN', 'DEU', 'ITA', 'CHE', 'GBR', 'AGO', 'SRB', 'COL',\n",
       "       'CHN', 'SWE', 'AUT', 'CIV', 'CZE', 'POL', 'USA', 'SGP', 'RUS',\n",
       "       'ROU', 'DNK', 'IND', 'MAR', 'PHL', 'ARG', 'ISL', 'ZAF', 'LBN',\n",
       "       'MOZ', 'TUR', 'BGD', 'MEX', 'CAF', 'NOR', 'FIN', 'UKR', 'EGY',\n",
       "       'ISR', 'Other', 'KOR', 'AZE', 'HUN', 'AUS', 'EST', 'CHL', 'SVN',\n",
       "       'PRY', 'ABW', 'ALB', 'LTU', 'ARE', 'HRV', 'SAU', 'NZL', 'LVA',\n",
       "       'ATA', 'KAZ', 'DZA', 'TWN', 'CRI', 'BIH', 'BGR', 'IRQ', 'OMN',\n",
       "       'VEN', 'IDN', 'GEO', 'MLT', 'IRN', 'BLR', 'URY', 'LBY', 'TUN',\n",
       "       'BEN', 'MYS', 'MWI', 'GRC', 'CYP', 'CPV', 'HKG', 'PRI', 'MKD',\n",
       "       'MUS', 'IMN', 'PAN', 'NGA', 'GLP', 'KHM', 'PER', 'QAT', 'SEN',\n",
       "       'MAC', 'SVK', 'BHR', 'ECU', 'SYC', 'BOL', 'TJK', 'LCA', 'MDV',\n",
       "       'SYR', 'ZMB', 'LIE', 'THA', 'MNE', 'BRB', 'CMR', 'JEY', 'GTM',\n",
       "       'LKA', 'JOR', 'TZA', 'AND', 'ARM', 'GIB', 'VNM', 'PAK', 'JAM',\n",
       "       'DOM', 'KWT', 'LAO', 'RWA', 'FRO', 'GAB', 'ETH', 'CUB', 'COM',\n",
       "       'GNB', 'GGY', 'NIC', 'TGO', 'TMP', 'CYM', 'GHA', 'SLE', 'BWA',\n",
       "       'NCL', 'UZB', 'SUR', 'SDN', 'PLW', 'MLI', 'MMR', 'BFA', 'SLV',\n",
       "       'BDI', 'ZWE', 'UGA', 'DMA', 'VGB', 'KIR', 'KEN', 'MYT', 'KNA',\n",
       "       'AIA'], dtype=object)"
      ]
     },
     "execution_count": 12,
     "metadata": {},
     "output_type": "execute_result"
    }
   ],
   "source": [
    "df['country'].unique()\n",
    "## Result: this column consist of country code of our customers.\n",
    "## We could also confirm that 'Other' value as part of our missing value handling activity is succesfully implemented."
   ]
  },
  {
   "cell_type": "code",
   "execution_count": 13,
   "metadata": {},
   "outputs": [
    {
     "data": {
      "text/plain": [
       "163"
      ]
     },
     "execution_count": 13,
     "metadata": {},
     "output_type": "execute_result"
    }
   ],
   "source": [
    "## Number of Unique Countries\n",
    "df['country'].nunique()\n",
    "## Result: Customers who made bookings on our website came from at least 162 countries.\n",
    "### From this result, we can assume that hotel in our dataset serve international market and presumably a high-end and luxurious hotel. "
   ]
  },
  {
   "cell_type": "markdown",
   "metadata": {},
   "source": [
    "Since `country` column contain data in object type and have no order in the value, we will perform Re-Categorize to make several class to this column."
   ]
  },
  {
   "cell_type": "code",
   "execution_count": 14,
   "metadata": {},
   "outputs": [
    {
     "data": {
      "text/html": [
       "<div>\n",
       "<style scoped>\n",
       "    .dataframe tbody tr th:only-of-type {\n",
       "        vertical-align: middle;\n",
       "    }\n",
       "\n",
       "    .dataframe tbody tr th {\n",
       "        vertical-align: top;\n",
       "    }\n",
       "\n",
       "    .dataframe thead th {\n",
       "        text-align: right;\n",
       "    }\n",
       "</style>\n",
       "<table border=\"1\" class=\"dataframe\">\n",
       "  <thead>\n",
       "    <tr style=\"text-align: right;\">\n",
       "      <th>col_0</th>\n",
       "      <th>Number of Bookings(%)</th>\n",
       "    </tr>\n",
       "    <tr>\n",
       "      <th>country</th>\n",
       "      <th></th>\n",
       "    </tr>\n",
       "  </thead>\n",
       "  <tbody>\n",
       "    <tr>\n",
       "      <th>PRT</th>\n",
       "      <td>40.80</td>\n",
       "    </tr>\n",
       "    <tr>\n",
       "      <th>GBR</th>\n",
       "      <td>10.16</td>\n",
       "    </tr>\n",
       "    <tr>\n",
       "      <th>FRA</th>\n",
       "      <td>8.74</td>\n",
       "    </tr>\n",
       "    <tr>\n",
       "      <th>ESP</th>\n",
       "      <td>7.17</td>\n",
       "    </tr>\n",
       "    <tr>\n",
       "      <th>DEU</th>\n",
       "      <td>6.12</td>\n",
       "    </tr>\n",
       "    <tr>\n",
       "      <th>ITA</th>\n",
       "      <td>3.18</td>\n",
       "    </tr>\n",
       "    <tr>\n",
       "      <th>IRL</th>\n",
       "      <td>2.80</td>\n",
       "    </tr>\n",
       "    <tr>\n",
       "      <th>BEL</th>\n",
       "      <td>1.97</td>\n",
       "    </tr>\n",
       "    <tr>\n",
       "      <th>BRA</th>\n",
       "      <td>1.86</td>\n",
       "    </tr>\n",
       "    <tr>\n",
       "      <th>USA</th>\n",
       "      <td>1.76</td>\n",
       "    </tr>\n",
       "  </tbody>\n",
       "</table>\n",
       "</div>"
      ],
      "text/plain": [
       "col_0    Number of Bookings(%)\n",
       "country                       \n",
       "PRT                      40.80\n",
       "GBR                      10.16\n",
       "FRA                       8.74\n",
       "ESP                       7.17\n",
       "DEU                       6.12\n",
       "ITA                       3.18\n",
       "IRL                       2.80\n",
       "BEL                       1.97\n",
       "BRA                       1.86\n",
       "USA                       1.76"
      ]
     },
     "execution_count": 14,
     "metadata": {},
     "output_type": "execute_result"
    }
   ],
   "source": [
    "## Define proportion of top 10 reservation made by country codes \n",
    "(pd.crosstab(index=df['country'], columns='Number of Bookings(%)', normalize=True)*100).round(2).sort_values('Number of Bookings(%)', ascending=False).head(10)"
   ]
  },
  {
   "cell_type": "markdown",
   "metadata": {},
   "source": [
    "From table above, bookings made by customer from PRT (Portugal) is substantially higher in proportion than any other countries, we divide them into transactions from Portugal and the rest of countries."
   ]
  },
  {
   "cell_type": "code",
   "execution_count": 15,
   "metadata": {},
   "outputs": [],
   "source": [
    "## Build function for Re-Categorize in `country` column\n",
    "def country(x):\n",
    "    if x == 'PRT':\n",
    "        return x\n",
    "    else:\n",
    "        return 'Others'"
   ]
  },
  {
   "cell_type": "code",
   "execution_count": 16,
   "metadata": {},
   "outputs": [
    {
     "data": {
      "text/html": [
       "<div>\n",
       "<style scoped>\n",
       "    .dataframe tbody tr th:only-of-type {\n",
       "        vertical-align: middle;\n",
       "    }\n",
       "\n",
       "    .dataframe tbody tr th {\n",
       "        vertical-align: top;\n",
       "    }\n",
       "\n",
       "    .dataframe thead th {\n",
       "        text-align: right;\n",
       "    }\n",
       "</style>\n",
       "<table border=\"1\" class=\"dataframe\">\n",
       "  <thead>\n",
       "    <tr style=\"text-align: right;\">\n",
       "      <th></th>\n",
       "      <th>market_segment</th>\n",
       "      <th>previous_cancellations</th>\n",
       "      <th>booking_changes</th>\n",
       "      <th>deposit_type</th>\n",
       "      <th>days_in_waiting_list</th>\n",
       "      <th>customer_type</th>\n",
       "      <th>reserved_room_type</th>\n",
       "      <th>required_car_parking_spaces</th>\n",
       "      <th>total_of_special_requests</th>\n",
       "      <th>is_canceled</th>\n",
       "      <th>country_Others</th>\n",
       "      <th>country_PRT</th>\n",
       "    </tr>\n",
       "  </thead>\n",
       "  <tbody>\n",
       "    <tr>\n",
       "      <th>0</th>\n",
       "      <td>Offline TA/TO</td>\n",
       "      <td>0</td>\n",
       "      <td>0</td>\n",
       "      <td>No Deposit</td>\n",
       "      <td>0</td>\n",
       "      <td>Transient-Party</td>\n",
       "      <td>A</td>\n",
       "      <td>0</td>\n",
       "      <td>0</td>\n",
       "      <td>0</td>\n",
       "      <td>1</td>\n",
       "      <td>0</td>\n",
       "    </tr>\n",
       "    <tr>\n",
       "      <th>1</th>\n",
       "      <td>Online TA</td>\n",
       "      <td>0</td>\n",
       "      <td>0</td>\n",
       "      <td>No Deposit</td>\n",
       "      <td>0</td>\n",
       "      <td>Transient</td>\n",
       "      <td>A</td>\n",
       "      <td>0</td>\n",
       "      <td>2</td>\n",
       "      <td>0</td>\n",
       "      <td>1</td>\n",
       "      <td>0</td>\n",
       "    </tr>\n",
       "    <tr>\n",
       "      <th>2</th>\n",
       "      <td>Online TA</td>\n",
       "      <td>0</td>\n",
       "      <td>1</td>\n",
       "      <td>No Deposit</td>\n",
       "      <td>0</td>\n",
       "      <td>Transient</td>\n",
       "      <td>A</td>\n",
       "      <td>0</td>\n",
       "      <td>2</td>\n",
       "      <td>0</td>\n",
       "      <td>0</td>\n",
       "      <td>1</td>\n",
       "    </tr>\n",
       "    <tr>\n",
       "      <th>3</th>\n",
       "      <td>Online TA</td>\n",
       "      <td>0</td>\n",
       "      <td>0</td>\n",
       "      <td>No Deposit</td>\n",
       "      <td>0</td>\n",
       "      <td>Transient</td>\n",
       "      <td>A</td>\n",
       "      <td>0</td>\n",
       "      <td>1</td>\n",
       "      <td>1</td>\n",
       "      <td>1</td>\n",
       "      <td>0</td>\n",
       "    </tr>\n",
       "    <tr>\n",
       "      <th>4</th>\n",
       "      <td>Online TA</td>\n",
       "      <td>0</td>\n",
       "      <td>2</td>\n",
       "      <td>No Deposit</td>\n",
       "      <td>0</td>\n",
       "      <td>Transient</td>\n",
       "      <td>A</td>\n",
       "      <td>0</td>\n",
       "      <td>2</td>\n",
       "      <td>0</td>\n",
       "      <td>0</td>\n",
       "      <td>1</td>\n",
       "    </tr>\n",
       "  </tbody>\n",
       "</table>\n",
       "</div>"
      ],
      "text/plain": [
       "  market_segment  previous_cancellations  booking_changes deposit_type  \\\n",
       "0  Offline TA/TO                       0                0   No Deposit   \n",
       "1      Online TA                       0                0   No Deposit   \n",
       "2      Online TA                       0                1   No Deposit   \n",
       "3      Online TA                       0                0   No Deposit   \n",
       "4      Online TA                       0                2   No Deposit   \n",
       "\n",
       "   days_in_waiting_list    customer_type reserved_room_type  \\\n",
       "0                     0  Transient-Party                  A   \n",
       "1                     0        Transient                  A   \n",
       "2                     0        Transient                  A   \n",
       "3                     0        Transient                  A   \n",
       "4                     0        Transient                  A   \n",
       "\n",
       "   required_car_parking_spaces  total_of_special_requests  is_canceled  \\\n",
       "0                            0                          0            0   \n",
       "1                            0                          2            0   \n",
       "2                            0                          2            0   \n",
       "3                            0                          1            1   \n",
       "4                            0                          2            0   \n",
       "\n",
       "   country_Others  country_PRT  \n",
       "0               1            0  \n",
       "1               1            0  \n",
       "2               0            1  \n",
       "3               1            0  \n",
       "4               0            1  "
      ]
     },
     "execution_count": 16,
     "metadata": {},
     "output_type": "execute_result"
    }
   ],
   "source": [
    "## Apply Re-Categorize function\n",
    "df['country'] = df['country'].apply(country)\n",
    "## Directly perform One-Hot Encoding\n",
    "df = pd.get_dummies(df, columns=['country'])\n",
    "## Show Table after Encoding\n",
    "df.head()\n",
    "## Result: Original `country` column has been eliminated and encoding result appear at the end of DataFrame"
   ]
  },
  {
   "cell_type": "markdown",
   "metadata": {},
   "source": [
    "#### 1.3.2. Market Segment"
   ]
  },
  {
   "cell_type": "code",
   "execution_count": 17,
   "metadata": {},
   "outputs": [
    {
     "data": {
      "text/plain": [
       "array(['Offline TA/TO', 'Online TA', 'Direct', 'Groups', 'Corporate',\n",
       "       'Complementary', 'Aviation', 'Undefined'], dtype=object)"
      ]
     },
     "execution_count": 17,
     "metadata": {},
     "output_type": "execute_result"
    }
   ],
   "source": [
    "df['market_segment'].unique()\n",
    "## Result: This column define customer segment by how they made their reservation to the hotel.\n",
    "## Values varied by reservation made by offline with travel agent, online by travel agent, direct offline (walk-in), group reservation,\n",
    "### business/purposes, bonus/complementary stay, aviation staff purposes and others."
   ]
  },
  {
   "cell_type": "markdown",
   "metadata": {},
   "source": [
    "Since `country` column contain data in object type and have no order in the value, we will perform Re-Categorize to make several class to this column."
   ]
  },
  {
   "cell_type": "code",
   "execution_count": 18,
   "metadata": {},
   "outputs": [
    {
     "data": {
      "text/html": [
       "<div>\n",
       "<style scoped>\n",
       "    .dataframe tbody tr th:only-of-type {\n",
       "        vertical-align: middle;\n",
       "    }\n",
       "\n",
       "    .dataframe tbody tr th {\n",
       "        vertical-align: top;\n",
       "    }\n",
       "\n",
       "    .dataframe thead th {\n",
       "        text-align: right;\n",
       "    }\n",
       "</style>\n",
       "<table border=\"1\" class=\"dataframe\">\n",
       "  <thead>\n",
       "    <tr style=\"text-align: right;\">\n",
       "      <th>col_0</th>\n",
       "      <th>Number of Bookings(%)</th>\n",
       "    </tr>\n",
       "    <tr>\n",
       "      <th>market_segment</th>\n",
       "      <th></th>\n",
       "    </tr>\n",
       "  </thead>\n",
       "  <tbody>\n",
       "    <tr>\n",
       "      <th>Online TA</th>\n",
       "      <td>47.22</td>\n",
       "    </tr>\n",
       "    <tr>\n",
       "      <th>Offline TA/TO</th>\n",
       "      <td>20.37</td>\n",
       "    </tr>\n",
       "    <tr>\n",
       "      <th>Groups</th>\n",
       "      <td>16.42</td>\n",
       "    </tr>\n",
       "    <tr>\n",
       "      <th>Direct</th>\n",
       "      <td>10.65</td>\n",
       "    </tr>\n",
       "    <tr>\n",
       "      <th>Corporate</th>\n",
       "      <td>4.54</td>\n",
       "    </tr>\n",
       "    <tr>\n",
       "      <th>Complementary</th>\n",
       "      <td>0.61</td>\n",
       "    </tr>\n",
       "    <tr>\n",
       "      <th>Aviation</th>\n",
       "      <td>0.20</td>\n",
       "    </tr>\n",
       "    <tr>\n",
       "      <th>Undefined</th>\n",
       "      <td>0.00</td>\n",
       "    </tr>\n",
       "  </tbody>\n",
       "</table>\n",
       "</div>"
      ],
      "text/plain": [
       "col_0           Number of Bookings(%)\n",
       "market_segment                       \n",
       "Online TA                       47.22\n",
       "Offline TA/TO                   20.37\n",
       "Groups                          16.42\n",
       "Direct                          10.65\n",
       "Corporate                        4.54\n",
       "Complementary                    0.61\n",
       "Aviation                         0.20\n",
       "Undefined                        0.00"
      ]
     },
     "execution_count": 18,
     "metadata": {},
     "output_type": "execute_result"
    }
   ],
   "source": [
    "## Define reservation made by customers segmentation \n",
    "(pd.crosstab(index=df['market_segment'], columns='Number of Bookings(%)', normalize=True)*100).round(2).sort_values('Number of Bookings(%)', ascending=False).head(10)"
   ]
  },
  {
   "cell_type": "markdown",
   "metadata": {},
   "source": [
    "From table above, bookings made by customer from Online-by-Travel-Agent is substantially higher than any other segment, we divide them into transactions from Online with Travel Agent and the rest."
   ]
  },
  {
   "cell_type": "code",
   "execution_count": 19,
   "metadata": {},
   "outputs": [],
   "source": [
    "## Build function for Re-Categorize in `market_segment` column\n",
    "def segment(x):\n",
    "    if x == 'Online TA':\n",
    "        return x\n",
    "    else:\n",
    "        return 'Others'"
   ]
  },
  {
   "cell_type": "code",
   "execution_count": 20,
   "metadata": {},
   "outputs": [
    {
     "data": {
      "text/html": [
       "<div>\n",
       "<style scoped>\n",
       "    .dataframe tbody tr th:only-of-type {\n",
       "        vertical-align: middle;\n",
       "    }\n",
       "\n",
       "    .dataframe tbody tr th {\n",
       "        vertical-align: top;\n",
       "    }\n",
       "\n",
       "    .dataframe thead th {\n",
       "        text-align: right;\n",
       "    }\n",
       "</style>\n",
       "<table border=\"1\" class=\"dataframe\">\n",
       "  <thead>\n",
       "    <tr style=\"text-align: right;\">\n",
       "      <th></th>\n",
       "      <th>previous_cancellations</th>\n",
       "      <th>booking_changes</th>\n",
       "      <th>deposit_type</th>\n",
       "      <th>days_in_waiting_list</th>\n",
       "      <th>customer_type</th>\n",
       "      <th>reserved_room_type</th>\n",
       "      <th>required_car_parking_spaces</th>\n",
       "      <th>total_of_special_requests</th>\n",
       "      <th>is_canceled</th>\n",
       "      <th>country_Others</th>\n",
       "      <th>country_PRT</th>\n",
       "      <th>market_segment_Online TA</th>\n",
       "      <th>market_segment_Others</th>\n",
       "    </tr>\n",
       "  </thead>\n",
       "  <tbody>\n",
       "    <tr>\n",
       "      <th>0</th>\n",
       "      <td>0</td>\n",
       "      <td>0</td>\n",
       "      <td>No Deposit</td>\n",
       "      <td>0</td>\n",
       "      <td>Transient-Party</td>\n",
       "      <td>A</td>\n",
       "      <td>0</td>\n",
       "      <td>0</td>\n",
       "      <td>0</td>\n",
       "      <td>1</td>\n",
       "      <td>0</td>\n",
       "      <td>0</td>\n",
       "      <td>1</td>\n",
       "    </tr>\n",
       "    <tr>\n",
       "      <th>1</th>\n",
       "      <td>0</td>\n",
       "      <td>0</td>\n",
       "      <td>No Deposit</td>\n",
       "      <td>0</td>\n",
       "      <td>Transient</td>\n",
       "      <td>A</td>\n",
       "      <td>0</td>\n",
       "      <td>2</td>\n",
       "      <td>0</td>\n",
       "      <td>1</td>\n",
       "      <td>0</td>\n",
       "      <td>1</td>\n",
       "      <td>0</td>\n",
       "    </tr>\n",
       "    <tr>\n",
       "      <th>2</th>\n",
       "      <td>0</td>\n",
       "      <td>1</td>\n",
       "      <td>No Deposit</td>\n",
       "      <td>0</td>\n",
       "      <td>Transient</td>\n",
       "      <td>A</td>\n",
       "      <td>0</td>\n",
       "      <td>2</td>\n",
       "      <td>0</td>\n",
       "      <td>0</td>\n",
       "      <td>1</td>\n",
       "      <td>1</td>\n",
       "      <td>0</td>\n",
       "    </tr>\n",
       "    <tr>\n",
       "      <th>3</th>\n",
       "      <td>0</td>\n",
       "      <td>0</td>\n",
       "      <td>No Deposit</td>\n",
       "      <td>0</td>\n",
       "      <td>Transient</td>\n",
       "      <td>A</td>\n",
       "      <td>0</td>\n",
       "      <td>1</td>\n",
       "      <td>1</td>\n",
       "      <td>1</td>\n",
       "      <td>0</td>\n",
       "      <td>1</td>\n",
       "      <td>0</td>\n",
       "    </tr>\n",
       "    <tr>\n",
       "      <th>4</th>\n",
       "      <td>0</td>\n",
       "      <td>2</td>\n",
       "      <td>No Deposit</td>\n",
       "      <td>0</td>\n",
       "      <td>Transient</td>\n",
       "      <td>A</td>\n",
       "      <td>0</td>\n",
       "      <td>2</td>\n",
       "      <td>0</td>\n",
       "      <td>0</td>\n",
       "      <td>1</td>\n",
       "      <td>1</td>\n",
       "      <td>0</td>\n",
       "    </tr>\n",
       "  </tbody>\n",
       "</table>\n",
       "</div>"
      ],
      "text/plain": [
       "   previous_cancellations  booking_changes deposit_type  days_in_waiting_list  \\\n",
       "0                       0                0   No Deposit                     0   \n",
       "1                       0                0   No Deposit                     0   \n",
       "2                       0                1   No Deposit                     0   \n",
       "3                       0                0   No Deposit                     0   \n",
       "4                       0                2   No Deposit                     0   \n",
       "\n",
       "     customer_type reserved_room_type  required_car_parking_spaces  \\\n",
       "0  Transient-Party                  A                            0   \n",
       "1        Transient                  A                            0   \n",
       "2        Transient                  A                            0   \n",
       "3        Transient                  A                            0   \n",
       "4        Transient                  A                            0   \n",
       "\n",
       "   total_of_special_requests  is_canceled  country_Others  country_PRT  \\\n",
       "0                          0            0               1            0   \n",
       "1                          2            0               1            0   \n",
       "2                          2            0               0            1   \n",
       "3                          1            1               1            0   \n",
       "4                          2            0               0            1   \n",
       "\n",
       "   market_segment_Online TA  market_segment_Others  \n",
       "0                         0                      1  \n",
       "1                         1                      0  \n",
       "2                         1                      0  \n",
       "3                         1                      0  \n",
       "4                         1                      0  "
      ]
     },
     "execution_count": 20,
     "metadata": {},
     "output_type": "execute_result"
    }
   ],
   "source": [
    "## Apply Re-Categorize function\n",
    "df['market_segment'] = df['market_segment'].apply(segment)\n",
    "## Directly perform One-Hot Encoding\n",
    "df = pd.get_dummies(df, columns=['market_segment'])\n",
    "## Show Table after Encoding\n",
    "df.head()\n",
    "## Result: Original `market_segment` column has been eliminated and encoding result appear at the end of DataFrame"
   ]
  },
  {
   "cell_type": "markdown",
   "metadata": {},
   "source": [
    "#### 1.3.3. Previous Cancellations"
   ]
  },
  {
   "cell_type": "code",
   "execution_count": 21,
   "metadata": {},
   "outputs": [
    {
     "data": {
      "text/plain": [
       "array([ 0,  1, 25,  2,  3, 11, 24, 13,  6, 26, 14,  4, 19,  5, 21],\n",
       "      dtype=int64)"
      ]
     },
     "execution_count": 21,
     "metadata": {},
     "output_type": "execute_result"
    }
   ],
   "source": [
    "df['previous_cancellations'].unique()\n",
    "## Result: This column define whether particular customers ever made any cancellations for their bookings before.\n",
    "## Since this column is already in integer type, we did not perform encoding to this column"
   ]
  },
  {
   "cell_type": "markdown",
   "metadata": {},
   "source": [
    "#### 1.3.4. Booking Changes"
   ]
  },
  {
   "cell_type": "code",
   "execution_count": 22,
   "metadata": {},
   "outputs": [
    {
     "data": {
      "text/plain": [
       "array([ 0,  1,  2,  5,  3,  4,  6,  7,  9,  8, 17, 10, 13, 12, 14, 21, 16,\n",
       "       20, 15], dtype=int64)"
      ]
     },
     "execution_count": 22,
     "metadata": {},
     "output_type": "execute_result"
    }
   ],
   "source": [
    "df['booking_changes'].unique()\n",
    "## Result: This column define whether there is any changes made to the reservation.\n",
    "## Since this column is already in integer type, we did not perform encoding to this column"
   ]
  },
  {
   "cell_type": "markdown",
   "metadata": {},
   "source": [
    "#### 1.3.5 Deposit Type"
   ]
  },
  {
   "cell_type": "code",
   "execution_count": 23,
   "metadata": {},
   "outputs": [
    {
     "data": {
      "text/plain": [
       "array(['No Deposit', 'Non Refund', 'Refundable'], dtype=object)"
      ]
     },
     "execution_count": 23,
     "metadata": {},
     "output_type": "execute_result"
    }
   ],
   "source": [
    "df['deposit_type'].unique()\n",
    "## Result: This column define deposit type for every bookings."
   ]
  },
  {
   "cell_type": "markdown",
   "metadata": {},
   "source": [
    "Since `deposit_type` column contain data in object type, have only 3 type of values and have no order in the value, we will directly perform One-Hot Encoding to this column."
   ]
  },
  {
   "cell_type": "code",
   "execution_count": 24,
   "metadata": {},
   "outputs": [
    {
     "data": {
      "text/html": [
       "<div>\n",
       "<style scoped>\n",
       "    .dataframe tbody tr th:only-of-type {\n",
       "        vertical-align: middle;\n",
       "    }\n",
       "\n",
       "    .dataframe tbody tr th {\n",
       "        vertical-align: top;\n",
       "    }\n",
       "\n",
       "    .dataframe thead th {\n",
       "        text-align: right;\n",
       "    }\n",
       "</style>\n",
       "<table border=\"1\" class=\"dataframe\">\n",
       "  <thead>\n",
       "    <tr style=\"text-align: right;\">\n",
       "      <th></th>\n",
       "      <th>previous_cancellations</th>\n",
       "      <th>booking_changes</th>\n",
       "      <th>days_in_waiting_list</th>\n",
       "      <th>customer_type</th>\n",
       "      <th>reserved_room_type</th>\n",
       "      <th>required_car_parking_spaces</th>\n",
       "      <th>total_of_special_requests</th>\n",
       "      <th>is_canceled</th>\n",
       "      <th>country_Others</th>\n",
       "      <th>country_PRT</th>\n",
       "      <th>market_segment_Online TA</th>\n",
       "      <th>market_segment_Others</th>\n",
       "      <th>deposit_type_No Deposit</th>\n",
       "      <th>deposit_type_Non Refund</th>\n",
       "      <th>deposit_type_Refundable</th>\n",
       "    </tr>\n",
       "  </thead>\n",
       "  <tbody>\n",
       "    <tr>\n",
       "      <th>0</th>\n",
       "      <td>0</td>\n",
       "      <td>0</td>\n",
       "      <td>0</td>\n",
       "      <td>Transient-Party</td>\n",
       "      <td>A</td>\n",
       "      <td>0</td>\n",
       "      <td>0</td>\n",
       "      <td>0</td>\n",
       "      <td>1</td>\n",
       "      <td>0</td>\n",
       "      <td>0</td>\n",
       "      <td>1</td>\n",
       "      <td>1</td>\n",
       "      <td>0</td>\n",
       "      <td>0</td>\n",
       "    </tr>\n",
       "    <tr>\n",
       "      <th>1</th>\n",
       "      <td>0</td>\n",
       "      <td>0</td>\n",
       "      <td>0</td>\n",
       "      <td>Transient</td>\n",
       "      <td>A</td>\n",
       "      <td>0</td>\n",
       "      <td>2</td>\n",
       "      <td>0</td>\n",
       "      <td>1</td>\n",
       "      <td>0</td>\n",
       "      <td>1</td>\n",
       "      <td>0</td>\n",
       "      <td>1</td>\n",
       "      <td>0</td>\n",
       "      <td>0</td>\n",
       "    </tr>\n",
       "    <tr>\n",
       "      <th>2</th>\n",
       "      <td>0</td>\n",
       "      <td>1</td>\n",
       "      <td>0</td>\n",
       "      <td>Transient</td>\n",
       "      <td>A</td>\n",
       "      <td>0</td>\n",
       "      <td>2</td>\n",
       "      <td>0</td>\n",
       "      <td>0</td>\n",
       "      <td>1</td>\n",
       "      <td>1</td>\n",
       "      <td>0</td>\n",
       "      <td>1</td>\n",
       "      <td>0</td>\n",
       "      <td>0</td>\n",
       "    </tr>\n",
       "    <tr>\n",
       "      <th>3</th>\n",
       "      <td>0</td>\n",
       "      <td>0</td>\n",
       "      <td>0</td>\n",
       "      <td>Transient</td>\n",
       "      <td>A</td>\n",
       "      <td>0</td>\n",
       "      <td>1</td>\n",
       "      <td>1</td>\n",
       "      <td>1</td>\n",
       "      <td>0</td>\n",
       "      <td>1</td>\n",
       "      <td>0</td>\n",
       "      <td>1</td>\n",
       "      <td>0</td>\n",
       "      <td>0</td>\n",
       "    </tr>\n",
       "    <tr>\n",
       "      <th>4</th>\n",
       "      <td>0</td>\n",
       "      <td>2</td>\n",
       "      <td>0</td>\n",
       "      <td>Transient</td>\n",
       "      <td>A</td>\n",
       "      <td>0</td>\n",
       "      <td>2</td>\n",
       "      <td>0</td>\n",
       "      <td>0</td>\n",
       "      <td>1</td>\n",
       "      <td>1</td>\n",
       "      <td>0</td>\n",
       "      <td>1</td>\n",
       "      <td>0</td>\n",
       "      <td>0</td>\n",
       "    </tr>\n",
       "  </tbody>\n",
       "</table>\n",
       "</div>"
      ],
      "text/plain": [
       "   previous_cancellations  booking_changes  days_in_waiting_list  \\\n",
       "0                       0                0                     0   \n",
       "1                       0                0                     0   \n",
       "2                       0                1                     0   \n",
       "3                       0                0                     0   \n",
       "4                       0                2                     0   \n",
       "\n",
       "     customer_type reserved_room_type  required_car_parking_spaces  \\\n",
       "0  Transient-Party                  A                            0   \n",
       "1        Transient                  A                            0   \n",
       "2        Transient                  A                            0   \n",
       "3        Transient                  A                            0   \n",
       "4        Transient                  A                            0   \n",
       "\n",
       "   total_of_special_requests  is_canceled  country_Others  country_PRT  \\\n",
       "0                          0            0               1            0   \n",
       "1                          2            0               1            0   \n",
       "2                          2            0               0            1   \n",
       "3                          1            1               1            0   \n",
       "4                          2            0               0            1   \n",
       "\n",
       "   market_segment_Online TA  market_segment_Others  deposit_type_No Deposit  \\\n",
       "0                         0                      1                        1   \n",
       "1                         1                      0                        1   \n",
       "2                         1                      0                        1   \n",
       "3                         1                      0                        1   \n",
       "4                         1                      0                        1   \n",
       "\n",
       "   deposit_type_Non Refund  deposit_type_Refundable  \n",
       "0                        0                        0  \n",
       "1                        0                        0  \n",
       "2                        0                        0  \n",
       "3                        0                        0  \n",
       "4                        0                        0  "
      ]
     },
     "execution_count": 24,
     "metadata": {},
     "output_type": "execute_result"
    }
   ],
   "source": [
    "## Directly perform One-Hot Encoding\n",
    "df = pd.get_dummies(df, columns=['deposit_type'])\n",
    "## Show Table after Encoding\n",
    "df.head()\n",
    "## Result: Original `deposit_type` column has been eliminated and encoding result appear at the end of DataFrame"
   ]
  },
  {
   "cell_type": "markdown",
   "metadata": {},
   "source": [
    "#### 1.3.6. Days in Waiting List"
   ]
  },
  {
   "cell_type": "code",
   "execution_count": 25,
   "metadata": {},
   "outputs": [
    {
     "data": {
      "text/plain": [
       "array([  0,   3,  39,  87,  77, 215,  97, 162,  46,  79,   4,  31, 122,\n",
       "        34,  57, 259,  50,  17,  32,  43,  75,  69,  44,  22, 113,  58,\n",
       "        38,  65,  48, 236, 176,  25, 108,  91,  19, 160,  68,  28,  63,\n",
       "        35,  42,  59,  24,   8, 183, 187,  21, 111,  56,  98, 101,  15,\n",
       "        16,  47,  93,  45,  14,  70,  10,  49, 178,  99,  60,  40,  85,\n",
       "       223,   6,  33, 391,  20,   1,  41, 147,  55,  80, 379, 150,  61,\n",
       "       330, 174, 107,  96,  18,  62,  13,  30, 120,  27, 207,  71,   2,\n",
       "        76, 125,   5,   9, 224,  53,  83,  84,  12,  73, 100,  92,  23,\n",
       "        11, 105,  26, 193,   7, 165,  74, 121,  36,  64, 185], dtype=int64)"
      ]
     },
     "execution_count": 25,
     "metadata": {},
     "output_type": "execute_result"
    }
   ],
   "source": [
    "df['days_in_waiting_list'].unique()\n",
    "## Result: This column define days of customers in waiting list before giving chance for reservation.\n",
    "## Since this column is already in integer type, we did not perform encoding to this column"
   ]
  },
  {
   "cell_type": "markdown",
   "metadata": {},
   "source": [
    "#### 1.3.7. Customer Type"
   ]
  },
  {
   "cell_type": "code",
   "execution_count": 26,
   "metadata": {},
   "outputs": [
    {
     "data": {
      "text/plain": [
       "array(['Transient-Party', 'Transient', 'Contract', 'Group'], dtype=object)"
      ]
     },
     "execution_count": 26,
     "metadata": {},
     "output_type": "execute_result"
    }
   ],
   "source": [
    "df['customer_type'].unique()\n",
    "## Result: This column define type of customers whether made for personal/single room (Transient) or in group."
   ]
  },
  {
   "cell_type": "markdown",
   "metadata": {},
   "source": [
    "Since `customer_type` column contain data in object type, only have 4 values and have no order in the value, we will directly perform One-Hot Encoding to this column."
   ]
  },
  {
   "cell_type": "code",
   "execution_count": 27,
   "metadata": {},
   "outputs": [
    {
     "data": {
      "text/html": [
       "<div>\n",
       "<style scoped>\n",
       "    .dataframe tbody tr th:only-of-type {\n",
       "        vertical-align: middle;\n",
       "    }\n",
       "\n",
       "    .dataframe tbody tr th {\n",
       "        vertical-align: top;\n",
       "    }\n",
       "\n",
       "    .dataframe thead th {\n",
       "        text-align: right;\n",
       "    }\n",
       "</style>\n",
       "<table border=\"1\" class=\"dataframe\">\n",
       "  <thead>\n",
       "    <tr style=\"text-align: right;\">\n",
       "      <th></th>\n",
       "      <th>previous_cancellations</th>\n",
       "      <th>booking_changes</th>\n",
       "      <th>days_in_waiting_list</th>\n",
       "      <th>reserved_room_type</th>\n",
       "      <th>required_car_parking_spaces</th>\n",
       "      <th>total_of_special_requests</th>\n",
       "      <th>is_canceled</th>\n",
       "      <th>country_Others</th>\n",
       "      <th>country_PRT</th>\n",
       "      <th>market_segment_Online TA</th>\n",
       "      <th>market_segment_Others</th>\n",
       "      <th>deposit_type_No Deposit</th>\n",
       "      <th>deposit_type_Non Refund</th>\n",
       "      <th>deposit_type_Refundable</th>\n",
       "      <th>customer_type_Contract</th>\n",
       "      <th>customer_type_Group</th>\n",
       "      <th>customer_type_Transient</th>\n",
       "      <th>customer_type_Transient-Party</th>\n",
       "    </tr>\n",
       "  </thead>\n",
       "  <tbody>\n",
       "    <tr>\n",
       "      <th>0</th>\n",
       "      <td>0</td>\n",
       "      <td>0</td>\n",
       "      <td>0</td>\n",
       "      <td>A</td>\n",
       "      <td>0</td>\n",
       "      <td>0</td>\n",
       "      <td>0</td>\n",
       "      <td>1</td>\n",
       "      <td>0</td>\n",
       "      <td>0</td>\n",
       "      <td>1</td>\n",
       "      <td>1</td>\n",
       "      <td>0</td>\n",
       "      <td>0</td>\n",
       "      <td>0</td>\n",
       "      <td>0</td>\n",
       "      <td>0</td>\n",
       "      <td>1</td>\n",
       "    </tr>\n",
       "    <tr>\n",
       "      <th>1</th>\n",
       "      <td>0</td>\n",
       "      <td>0</td>\n",
       "      <td>0</td>\n",
       "      <td>A</td>\n",
       "      <td>0</td>\n",
       "      <td>2</td>\n",
       "      <td>0</td>\n",
       "      <td>1</td>\n",
       "      <td>0</td>\n",
       "      <td>1</td>\n",
       "      <td>0</td>\n",
       "      <td>1</td>\n",
       "      <td>0</td>\n",
       "      <td>0</td>\n",
       "      <td>0</td>\n",
       "      <td>0</td>\n",
       "      <td>1</td>\n",
       "      <td>0</td>\n",
       "    </tr>\n",
       "    <tr>\n",
       "      <th>2</th>\n",
       "      <td>0</td>\n",
       "      <td>1</td>\n",
       "      <td>0</td>\n",
       "      <td>A</td>\n",
       "      <td>0</td>\n",
       "      <td>2</td>\n",
       "      <td>0</td>\n",
       "      <td>0</td>\n",
       "      <td>1</td>\n",
       "      <td>1</td>\n",
       "      <td>0</td>\n",
       "      <td>1</td>\n",
       "      <td>0</td>\n",
       "      <td>0</td>\n",
       "      <td>0</td>\n",
       "      <td>0</td>\n",
       "      <td>1</td>\n",
       "      <td>0</td>\n",
       "    </tr>\n",
       "    <tr>\n",
       "      <th>3</th>\n",
       "      <td>0</td>\n",
       "      <td>0</td>\n",
       "      <td>0</td>\n",
       "      <td>A</td>\n",
       "      <td>0</td>\n",
       "      <td>1</td>\n",
       "      <td>1</td>\n",
       "      <td>1</td>\n",
       "      <td>0</td>\n",
       "      <td>1</td>\n",
       "      <td>0</td>\n",
       "      <td>1</td>\n",
       "      <td>0</td>\n",
       "      <td>0</td>\n",
       "      <td>0</td>\n",
       "      <td>0</td>\n",
       "      <td>1</td>\n",
       "      <td>0</td>\n",
       "    </tr>\n",
       "    <tr>\n",
       "      <th>4</th>\n",
       "      <td>0</td>\n",
       "      <td>2</td>\n",
       "      <td>0</td>\n",
       "      <td>A</td>\n",
       "      <td>0</td>\n",
       "      <td>2</td>\n",
       "      <td>0</td>\n",
       "      <td>0</td>\n",
       "      <td>1</td>\n",
       "      <td>1</td>\n",
       "      <td>0</td>\n",
       "      <td>1</td>\n",
       "      <td>0</td>\n",
       "      <td>0</td>\n",
       "      <td>0</td>\n",
       "      <td>0</td>\n",
       "      <td>1</td>\n",
       "      <td>0</td>\n",
       "    </tr>\n",
       "  </tbody>\n",
       "</table>\n",
       "</div>"
      ],
      "text/plain": [
       "   previous_cancellations  booking_changes  days_in_waiting_list  \\\n",
       "0                       0                0                     0   \n",
       "1                       0                0                     0   \n",
       "2                       0                1                     0   \n",
       "3                       0                0                     0   \n",
       "4                       0                2                     0   \n",
       "\n",
       "  reserved_room_type  required_car_parking_spaces  total_of_special_requests  \\\n",
       "0                  A                            0                          0   \n",
       "1                  A                            0                          2   \n",
       "2                  A                            0                          2   \n",
       "3                  A                            0                          1   \n",
       "4                  A                            0                          2   \n",
       "\n",
       "   is_canceled  country_Others  country_PRT  market_segment_Online TA  \\\n",
       "0            0               1            0                         0   \n",
       "1            0               1            0                         1   \n",
       "2            0               0            1                         1   \n",
       "3            1               1            0                         1   \n",
       "4            0               0            1                         1   \n",
       "\n",
       "   market_segment_Others  deposit_type_No Deposit  deposit_type_Non Refund  \\\n",
       "0                      1                        1                        0   \n",
       "1                      0                        1                        0   \n",
       "2                      0                        1                        0   \n",
       "3                      0                        1                        0   \n",
       "4                      0                        1                        0   \n",
       "\n",
       "   deposit_type_Refundable  customer_type_Contract  customer_type_Group  \\\n",
       "0                        0                       0                    0   \n",
       "1                        0                       0                    0   \n",
       "2                        0                       0                    0   \n",
       "3                        0                       0                    0   \n",
       "4                        0                       0                    0   \n",
       "\n",
       "   customer_type_Transient  customer_type_Transient-Party  \n",
       "0                        0                              1  \n",
       "1                        1                              0  \n",
       "2                        1                              0  \n",
       "3                        1                              0  \n",
       "4                        1                              0  "
      ]
     },
     "execution_count": 27,
     "metadata": {},
     "output_type": "execute_result"
    }
   ],
   "source": [
    "## Directly perform One-Hot Encoding\n",
    "df = pd.get_dummies(df, columns=['customer_type'])\n",
    "## Show Table after Encoding\n",
    "df.head()\n",
    "## Result: Original `customer_type` column has been eliminated and encoding result appear at the end of DataFrame"
   ]
  },
  {
   "cell_type": "markdown",
   "metadata": {},
   "source": [
    "#### 1.3.8. Reserved Room Type"
   ]
  },
  {
   "cell_type": "code",
   "execution_count": 28,
   "metadata": {},
   "outputs": [
    {
     "data": {
      "text/plain": [
       "array(['A', 'E', 'D', 'F', 'B', 'G', 'C', 'H', 'L', 'P'], dtype=object)"
      ]
     },
     "execution_count": 28,
     "metadata": {},
     "output_type": "execute_result"
    }
   ],
   "source": [
    "df['reserved_room_type'].unique()\n",
    "## Result: This column define room type of each bookings."
   ]
  },
  {
   "cell_type": "markdown",
   "metadata": {},
   "source": [
    "Ideally, room type would be divided into several class, and each class would have different facilities, size and services and therefore have different rate for each room type. However, since we did not have information about what every of this class differentiate to the others, we will treat them as they have no order in the value, and we will perform Re-Categorize to make several class to this column."
   ]
  },
  {
   "cell_type": "code",
   "execution_count": 29,
   "metadata": {},
   "outputs": [
    {
     "data": {
      "text/html": [
       "<div>\n",
       "<style scoped>\n",
       "    .dataframe tbody tr th:only-of-type {\n",
       "        vertical-align: middle;\n",
       "    }\n",
       "\n",
       "    .dataframe tbody tr th {\n",
       "        vertical-align: top;\n",
       "    }\n",
       "\n",
       "    .dataframe thead th {\n",
       "        text-align: right;\n",
       "    }\n",
       "</style>\n",
       "<table border=\"1\" class=\"dataframe\">\n",
       "  <thead>\n",
       "    <tr style=\"text-align: right;\">\n",
       "      <th>col_0</th>\n",
       "      <th>Number of Bookings(%)</th>\n",
       "    </tr>\n",
       "    <tr>\n",
       "      <th>reserved_room_type</th>\n",
       "      <th></th>\n",
       "    </tr>\n",
       "  </thead>\n",
       "  <tbody>\n",
       "    <tr>\n",
       "      <th>A</th>\n",
       "      <td>71.84</td>\n",
       "    </tr>\n",
       "    <tr>\n",
       "      <th>D</th>\n",
       "      <td>16.18</td>\n",
       "    </tr>\n",
       "    <tr>\n",
       "      <th>E</th>\n",
       "      <td>5.56</td>\n",
       "    </tr>\n",
       "    <tr>\n",
       "      <th>F</th>\n",
       "      <td>2.44</td>\n",
       "    </tr>\n",
       "    <tr>\n",
       "      <th>G</th>\n",
       "      <td>1.73</td>\n",
       "    </tr>\n",
       "    <tr>\n",
       "      <th>B</th>\n",
       "      <td>0.94</td>\n",
       "    </tr>\n",
       "    <tr>\n",
       "      <th>C</th>\n",
       "      <td>0.81</td>\n",
       "    </tr>\n",
       "    <tr>\n",
       "      <th>H</th>\n",
       "      <td>0.48</td>\n",
       "    </tr>\n",
       "    <tr>\n",
       "      <th>P</th>\n",
       "      <td>0.01</td>\n",
       "    </tr>\n",
       "    <tr>\n",
       "      <th>L</th>\n",
       "      <td>0.00</td>\n",
       "    </tr>\n",
       "  </tbody>\n",
       "</table>\n",
       "</div>"
      ],
      "text/plain": [
       "col_0               Number of Bookings(%)\n",
       "reserved_room_type                       \n",
       "A                                   71.84\n",
       "D                                   16.18\n",
       "E                                    5.56\n",
       "F                                    2.44\n",
       "G                                    1.73\n",
       "B                                    0.94\n",
       "C                                    0.81\n",
       "H                                    0.48\n",
       "P                                    0.01\n",
       "L                                    0.00"
      ]
     },
     "execution_count": 29,
     "metadata": {},
     "output_type": "execute_result"
    }
   ],
   "source": [
    "## Define reservation made by room type \n",
    "(pd.crosstab(index=df['reserved_room_type'], columns='Number of Bookings(%)', normalize=True)*100).round(2).sort_values('Number of Bookings(%)', ascending=False).head(10)"
   ]
  },
  {
   "cell_type": "markdown",
   "metadata": {},
   "source": [
    "From table above, bookings made by customer for room type A is substantially higher than any other room types, we divide them into bookings for room type A and the rest."
   ]
  },
  {
   "cell_type": "code",
   "execution_count": 30,
   "metadata": {},
   "outputs": [],
   "source": [
    "## Build function for Re-Categorize in `reserved_room_type` column\n",
    "def room_type(x):\n",
    "    if x == 'A':\n",
    "        return x\n",
    "    else:\n",
    "        return 'Others'"
   ]
  },
  {
   "cell_type": "code",
   "execution_count": 31,
   "metadata": {},
   "outputs": [
    {
     "data": {
      "text/html": [
       "<div>\n",
       "<style scoped>\n",
       "    .dataframe tbody tr th:only-of-type {\n",
       "        vertical-align: middle;\n",
       "    }\n",
       "\n",
       "    .dataframe tbody tr th {\n",
       "        vertical-align: top;\n",
       "    }\n",
       "\n",
       "    .dataframe thead th {\n",
       "        text-align: right;\n",
       "    }\n",
       "</style>\n",
       "<table border=\"1\" class=\"dataframe\">\n",
       "  <thead>\n",
       "    <tr style=\"text-align: right;\">\n",
       "      <th></th>\n",
       "      <th>previous_cancellations</th>\n",
       "      <th>booking_changes</th>\n",
       "      <th>days_in_waiting_list</th>\n",
       "      <th>required_car_parking_spaces</th>\n",
       "      <th>total_of_special_requests</th>\n",
       "      <th>is_canceled</th>\n",
       "      <th>country_Others</th>\n",
       "      <th>country_PRT</th>\n",
       "      <th>market_segment_Online TA</th>\n",
       "      <th>market_segment_Others</th>\n",
       "      <th>deposit_type_No Deposit</th>\n",
       "      <th>deposit_type_Non Refund</th>\n",
       "      <th>deposit_type_Refundable</th>\n",
       "      <th>customer_type_Contract</th>\n",
       "      <th>customer_type_Group</th>\n",
       "      <th>customer_type_Transient</th>\n",
       "      <th>customer_type_Transient-Party</th>\n",
       "      <th>reserved_room_type_A</th>\n",
       "      <th>reserved_room_type_Others</th>\n",
       "    </tr>\n",
       "  </thead>\n",
       "  <tbody>\n",
       "    <tr>\n",
       "      <th>0</th>\n",
       "      <td>0</td>\n",
       "      <td>0</td>\n",
       "      <td>0</td>\n",
       "      <td>0</td>\n",
       "      <td>0</td>\n",
       "      <td>0</td>\n",
       "      <td>1</td>\n",
       "      <td>0</td>\n",
       "      <td>0</td>\n",
       "      <td>1</td>\n",
       "      <td>1</td>\n",
       "      <td>0</td>\n",
       "      <td>0</td>\n",
       "      <td>0</td>\n",
       "      <td>0</td>\n",
       "      <td>0</td>\n",
       "      <td>1</td>\n",
       "      <td>1</td>\n",
       "      <td>0</td>\n",
       "    </tr>\n",
       "    <tr>\n",
       "      <th>1</th>\n",
       "      <td>0</td>\n",
       "      <td>0</td>\n",
       "      <td>0</td>\n",
       "      <td>0</td>\n",
       "      <td>2</td>\n",
       "      <td>0</td>\n",
       "      <td>1</td>\n",
       "      <td>0</td>\n",
       "      <td>1</td>\n",
       "      <td>0</td>\n",
       "      <td>1</td>\n",
       "      <td>0</td>\n",
       "      <td>0</td>\n",
       "      <td>0</td>\n",
       "      <td>0</td>\n",
       "      <td>1</td>\n",
       "      <td>0</td>\n",
       "      <td>1</td>\n",
       "      <td>0</td>\n",
       "    </tr>\n",
       "    <tr>\n",
       "      <th>2</th>\n",
       "      <td>0</td>\n",
       "      <td>1</td>\n",
       "      <td>0</td>\n",
       "      <td>0</td>\n",
       "      <td>2</td>\n",
       "      <td>0</td>\n",
       "      <td>0</td>\n",
       "      <td>1</td>\n",
       "      <td>1</td>\n",
       "      <td>0</td>\n",
       "      <td>1</td>\n",
       "      <td>0</td>\n",
       "      <td>0</td>\n",
       "      <td>0</td>\n",
       "      <td>0</td>\n",
       "      <td>1</td>\n",
       "      <td>0</td>\n",
       "      <td>1</td>\n",
       "      <td>0</td>\n",
       "    </tr>\n",
       "    <tr>\n",
       "      <th>3</th>\n",
       "      <td>0</td>\n",
       "      <td>0</td>\n",
       "      <td>0</td>\n",
       "      <td>0</td>\n",
       "      <td>1</td>\n",
       "      <td>1</td>\n",
       "      <td>1</td>\n",
       "      <td>0</td>\n",
       "      <td>1</td>\n",
       "      <td>0</td>\n",
       "      <td>1</td>\n",
       "      <td>0</td>\n",
       "      <td>0</td>\n",
       "      <td>0</td>\n",
       "      <td>0</td>\n",
       "      <td>1</td>\n",
       "      <td>0</td>\n",
       "      <td>1</td>\n",
       "      <td>0</td>\n",
       "    </tr>\n",
       "    <tr>\n",
       "      <th>4</th>\n",
       "      <td>0</td>\n",
       "      <td>2</td>\n",
       "      <td>0</td>\n",
       "      <td>0</td>\n",
       "      <td>2</td>\n",
       "      <td>0</td>\n",
       "      <td>0</td>\n",
       "      <td>1</td>\n",
       "      <td>1</td>\n",
       "      <td>0</td>\n",
       "      <td>1</td>\n",
       "      <td>0</td>\n",
       "      <td>0</td>\n",
       "      <td>0</td>\n",
       "      <td>0</td>\n",
       "      <td>1</td>\n",
       "      <td>0</td>\n",
       "      <td>1</td>\n",
       "      <td>0</td>\n",
       "    </tr>\n",
       "  </tbody>\n",
       "</table>\n",
       "</div>"
      ],
      "text/plain": [
       "   previous_cancellations  booking_changes  days_in_waiting_list  \\\n",
       "0                       0                0                     0   \n",
       "1                       0                0                     0   \n",
       "2                       0                1                     0   \n",
       "3                       0                0                     0   \n",
       "4                       0                2                     0   \n",
       "\n",
       "   required_car_parking_spaces  total_of_special_requests  is_canceled  \\\n",
       "0                            0                          0            0   \n",
       "1                            0                          2            0   \n",
       "2                            0                          2            0   \n",
       "3                            0                          1            1   \n",
       "4                            0                          2            0   \n",
       "\n",
       "   country_Others  country_PRT  market_segment_Online TA  \\\n",
       "0               1            0                         0   \n",
       "1               1            0                         1   \n",
       "2               0            1                         1   \n",
       "3               1            0                         1   \n",
       "4               0            1                         1   \n",
       "\n",
       "   market_segment_Others  deposit_type_No Deposit  deposit_type_Non Refund  \\\n",
       "0                      1                        1                        0   \n",
       "1                      0                        1                        0   \n",
       "2                      0                        1                        0   \n",
       "3                      0                        1                        0   \n",
       "4                      0                        1                        0   \n",
       "\n",
       "   deposit_type_Refundable  customer_type_Contract  customer_type_Group  \\\n",
       "0                        0                       0                    0   \n",
       "1                        0                       0                    0   \n",
       "2                        0                       0                    0   \n",
       "3                        0                       0                    0   \n",
       "4                        0                       0                    0   \n",
       "\n",
       "   customer_type_Transient  customer_type_Transient-Party  \\\n",
       "0                        0                              1   \n",
       "1                        1                              0   \n",
       "2                        1                              0   \n",
       "3                        1                              0   \n",
       "4                        1                              0   \n",
       "\n",
       "   reserved_room_type_A  reserved_room_type_Others  \n",
       "0                     1                          0  \n",
       "1                     1                          0  \n",
       "2                     1                          0  \n",
       "3                     1                          0  \n",
       "4                     1                          0  "
      ]
     },
     "execution_count": 31,
     "metadata": {},
     "output_type": "execute_result"
    }
   ],
   "source": [
    "## Apply Re-Categorize function\n",
    "df['reserved_room_type'] = df['reserved_room_type'].apply(room_type)\n",
    "## Directly perform One-Hot Encoding\n",
    "df = pd.get_dummies(df, columns=['reserved_room_type'])\n",
    "## Show Table after Encoding\n",
    "df.head()\n",
    "## Result: Original `reserved_room_type` column has been eliminated and encoding result appear at the end of DataFrame"
   ]
  },
  {
   "cell_type": "markdown",
   "metadata": {},
   "source": [
    "#### 1.3.9. Required Car Parking Space"
   ]
  },
  {
   "cell_type": "code",
   "execution_count": 32,
   "metadata": {},
   "outputs": [
    {
     "data": {
      "text/plain": [
       "array([0, 1, 2, 8, 3], dtype=int64)"
      ]
     },
     "execution_count": 32,
     "metadata": {},
     "output_type": "execute_result"
    }
   ],
   "source": [
    "df['required_car_parking_spaces'].unique()\n",
    "## Result: This column define number of parking spaces requested by every customer in each bookings.\n",
    "## Since this column is already in integer type, we did not perform encoding to this column"
   ]
  },
  {
   "cell_type": "markdown",
   "metadata": {},
   "source": [
    "#### 1.3.10. Total of Special Requests"
   ]
  },
  {
   "cell_type": "code",
   "execution_count": 33,
   "metadata": {},
   "outputs": [
    {
     "data": {
      "text/plain": [
       "array([0, 2, 1, 3, 4, 5], dtype=int64)"
      ]
     },
     "execution_count": 33,
     "metadata": {},
     "output_type": "execute_result"
    }
   ],
   "source": [
    "df['total_of_special_requests'].unique()\n",
    "## Result: This column define number of special order requested by every customer in each bookings.\n",
    "## Since this column is already in integer type, we did not perform encoding to this column"
   ]
  },
  {
   "cell_type": "markdown",
   "metadata": {},
   "source": [
    "From all 10 features columns, we did not detected any column/feature that have direct impact to whether customer will or will not cancel their bookings."
   ]
  },
  {
   "cell_type": "markdown",
   "metadata": {},
   "source": [
    "#### `TARGET COLUMN`"
   ]
  },
  {
   "cell_type": "code",
   "execution_count": 34,
   "metadata": {},
   "outputs": [
    {
     "data": {
      "text/plain": [
       "array([0, 1], dtype=int64)"
      ]
     },
     "execution_count": 34,
     "metadata": {},
     "output_type": "execute_result"
    }
   ],
   "source": [
    "df['is_canceled'].unique()\n",
    "## Result: This column define whether customer cancel their bookings or not.\n",
    "## 0 = Not Cancelled\n",
    "## 1 = Cancelled"
   ]
  },
  {
   "cell_type": "markdown",
   "metadata": {},
   "source": [
    "#### Sample Confusion Matrix"
   ]
  },
  {
   "cell_type": "markdown",
   "metadata": {},
   "source": [
    "Actual/Prediction | 1 (Predicted Cancel) | 0 (Predicted Not_Cancel)\n",
    "-----|-----|-----\n",
    "1 (Actual Cancel)|True-Positive|False-Negative\n",
    "0 (Actual Not_Cancel)|`False-Positive`|True-Negative\n",
    "\n",
    "Interpretation:\n",
    "1. True-Positive : We predict that customer will cancel their bookings and in actual they did cancel their bookings\n",
    "2. False-Negative : We predict that customer will not cancel their bookings and in actual they did cancel their bookings\n",
    "    - Impact: We will lose productivity of our hotel staffs to giving service on customer who will ended up not staying in our hotel. Further, room which customer cancelled will remain vacant and hotel will losing profit on this room * number of nights, while actually we could fill it up with other customers.\n",
    "3. False-Positive : We predict that customer will cancel their bookings and in actual they did not cancel their bookings\n",
    "    - Impact: We will lose customers (presumably new long-term customers), but if our hotel is full-packed there should be no burden on hotel's profitability since no hotel room remain vacant as result of this case.\n",
    "4. True-Negative : We predict that customer will not cancel their bookings and in actual they did not cancel their bookings"
   ]
  },
  {
   "cell_type": "markdown",
   "metadata": {},
   "source": [
    "**GOALS** : Our goals in this project is to reduce False-Negative, as every case occur in False-Negative will resulted in waste of time and energy of our Hotel staff and losing of revenue for the respective room. Therefore, we will focus on Recall(+) and Precision(-) score for our evaluation metrics."
   ]
  },
  {
   "cell_type": "markdown",
   "metadata": {},
   "source": [
    "\\begin{equation}\n",
    "Recall (+) = \\frac{(True-Positive)} {(True-Positive) + (False-Negative)}\n",
    "\\end{equation}"
   ]
  },
  {
   "cell_type": "markdown",
   "metadata": {},
   "source": [
    "From the equation above, Recall(+) will go change in opposite of the False-Negative, because False-Negative in this equation act as the denominator. So, as our **GOALS** want to tackle False-Negative cases dan push down False-Negative as low as possible, Recall(+) score will go up. In other words, the highest Recall(+) is the result of decrease in False-Negative cases, therefore we will focus on **finding Model that produce the highest Recall(+) score**.\n",
    "\n",
    "Besides Recall(+), we could refer to Precision(-) score as well."
   ]
  },
  {
   "cell_type": "markdown",
   "metadata": {},
   "source": [
    "\\begin{equation}\n",
    "Precision (-) = \\frac{(True-Negative)} {(True-Negative) + (False-Negative)}\n",
    "\\end{equation}"
   ]
  },
  {
   "cell_type": "markdown",
   "metadata": {},
   "source": [
    "From Precision(-) equation above, the score is determine by False-Negative case to in the opposite way to the Precision(-) score. The higher the False-Negative cases appear, Precision(-) would go up and acted exactly as Recall(+) score."
   ]
  },
  {
   "cell_type": "markdown",
   "metadata": {},
   "source": [
    "#### 1.3.11 Check for Data Imbalance\n",
    "We want to check whether one of the value in target column has significantly bigger proportion than other value. If there is value with proportion higher than 75%, we would categorize this dataset as imbalance. Imbalance data will impact Model to learn more about Majority Class (class with proportion above 75%) and have poor ability to predict data in Minority Class (class with proportion below 25%). Since data imbalance could be determine by the proportion, we check proportion of 0 (no cancel) and 1 (cancel) value from our target column below."
   ]
  },
  {
   "cell_type": "code",
   "execution_count": 35,
   "metadata": {},
   "outputs": [
    {
     "data": {
      "text/plain": [
       "0    52795\n",
       "1    30778\n",
       "Name: is_canceled, dtype: int64"
      ]
     },
     "execution_count": 35,
     "metadata": {},
     "output_type": "execute_result"
    }
   ],
   "source": [
    "## Check proportion of values in target\n",
    "df['is_canceled'].value_counts()\n",
    "## Result: Imbalanced of values in target column not detected"
   ]
  },
  {
   "cell_type": "code",
   "execution_count": 36,
   "metadata": {},
   "outputs": [
    {
     "data": {
      "text/html": [
       "<div>\n",
       "<style scoped>\n",
       "    .dataframe tbody tr th:only-of-type {\n",
       "        vertical-align: middle;\n",
       "    }\n",
       "\n",
       "    .dataframe tbody tr th {\n",
       "        vertical-align: top;\n",
       "    }\n",
       "\n",
       "    .dataframe thead th {\n",
       "        text-align: right;\n",
       "    }\n",
       "</style>\n",
       "<table border=\"1\" class=\"dataframe\">\n",
       "  <thead>\n",
       "    <tr style=\"text-align: right;\">\n",
       "      <th>col_0</th>\n",
       "      <th>Proportion (%)</th>\n",
       "    </tr>\n",
       "    <tr>\n",
       "      <th>is_canceled</th>\n",
       "      <th></th>\n",
       "    </tr>\n",
       "  </thead>\n",
       "  <tbody>\n",
       "    <tr>\n",
       "      <th>0</th>\n",
       "      <td>63.17</td>\n",
       "    </tr>\n",
       "    <tr>\n",
       "      <th>1</th>\n",
       "      <td>36.83</td>\n",
       "    </tr>\n",
       "  </tbody>\n",
       "</table>\n",
       "</div>"
      ],
      "text/plain": [
       "col_0        Proportion (%)\n",
       "is_canceled                \n",
       "0                     63.17\n",
       "1                     36.83"
      ]
     },
     "execution_count": 36,
     "metadata": {},
     "output_type": "execute_result"
    }
   ],
   "source": [
    "## Check proportion in percentage\n",
    "(pd.crosstab(index=df['is_canceled'],columns='Proportion (%)',normalize=True)*100).round(2)\n",
    "## Result: Imbalanced confirmed"
   ]
  },
  {
   "cell_type": "code",
   "execution_count": 37,
   "metadata": {},
   "outputs": [
    {
     "data": {
      "image/png": "[encoded data removed]",
      "text/plain": [
       "<Figure size 720x720 with 1 Axes>"
      ]
     },
     "metadata": {},
     "output_type": "display_data"
    }
   ],
   "source": [
    "## Visualize with Pie Plot\n",
    "plt.figure(figsize=(10,10))\n",
    "plt.pie(df['is_canceled'].value_counts(),labels=['No Cancel (0)','Cancel (1)'],\n",
    "    colors=['g','r'],\n",
    "    shadow=True,\n",
    "    textprops={\n",
    "        'size':20,\n",
    "        'color':'w'\n",
    "    },\n",
    "    autopct='%1.2f%%',\n",
    "    explode=(0.05,0.1))\n",
    "plt.title('Proportion of Values in Target Column',color='w',size=20)\n",
    "plt.show()"
   ]
  },
  {
   "cell_type": "markdown",
   "metadata": {},
   "source": [
    "Since our data is not categorized as imbalanced data as neither of values in target column has proportion more than 75%, then we do not perform handling procedure for imbalance data."
   ]
  },
  {
   "cell_type": "markdown",
   "metadata": {},
   "source": [
    "### 1.4 DataFrame after Data Understanding and Data Wrangling"
   ]
  },
  {
   "cell_type": "code",
   "execution_count": 38,
   "metadata": {},
   "outputs": [
    {
     "data": {
      "text/html": [
       "<div>\n",
       "<style scoped>\n",
       "    .dataframe tbody tr th:only-of-type {\n",
       "        vertical-align: middle;\n",
       "    }\n",
       "\n",
       "    .dataframe tbody tr th {\n",
       "        vertical-align: top;\n",
       "    }\n",
       "\n",
       "    .dataframe thead th {\n",
       "        text-align: right;\n",
       "    }\n",
       "</style>\n",
       "<table border=\"1\" class=\"dataframe\">\n",
       "  <thead>\n",
       "    <tr style=\"text-align: right;\">\n",
       "      <th></th>\n",
       "      <th>previous_cancellations</th>\n",
       "      <th>booking_changes</th>\n",
       "      <th>days_in_waiting_list</th>\n",
       "      <th>required_car_parking_spaces</th>\n",
       "      <th>total_of_special_requests</th>\n",
       "      <th>is_canceled</th>\n",
       "      <th>country_Others</th>\n",
       "      <th>country_PRT</th>\n",
       "      <th>market_segment_Online TA</th>\n",
       "      <th>market_segment_Others</th>\n",
       "      <th>deposit_type_No Deposit</th>\n",
       "      <th>deposit_type_Non Refund</th>\n",
       "      <th>deposit_type_Refundable</th>\n",
       "      <th>customer_type_Contract</th>\n",
       "      <th>customer_type_Group</th>\n",
       "      <th>customer_type_Transient</th>\n",
       "      <th>customer_type_Transient-Party</th>\n",
       "      <th>reserved_room_type_A</th>\n",
       "      <th>reserved_room_type_Others</th>\n",
       "    </tr>\n",
       "  </thead>\n",
       "  <tbody>\n",
       "    <tr>\n",
       "      <th>0</th>\n",
       "      <td>0</td>\n",
       "      <td>0</td>\n",
       "      <td>0</td>\n",
       "      <td>0</td>\n",
       "      <td>0</td>\n",
       "      <td>0</td>\n",
       "      <td>1</td>\n",
       "      <td>0</td>\n",
       "      <td>0</td>\n",
       "      <td>1</td>\n",
       "      <td>1</td>\n",
       "      <td>0</td>\n",
       "      <td>0</td>\n",
       "      <td>0</td>\n",
       "      <td>0</td>\n",
       "      <td>0</td>\n",
       "      <td>1</td>\n",
       "      <td>1</td>\n",
       "      <td>0</td>\n",
       "    </tr>\n",
       "    <tr>\n",
       "      <th>1</th>\n",
       "      <td>0</td>\n",
       "      <td>0</td>\n",
       "      <td>0</td>\n",
       "      <td>0</td>\n",
       "      <td>2</td>\n",
       "      <td>0</td>\n",
       "      <td>1</td>\n",
       "      <td>0</td>\n",
       "      <td>1</td>\n",
       "      <td>0</td>\n",
       "      <td>1</td>\n",
       "      <td>0</td>\n",
       "      <td>0</td>\n",
       "      <td>0</td>\n",
       "      <td>0</td>\n",
       "      <td>1</td>\n",
       "      <td>0</td>\n",
       "      <td>1</td>\n",
       "      <td>0</td>\n",
       "    </tr>\n",
       "    <tr>\n",
       "      <th>2</th>\n",
       "      <td>0</td>\n",
       "      <td>1</td>\n",
       "      <td>0</td>\n",
       "      <td>0</td>\n",
       "      <td>2</td>\n",
       "      <td>0</td>\n",
       "      <td>0</td>\n",
       "      <td>1</td>\n",
       "      <td>1</td>\n",
       "      <td>0</td>\n",
       "      <td>1</td>\n",
       "      <td>0</td>\n",
       "      <td>0</td>\n",
       "      <td>0</td>\n",
       "      <td>0</td>\n",
       "      <td>1</td>\n",
       "      <td>0</td>\n",
       "      <td>1</td>\n",
       "      <td>0</td>\n",
       "    </tr>\n",
       "    <tr>\n",
       "      <th>3</th>\n",
       "      <td>0</td>\n",
       "      <td>0</td>\n",
       "      <td>0</td>\n",
       "      <td>0</td>\n",
       "      <td>1</td>\n",
       "      <td>1</td>\n",
       "      <td>1</td>\n",
       "      <td>0</td>\n",
       "      <td>1</td>\n",
       "      <td>0</td>\n",
       "      <td>1</td>\n",
       "      <td>0</td>\n",
       "      <td>0</td>\n",
       "      <td>0</td>\n",
       "      <td>0</td>\n",
       "      <td>1</td>\n",
       "      <td>0</td>\n",
       "      <td>1</td>\n",
       "      <td>0</td>\n",
       "    </tr>\n",
       "    <tr>\n",
       "      <th>4</th>\n",
       "      <td>0</td>\n",
       "      <td>2</td>\n",
       "      <td>0</td>\n",
       "      <td>0</td>\n",
       "      <td>2</td>\n",
       "      <td>0</td>\n",
       "      <td>0</td>\n",
       "      <td>1</td>\n",
       "      <td>1</td>\n",
       "      <td>0</td>\n",
       "      <td>1</td>\n",
       "      <td>0</td>\n",
       "      <td>0</td>\n",
       "      <td>0</td>\n",
       "      <td>0</td>\n",
       "      <td>1</td>\n",
       "      <td>0</td>\n",
       "      <td>1</td>\n",
       "      <td>0</td>\n",
       "    </tr>\n",
       "  </tbody>\n",
       "</table>\n",
       "</div>"
      ],
      "text/plain": [
       "   previous_cancellations  booking_changes  days_in_waiting_list  \\\n",
       "0                       0                0                     0   \n",
       "1                       0                0                     0   \n",
       "2                       0                1                     0   \n",
       "3                       0                0                     0   \n",
       "4                       0                2                     0   \n",
       "\n",
       "   required_car_parking_spaces  total_of_special_requests  is_canceled  \\\n",
       "0                            0                          0            0   \n",
       "1                            0                          2            0   \n",
       "2                            0                          2            0   \n",
       "3                            0                          1            1   \n",
       "4                            0                          2            0   \n",
       "\n",
       "   country_Others  country_PRT  market_segment_Online TA  \\\n",
       "0               1            0                         0   \n",
       "1               1            0                         1   \n",
       "2               0            1                         1   \n",
       "3               1            0                         1   \n",
       "4               0            1                         1   \n",
       "\n",
       "   market_segment_Others  deposit_type_No Deposit  deposit_type_Non Refund  \\\n",
       "0                      1                        1                        0   \n",
       "1                      0                        1                        0   \n",
       "2                      0                        1                        0   \n",
       "3                      0                        1                        0   \n",
       "4                      0                        1                        0   \n",
       "\n",
       "   deposit_type_Refundable  customer_type_Contract  customer_type_Group  \\\n",
       "0                        0                       0                    0   \n",
       "1                        0                       0                    0   \n",
       "2                        0                       0                    0   \n",
       "3                        0                       0                    0   \n",
       "4                        0                       0                    0   \n",
       "\n",
       "   customer_type_Transient  customer_type_Transient-Party  \\\n",
       "0                        0                              1   \n",
       "1                        1                              0   \n",
       "2                        1                              0   \n",
       "3                        1                              0   \n",
       "4                        1                              0   \n",
       "\n",
       "   reserved_room_type_A  reserved_room_type_Others  \n",
       "0                     1                          0  \n",
       "1                     1                          0  \n",
       "2                     1                          0  \n",
       "3                     1                          0  \n",
       "4                     1                          0  "
      ]
     },
     "execution_count": 38,
     "metadata": {},
     "output_type": "execute_result"
    }
   ],
   "source": [
    "## Show updated DataFrame\n",
    "df.head(5)"
   ]
  },
  {
   "cell_type": "markdown",
   "metadata": {},
   "source": [
    "### 1.5 Feature Selection"
   ]
  },
  {
   "cell_type": "markdown",
   "metadata": {},
   "source": [
    "#### 1.5.1 Quick EDA with Domain Knowledge"
   ]
  },
  {
   "cell_type": "code",
   "execution_count": 39,
   "metadata": {},
   "outputs": [
    {
     "data": {
      "text/html": [
       "<div>\n",
       "<style scoped>\n",
       "    .dataframe tbody tr th:only-of-type {\n",
       "        vertical-align: middle;\n",
       "    }\n",
       "\n",
       "    .dataframe tbody tr th {\n",
       "        vertical-align: top;\n",
       "    }\n",
       "\n",
       "    .dataframe thead th {\n",
       "        text-align: right;\n",
       "    }\n",
       "</style>\n",
       "<table border=\"1\" class=\"dataframe\">\n",
       "  <thead>\n",
       "    <tr style=\"text-align: right;\">\n",
       "      <th>is_canceled</th>\n",
       "      <th>0</th>\n",
       "      <th>1</th>\n",
       "    </tr>\n",
       "    <tr>\n",
       "      <th>previous_cancellations</th>\n",
       "      <th></th>\n",
       "      <th></th>\n",
       "    </tr>\n",
       "  </thead>\n",
       "  <tbody>\n",
       "    <tr>\n",
       "      <th>0</th>\n",
       "      <td>52410</td>\n",
       "      <td>26650</td>\n",
       "    </tr>\n",
       "    <tr>\n",
       "      <th>1</th>\n",
       "      <td>238</td>\n",
       "      <td>3969</td>\n",
       "    </tr>\n",
       "    <tr>\n",
       "      <th>2</th>\n",
       "      <td>59</td>\n",
       "      <td>27</td>\n",
       "    </tr>\n",
       "    <tr>\n",
       "      <th>3</th>\n",
       "      <td>30</td>\n",
       "      <td>16</td>\n",
       "    </tr>\n",
       "    <tr>\n",
       "      <th>4</th>\n",
       "      <td>16</td>\n",
       "      <td>3</td>\n",
       "    </tr>\n",
       "    <tr>\n",
       "      <th>5</th>\n",
       "      <td>7</td>\n",
       "      <td>0</td>\n",
       "    </tr>\n",
       "    <tr>\n",
       "      <th>6</th>\n",
       "      <td>13</td>\n",
       "      <td>6</td>\n",
       "    </tr>\n",
       "    <tr>\n",
       "      <th>11</th>\n",
       "      <td>21</td>\n",
       "      <td>7</td>\n",
       "    </tr>\n",
       "    <tr>\n",
       "      <th>13</th>\n",
       "      <td>1</td>\n",
       "      <td>9</td>\n",
       "    </tr>\n",
       "    <tr>\n",
       "      <th>14</th>\n",
       "      <td>0</td>\n",
       "      <td>10</td>\n",
       "    </tr>\n",
       "    <tr>\n",
       "      <th>19</th>\n",
       "      <td>0</td>\n",
       "      <td>12</td>\n",
       "    </tr>\n",
       "    <tr>\n",
       "      <th>21</th>\n",
       "      <td>0</td>\n",
       "      <td>1</td>\n",
       "    </tr>\n",
       "    <tr>\n",
       "      <th>24</th>\n",
       "      <td>0</td>\n",
       "      <td>33</td>\n",
       "    </tr>\n",
       "    <tr>\n",
       "      <th>25</th>\n",
       "      <td>0</td>\n",
       "      <td>17</td>\n",
       "    </tr>\n",
       "    <tr>\n",
       "      <th>26</th>\n",
       "      <td>0</td>\n",
       "      <td>18</td>\n",
       "    </tr>\n",
       "  </tbody>\n",
       "</table>\n",
       "</div>"
      ],
      "text/plain": [
       "is_canceled                 0      1\n",
       "previous_cancellations              \n",
       "0                       52410  26650\n",
       "1                         238   3969\n",
       "2                          59     27\n",
       "3                          30     16\n",
       "4                          16      3\n",
       "5                           7      0\n",
       "6                          13      6\n",
       "11                         21      7\n",
       "13                          1      9\n",
       "14                          0     10\n",
       "19                          0     12\n",
       "21                          0      1\n",
       "24                          0     33\n",
       "25                          0     17\n",
       "26                          0     18"
      ]
     },
     "execution_count": 39,
     "metadata": {},
     "output_type": "execute_result"
    }
   ],
   "source": [
    "## 1. Impact of Previous Cancellation to Cancellation Status\n",
    "pd.crosstab(index=df['previous_cancellations'], columns=df['is_canceled'])"
   ]
  },
  {
   "cell_type": "markdown",
   "metadata": {},
   "source": [
    "Column 0 indicates bookings that not getting cancelled by customers, while Column 1 means bookings getting cancelled by customers. As we could see from the table above, most of customers that ends up not cancelling their bookings were never cancelled a bookings before. Meanwhile, transactions that getting cancelled mostly made by customers who never cancelled and at least done 1 bookings cancellations to their bookings before. Therefore, customers who ever made bookings cancellation have tendency to make another cancellations in the future.\n",
    "> There is impact of `previous_cancellations` towards a booking getting cancelled or not"
   ]
  },
  {
   "cell_type": "code",
   "execution_count": 40,
   "metadata": {},
   "outputs": [
    {
     "data": {
      "text/html": [
       "<div>\n",
       "<style scoped>\n",
       "    .dataframe tbody tr th:only-of-type {\n",
       "        vertical-align: middle;\n",
       "    }\n",
       "\n",
       "    .dataframe tbody tr th {\n",
       "        vertical-align: top;\n",
       "    }\n",
       "\n",
       "    .dataframe thead th {\n",
       "        text-align: right;\n",
       "    }\n",
       "</style>\n",
       "<table border=\"1\" class=\"dataframe\">\n",
       "  <thead>\n",
       "    <tr style=\"text-align: right;\">\n",
       "      <th>is_canceled</th>\n",
       "      <th>0</th>\n",
       "      <th>1</th>\n",
       "    </tr>\n",
       "    <tr>\n",
       "      <th>booking_changes</th>\n",
       "      <th></th>\n",
       "      <th></th>\n",
       "    </tr>\n",
       "  </thead>\n",
       "  <tbody>\n",
       "    <tr>\n",
       "      <th>0</th>\n",
       "      <td>42073</td>\n",
       "      <td>28800</td>\n",
       "    </tr>\n",
       "    <tr>\n",
       "      <th>1</th>\n",
       "      <td>7676</td>\n",
       "      <td>1287</td>\n",
       "    </tr>\n",
       "    <tr>\n",
       "      <th>2</th>\n",
       "      <td>2129</td>\n",
       "      <td>523</td>\n",
       "    </tr>\n",
       "    <tr>\n",
       "      <th>3</th>\n",
       "      <td>547</td>\n",
       "      <td>92</td>\n",
       "    </tr>\n",
       "    <tr>\n",
       "      <th>4</th>\n",
       "      <td>217</td>\n",
       "      <td>43</td>\n",
       "    </tr>\n",
       "    <tr>\n",
       "      <th>5</th>\n",
       "      <td>76</td>\n",
       "      <td>14</td>\n",
       "    </tr>\n",
       "    <tr>\n",
       "      <th>6</th>\n",
       "      <td>27</td>\n",
       "      <td>12</td>\n",
       "    </tr>\n",
       "    <tr>\n",
       "      <th>7</th>\n",
       "      <td>22</td>\n",
       "      <td>1</td>\n",
       "    </tr>\n",
       "    <tr>\n",
       "      <th>8</th>\n",
       "      <td>6</td>\n",
       "      <td>4</td>\n",
       "    </tr>\n",
       "    <tr>\n",
       "      <th>9</th>\n",
       "      <td>4</td>\n",
       "      <td>0</td>\n",
       "    </tr>\n",
       "    <tr>\n",
       "      <th>10</th>\n",
       "      <td>4</td>\n",
       "      <td>1</td>\n",
       "    </tr>\n",
       "    <tr>\n",
       "      <th>12</th>\n",
       "      <td>2</td>\n",
       "      <td>0</td>\n",
       "    </tr>\n",
       "    <tr>\n",
       "      <th>13</th>\n",
       "      <td>4</td>\n",
       "      <td>0</td>\n",
       "    </tr>\n",
       "    <tr>\n",
       "      <th>14</th>\n",
       "      <td>2</td>\n",
       "      <td>0</td>\n",
       "    </tr>\n",
       "    <tr>\n",
       "      <th>15</th>\n",
       "      <td>1</td>\n",
       "      <td>0</td>\n",
       "    </tr>\n",
       "    <tr>\n",
       "      <th>16</th>\n",
       "      <td>1</td>\n",
       "      <td>1</td>\n",
       "    </tr>\n",
       "    <tr>\n",
       "      <th>17</th>\n",
       "      <td>2</td>\n",
       "      <td>0</td>\n",
       "    </tr>\n",
       "    <tr>\n",
       "      <th>20</th>\n",
       "      <td>1</td>\n",
       "      <td>0</td>\n",
       "    </tr>\n",
       "    <tr>\n",
       "      <th>21</th>\n",
       "      <td>1</td>\n",
       "      <td>0</td>\n",
       "    </tr>\n",
       "  </tbody>\n",
       "</table>\n",
       "</div>"
      ],
      "text/plain": [
       "is_canceled          0      1\n",
       "booking_changes              \n",
       "0                42073  28800\n",
       "1                 7676   1287\n",
       "2                 2129    523\n",
       "3                  547     92\n",
       "4                  217     43\n",
       "5                   76     14\n",
       "6                   27     12\n",
       "7                   22      1\n",
       "8                    6      4\n",
       "9                    4      0\n",
       "10                   4      1\n",
       "12                   2      0\n",
       "13                   4      0\n",
       "14                   2      0\n",
       "15                   1      0\n",
       "16                   1      1\n",
       "17                   2      0\n",
       "20                   1      0\n",
       "21                   1      0"
      ]
     },
     "execution_count": 40,
     "metadata": {},
     "output_type": "execute_result"
    }
   ],
   "source": [
    "## 2. Impact of Booking Changes to Cancellation Status\n",
    "pd.crosstab(index=df['booking_changes'], columns=df['is_canceled'])"
   ]
  },
  {
   "cell_type": "markdown",
   "metadata": {},
   "source": [
    "Column 0 indicates bookings that not getting cancelled by customers, while Column 1 means bookings getting cancelled by customers. As we could see from the table above, most of customers that ends up not cancelling their bookings have made bookings changes before. Meanwhile, transactions that getting cancelled mostly made by customers who rarely make changes to their bookings before. Therefore, customers who usually made bookings changes have tendency to not cancel their bookings in the future.\n",
    "> There is impact of `booking_changes` towards a booking getting cancelled or not"
   ]
  },
  {
   "cell_type": "code",
   "execution_count": 41,
   "metadata": {},
   "outputs": [
    {
     "data": {
      "text/html": [
       "<div>\n",
       "<style scoped>\n",
       "    .dataframe tbody tr th:only-of-type {\n",
       "        vertical-align: middle;\n",
       "    }\n",
       "\n",
       "    .dataframe tbody tr th {\n",
       "        vertical-align: top;\n",
       "    }\n",
       "\n",
       "    .dataframe thead th {\n",
       "        text-align: right;\n",
       "    }\n",
       "</style>\n",
       "<table border=\"1\" class=\"dataframe\">\n",
       "  <thead>\n",
       "    <tr style=\"text-align: right;\">\n",
       "      <th>is_canceled</th>\n",
       "      <th>0</th>\n",
       "      <th>1</th>\n",
       "    </tr>\n",
       "    <tr>\n",
       "      <th>days_in_waiting_list</th>\n",
       "      <th></th>\n",
       "      <th></th>\n",
       "    </tr>\n",
       "  </thead>\n",
       "  <tbody>\n",
       "    <tr>\n",
       "      <th>0</th>\n",
       "      <td>51871</td>\n",
       "      <td>29117</td>\n",
       "    </tr>\n",
       "    <tr>\n",
       "      <th>1</th>\n",
       "      <td>5</td>\n",
       "      <td>2</td>\n",
       "    </tr>\n",
       "    <tr>\n",
       "      <th>2</th>\n",
       "      <td>2</td>\n",
       "      <td>0</td>\n",
       "    </tr>\n",
       "    <tr>\n",
       "      <th>3</th>\n",
       "      <td>0</td>\n",
       "      <td>41</td>\n",
       "    </tr>\n",
       "    <tr>\n",
       "      <th>4</th>\n",
       "      <td>14</td>\n",
       "      <td>6</td>\n",
       "    </tr>\n",
       "    <tr>\n",
       "      <th>5</th>\n",
       "      <td>2</td>\n",
       "      <td>3</td>\n",
       "    </tr>\n",
       "    <tr>\n",
       "      <th>6</th>\n",
       "      <td>13</td>\n",
       "      <td>0</td>\n",
       "    </tr>\n",
       "    <tr>\n",
       "      <th>7</th>\n",
       "      <td>0</td>\n",
       "      <td>1</td>\n",
       "    </tr>\n",
       "    <tr>\n",
       "      <th>8</th>\n",
       "      <td>2</td>\n",
       "      <td>1</td>\n",
       "    </tr>\n",
       "    <tr>\n",
       "      <th>9</th>\n",
       "      <td>1</td>\n",
       "      <td>8</td>\n",
       "    </tr>\n",
       "  </tbody>\n",
       "</table>\n",
       "</div>"
      ],
      "text/plain": [
       "is_canceled               0      1\n",
       "days_in_waiting_list              \n",
       "0                     51871  29117\n",
       "1                         5      2\n",
       "2                         2      0\n",
       "3                         0     41\n",
       "4                        14      6\n",
       "5                         2      3\n",
       "6                        13      0\n",
       "7                         0      1\n",
       "8                         2      1\n",
       "9                         1      8"
      ]
     },
     "execution_count": 41,
     "metadata": {},
     "output_type": "execute_result"
    }
   ],
   "source": [
    "## 3. Impact of Days in Waiting List to Cancellation Status\n",
    "pd.crosstab(index=df['days_in_waiting_list'], columns=df['is_canceled']).head(10)"
   ]
  },
  {
   "cell_type": "code",
   "execution_count": 42,
   "metadata": {},
   "outputs": [
    {
     "data": {
      "text/html": [
       "<div>\n",
       "<style scoped>\n",
       "    .dataframe tbody tr th:only-of-type {\n",
       "        vertical-align: middle;\n",
       "    }\n",
       "\n",
       "    .dataframe tbody tr th {\n",
       "        vertical-align: top;\n",
       "    }\n",
       "\n",
       "    .dataframe thead th {\n",
       "        text-align: right;\n",
       "    }\n",
       "</style>\n",
       "<table border=\"1\" class=\"dataframe\">\n",
       "  <thead>\n",
       "    <tr style=\"text-align: right;\">\n",
       "      <th>is_canceled</th>\n",
       "      <th>0</th>\n",
       "      <th>1</th>\n",
       "    </tr>\n",
       "    <tr>\n",
       "      <th>days_in_waiting_list</th>\n",
       "      <th></th>\n",
       "      <th></th>\n",
       "    </tr>\n",
       "  </thead>\n",
       "  <tbody>\n",
       "    <tr>\n",
       "      <th>193</th>\n",
       "      <td>0</td>\n",
       "      <td>1</td>\n",
       "    </tr>\n",
       "    <tr>\n",
       "      <th>207</th>\n",
       "      <td>8</td>\n",
       "      <td>5</td>\n",
       "    </tr>\n",
       "    <tr>\n",
       "      <th>215</th>\n",
       "      <td>6</td>\n",
       "      <td>11</td>\n",
       "    </tr>\n",
       "    <tr>\n",
       "      <th>223</th>\n",
       "      <td>27</td>\n",
       "      <td>18</td>\n",
       "    </tr>\n",
       "    <tr>\n",
       "      <th>224</th>\n",
       "      <td>4</td>\n",
       "      <td>2</td>\n",
       "    </tr>\n",
       "    <tr>\n",
       "      <th>236</th>\n",
       "      <td>20</td>\n",
       "      <td>3</td>\n",
       "    </tr>\n",
       "    <tr>\n",
       "      <th>259</th>\n",
       "      <td>8</td>\n",
       "      <td>0</td>\n",
       "    </tr>\n",
       "    <tr>\n",
       "      <th>330</th>\n",
       "      <td>8</td>\n",
       "      <td>0</td>\n",
       "    </tr>\n",
       "    <tr>\n",
       "      <th>379</th>\n",
       "      <td>5</td>\n",
       "      <td>5</td>\n",
       "    </tr>\n",
       "    <tr>\n",
       "      <th>391</th>\n",
       "      <td>0</td>\n",
       "      <td>33</td>\n",
       "    </tr>\n",
       "  </tbody>\n",
       "</table>\n",
       "</div>"
      ],
      "text/plain": [
       "is_canceled            0   1\n",
       "days_in_waiting_list        \n",
       "193                    0   1\n",
       "207                    8   5\n",
       "215                    6  11\n",
       "223                   27  18\n",
       "224                    4   2\n",
       "236                   20   3\n",
       "259                    8   0\n",
       "330                    8   0\n",
       "379                    5   5\n",
       "391                    0  33"
      ]
     },
     "execution_count": 42,
     "metadata": {},
     "output_type": "execute_result"
    }
   ],
   "source": [
    "pd.crosstab(index=df['days_in_waiting_list'], columns=df['is_canceled']).tail(10)"
   ]
  },
  {
   "cell_type": "markdown",
   "metadata": {},
   "source": [
    "Column 0 indicates bookings that not getting cancelled by customers, while Column 1 means bookings getting cancelled by customers. As we could see from the table above, the pattern is unclear whether a customer with short time waiting for a room or a customer who have wait for almost a year finally going to cancel their bookings or not. However, theoritically if a person have waited for a long time before getting a room, they build a tendency to not cancelling their reservation since they have waited a long time for the opportunity to stay at the hotel. If in the meantime they are not longer attracted to the room anymore, they should have ended up cancelled their queue in the waiting list rather than cancelled their bookings after they were given the chance to book one.\n",
    "> There is impact of `days_in_waiting_list` towards a booking getting cancelled or not"
   ]
  },
  {
   "cell_type": "code",
   "execution_count": 43,
   "metadata": {},
   "outputs": [
    {
     "data": {
      "text/html": [
       "<div>\n",
       "<style scoped>\n",
       "    .dataframe tbody tr th:only-of-type {\n",
       "        vertical-align: middle;\n",
       "    }\n",
       "\n",
       "    .dataframe tbody tr th {\n",
       "        vertical-align: top;\n",
       "    }\n",
       "\n",
       "    .dataframe thead th {\n",
       "        text-align: right;\n",
       "    }\n",
       "</style>\n",
       "<table border=\"1\" class=\"dataframe\">\n",
       "  <thead>\n",
       "    <tr style=\"text-align: right;\">\n",
       "      <th>is_canceled</th>\n",
       "      <th>0</th>\n",
       "      <th>1</th>\n",
       "    </tr>\n",
       "    <tr>\n",
       "      <th>required_car_parking_spaces</th>\n",
       "      <th></th>\n",
       "      <th></th>\n",
       "    </tr>\n",
       "  </thead>\n",
       "  <tbody>\n",
       "    <tr>\n",
       "      <th>0</th>\n",
       "      <td>47568</td>\n",
       "      <td>30778</td>\n",
       "    </tr>\n",
       "    <tr>\n",
       "      <th>1</th>\n",
       "      <td>5202</td>\n",
       "      <td>0</td>\n",
       "    </tr>\n",
       "    <tr>\n",
       "      <th>2</th>\n",
       "      <td>22</td>\n",
       "      <td>0</td>\n",
       "    </tr>\n",
       "    <tr>\n",
       "      <th>3</th>\n",
       "      <td>1</td>\n",
       "      <td>0</td>\n",
       "    </tr>\n",
       "    <tr>\n",
       "      <th>8</th>\n",
       "      <td>2</td>\n",
       "      <td>0</td>\n",
       "    </tr>\n",
       "  </tbody>\n",
       "</table>\n",
       "</div>"
      ],
      "text/plain": [
       "is_canceled                      0      1\n",
       "required_car_parking_spaces              \n",
       "0                            47568  30778\n",
       "1                             5202      0\n",
       "2                               22      0\n",
       "3                                1      0\n",
       "8                                2      0"
      ]
     },
     "execution_count": 43,
     "metadata": {},
     "output_type": "execute_result"
    }
   ],
   "source": [
    "## 4. Impact of Parking Space Needs to Cancellation Status\n",
    "pd.crosstab(index=df['required_car_parking_spaces'], columns=df['is_canceled'])"
   ]
  },
  {
   "cell_type": "markdown",
   "metadata": {},
   "source": [
    "Column 0 indicates bookings that not getting cancelled by customers, while Column 1 means bookings getting cancelled by customers. As we could see from the table above, it's obvious that customer who required car parking spaces as part of their reservation tends to not cancel their bookings and there is no customer who cancel their bookings requested for parking space to the hotel staff.\n",
    "> There is impact of `required_car_parking_spaces` towards a booking getting cancelled or not"
   ]
  },
  {
   "cell_type": "code",
   "execution_count": 44,
   "metadata": {},
   "outputs": [
    {
     "data": {
      "text/html": [
       "<div>\n",
       "<style scoped>\n",
       "    .dataframe tbody tr th:only-of-type {\n",
       "        vertical-align: middle;\n",
       "    }\n",
       "\n",
       "    .dataframe tbody tr th {\n",
       "        vertical-align: top;\n",
       "    }\n",
       "\n",
       "    .dataframe thead th {\n",
       "        text-align: right;\n",
       "    }\n",
       "</style>\n",
       "<table border=\"1\" class=\"dataframe\">\n",
       "  <thead>\n",
       "    <tr style=\"text-align: right;\">\n",
       "      <th>is_canceled</th>\n",
       "      <th>0</th>\n",
       "      <th>1</th>\n",
       "    </tr>\n",
       "    <tr>\n",
       "      <th>total_of_special_requests</th>\n",
       "      <th></th>\n",
       "      <th></th>\n",
       "    </tr>\n",
       "  </thead>\n",
       "  <tbody>\n",
       "    <tr>\n",
       "      <th>0</th>\n",
       "      <td>25819</td>\n",
       "      <td>23369</td>\n",
       "    </tr>\n",
       "    <tr>\n",
       "      <th>1</th>\n",
       "      <td>18108</td>\n",
       "      <td>5106</td>\n",
       "    </tr>\n",
       "    <tr>\n",
       "      <th>2</th>\n",
       "      <td>7153</td>\n",
       "      <td>1967</td>\n",
       "    </tr>\n",
       "    <tr>\n",
       "      <th>3</th>\n",
       "      <td>1477</td>\n",
       "      <td>307</td>\n",
       "    </tr>\n",
       "    <tr>\n",
       "      <th>4</th>\n",
       "      <td>208</td>\n",
       "      <td>28</td>\n",
       "    </tr>\n",
       "    <tr>\n",
       "      <th>5</th>\n",
       "      <td>30</td>\n",
       "      <td>1</td>\n",
       "    </tr>\n",
       "  </tbody>\n",
       "</table>\n",
       "</div>"
      ],
      "text/plain": [
       "is_canceled                    0      1\n",
       "total_of_special_requests              \n",
       "0                          25819  23369\n",
       "1                          18108   5106\n",
       "2                           7153   1967\n",
       "3                           1477    307\n",
       "4                            208     28\n",
       "5                             30      1"
      ]
     },
     "execution_count": 44,
     "metadata": {},
     "output_type": "execute_result"
    }
   ],
   "source": [
    "## 5. Impact of Number of Special Requests to Cancellation Status\n",
    "pd.crosstab(index=df['total_of_special_requests'], columns=df['is_canceled'])"
   ]
  },
  {
   "cell_type": "markdown",
   "metadata": {},
   "source": [
    "Column 0 indicates bookings that not getting cancelled by customers, while Column 1 means bookings getting cancelled by customers. As we could see from the table above, customer that retained their bookings tends to request for any special requests to the hotel than customer who cancel. This is inline with number of parking space requested above.\n",
    "> There is impact of `total_of_special_requests` towards a booking getting cancelled or not"
   ]
  },
  {
   "cell_type": "markdown",
   "metadata": {},
   "source": [
    "#### Domain Knowledge for Encoded Features\n",
    "1. `Country` : customers for certain countries should have higher tendencies to cancel their bookings, in regards of visa process for citizen in certain countries to country where hotel situated.\n",
    "2. `Market Segment` : customers' segment should be highly correlated into cancellation status since customer who booked online is more convenient to cancel and re-booked than walk-in customers.\n",
    "3. `Deposit Type` : bookings made with refundable condition should have higher tendencies to be cancelled then bookings made under non-refundable terms.\n",
    "4. `Customer Type` : customers who made bookings for group will have substantially lower tendency to cancel their bookings since travel planning for customers travel in group must be more certain than individual tour.\n",
    "5. `Room Type` : customers who made bookings for cheaper room should have higher tendency to get cancelled since customers in this level will searched for lowest price possible, so if it's a promotion to their room, they will cancel their former bookings to book for room with discounted rate."
   ]
  },
  {
   "cell_type": "markdown",
   "metadata": {},
   "source": [
    "#### 1.5.2 Association Scoring"
   ]
  },
  {
   "cell_type": "markdown",
   "metadata": {},
   "source": [
    "In performing feature selection with Correlation and/or Associations, there are several points to be noted:\n",
    "- When performing Feature Selection, pay attention to entire Correlation score, not only features to target but also features to features\n",
    "- Take notes on number of features, if total number of features are low, use them regardless of the correlation score\n",
    "- If correlation is high (>0.8) between features and target, perform EDA based on Domain Knowledge whether feature has direct impact to the target or not.\n",
    "    - if Yes, drop column/feature regardless of the high correlation score\n",
    "- If correlation is high (>0.8) between 2 or more features, drop either one to prevent Multicollinearity (few columns/features have same purpose/function), as well as for computation efficiency\n",
    "- Choosing threshold must consider overall correlation score between Features - Target, if the highest of them all is 0.4 and there's only 1 feature, do not use that threshold but consider to lower them to certain number."
   ]
  },
  {
   "cell_type": "markdown",
   "metadata": {},
   "source": [
    "We use `Association` as metrics to determine the level of correlation between features and target since `Correlation Ratio` only suitable for Categoric to Numeric columns (all of our feature columns are numerical, categorical features have all been encoded before). For association, we use Theil's U rather than Cramer's V since Cramer's V has possibility to produce bias."
   ]
  },
  {
   "cell_type": "code",
   "execution_count": 45,
   "metadata": {},
   "outputs": [],
   "source": [
    "## Import Dython Package for Correlation Ratio Scoring\n",
    "import dython as dy\n",
    "from dython.nominal import associations"
   ]
  },
  {
   "cell_type": "code",
   "execution_count": 46,
   "metadata": {},
   "outputs": [
    {
     "data": {
      "text/plain": [
       "previous_cancellations           int64\n",
       "booking_changes                  int64\n",
       "days_in_waiting_list             int64\n",
       "required_car_parking_spaces      int64\n",
       "total_of_special_requests        int64\n",
       "is_canceled                      int64\n",
       "country_Others                   uint8\n",
       "country_PRT                      uint8\n",
       "market_segment_Online TA         uint8\n",
       "market_segment_Others            uint8\n",
       "deposit_type_No Deposit          uint8\n",
       "deposit_type_Non Refund          uint8\n",
       "deposit_type_Refundable          uint8\n",
       "customer_type_Contract           uint8\n",
       "customer_type_Group              uint8\n",
       "customer_type_Transient          uint8\n",
       "customer_type_Transient-Party    uint8\n",
       "reserved_room_type_A             uint8\n",
       "reserved_room_type_Others        uint8\n",
       "dtype: object"
      ]
     },
     "execution_count": 46,
     "metadata": {},
     "output_type": "execute_result"
    }
   ],
   "source": [
    "## Check Data Types of Each Column\n",
    "df.dtypes\n",
    "## Our features consist of data in integer and categorical type."
   ]
  },
  {
   "cell_type": "code",
   "execution_count": 47,
   "metadata": {},
   "outputs": [
    {
     "data": {
      "image/png": "[encoded data removed]",
      "text/plain": [
       "<Figure size 1440x720 with 1 Axes>"
      ]
     },
     "metadata": {
      "needs_background": "light"
     },
     "output_type": "display_data"
    },
    {
     "data": {
      "text/plain": [
       "{'corr':                              previous_cancellations  booking_changes  \\\n",
       " previous_cancellations                     1.000000        -0.027361   \n",
       " booking_changes                           -0.027361         1.000000   \n",
       " days_in_waiting_list                       0.006895        -0.010687   \n",
       " required_car_parking_spaces               -0.018208         0.068508   \n",
       " total_of_special_requests                 -0.048026         0.055748   \n",
       " \n",
       "                              days_in_waiting_list  \\\n",
       " previous_cancellations                   0.006895   \n",
       " booking_changes                         -0.010687   \n",
       " days_in_waiting_list                     1.000000   \n",
       " required_car_parking_spaces             -0.030333   \n",
       " total_of_special_requests               -0.083275   \n",
       " \n",
       "                              required_car_parking_spaces  \\\n",
       " previous_cancellations                         -0.018208   \n",
       " booking_changes                                 0.068508   \n",
       " days_in_waiting_list                           -0.030333   \n",
       " required_car_parking_spaces                     1.000000   \n",
       " total_of_special_requests                       0.083678   \n",
       " \n",
       "                              total_of_special_requests  is_canceled  \\\n",
       " previous_cancellations                       -0.048026     0.109598   \n",
       " booking_changes                               0.055748    -0.145746   \n",
       " days_in_waiting_list                         -0.083275     0.056203   \n",
       " required_car_parking_spaces                   0.083678    -0.194807   \n",
       " total_of_special_requests                     1.000000    -0.235993   \n",
       " \n",
       "                              country_Others  country_PRT  \\\n",
       " previous_cancellations            -0.098703     0.098703   \n",
       " booking_changes                    0.062569    -0.062569   \n",
       " days_in_waiting_list              -0.084010     0.084010   \n",
       " required_car_parking_spaces       -0.005120     0.005120   \n",
       " total_of_special_requests          0.212153    -0.212153   \n",
       " \n",
       "                              market_segment_Online TA  market_segment_Others  \\\n",
       " previous_cancellations                      -0.078490               0.078490   \n",
       " booking_changes                             -0.028512               0.028512   \n",
       " days_in_waiting_list                        -0.124696               0.124696   \n",
       " required_car_parking_spaces                  0.020197              -0.020197   \n",
       " total_of_special_requests                    0.390774              -0.390774   \n",
       " \n",
       "                              deposit_type_No Deposit  deposit_type_Non Refund  \\\n",
       " previous_cancellations                     -0.139607                 0.140676   \n",
       " booking_changes                             0.116427                -0.119387   \n",
       " days_in_waiting_list                       -0.124667                 0.123492   \n",
       " required_car_parking_spaces                 0.093909                -0.094507   \n",
       " total_of_special_requests                   0.268128                -0.266979   \n",
       " \n",
       "                              deposit_type_Refundable  customer_type_Contract  \\\n",
       " previous_cancellations                     -0.003747                0.031099   \n",
       " booking_changes                             0.021727               -0.029483   \n",
       " days_in_waiting_list                        0.015811               -0.024737   \n",
       " required_car_parking_spaces                 0.001430               -0.020333   \n",
       " total_of_special_requests                  -0.021605                0.038678   \n",
       " \n",
       "                              customer_type_Group  customer_type_Transient  \\\n",
       " previous_cancellations                 -0.004354                -0.028677   \n",
       " booking_changes                         0.005085                -0.084820   \n",
       " days_in_waiting_list                   -0.007793                -0.097457   \n",
       " required_car_parking_spaces             0.003654                 0.068767   \n",
       " total_of_special_requests               0.007535                 0.130891   \n",
       " \n",
       "                              customer_type_Transient-Party  \\\n",
       " previous_cancellations                            0.017293   \n",
       " booking_changes                                   0.102450   \n",
       " days_in_waiting_list                              0.115995   \n",
       " required_car_parking_spaces                      -0.064593   \n",
       " total_of_special_requests                        -0.157723   \n",
       " \n",
       "                              reserved_room_type_A  reserved_room_type_Others  \n",
       " previous_cancellations                   0.051959                  -0.051959  \n",
       " booking_changes                         -0.045275                   0.045275  \n",
       " days_in_waiting_list                     0.074474                  -0.074474  \n",
       " required_car_parking_spaces             -0.110709                   0.110709  \n",
       " total_of_special_requests               -0.158929                   0.158929  ,\n",
       " 'ax': <AxesSubplot:>}"
      ]
     },
     "execution_count": 47,
     "metadata": {},
     "output_type": "execute_result"
    }
   ],
   "source": [
    "## Association Score Heatmap Using Dython (Features-Features and Features-Target)\n",
    "associations(df, figsize=(20,10), cbar=False, nom_nom_assoc='theil', display_rows=['previous_cancellations',\n",
    "                                                                                    'booking_changes',\n",
    "                                                                                    'days_in_waiting_list',\n",
    "                                                                                    'required_car_parking_spaces',\n",
    "                                                                                    'total_of_special_requests'])\n",
    "# We excluded columns from encoded columns\n",
    "## No multicollinearity issues detected (high associations between features)"
   ]
  },
  {
   "cell_type": "code",
   "execution_count": 48,
   "metadata": {},
   "outputs": [
    {
     "data": {
      "image/png": "[encoded data removed]",
      "text/plain": [
       "<Figure size 1440x720 with 1 Axes>"
      ]
     },
     "metadata": {
      "needs_background": "light"
     },
     "output_type": "display_data"
    },
    {
     "data": {
      "text/plain": [
       "{'corr':              previous_cancellations  booking_changes  days_in_waiting_list  \\\n",
       " is_canceled                0.109598        -0.145746              0.056203   \n",
       " \n",
       "              required_car_parking_spaces  total_of_special_requests  \\\n",
       " is_canceled                    -0.194807                  -0.235993   \n",
       " \n",
       "              is_canceled  country_Others  country_PRT  \\\n",
       " is_canceled          1.0       -0.333142     0.333142   \n",
       " \n",
       "              market_segment_Online TA  market_segment_Others  \\\n",
       " is_canceled                  -0.00493                0.00493   \n",
       " \n",
       "              deposit_type_No Deposit  deposit_type_Non Refund  \\\n",
       " is_canceled                -0.477539                 0.481102   \n",
       " \n",
       "              deposit_type_Refundable  customer_type_Contract  \\\n",
       " is_canceled                -0.011981               -0.023979   \n",
       " \n",
       "              customer_type_Group  customer_type_Transient  \\\n",
       " is_canceled            -0.040125                 0.129772   \n",
       " \n",
       "              customer_type_Transient-Party  reserved_room_type_A  \\\n",
       " is_canceled                      -0.120149              0.070616   \n",
       " \n",
       "              reserved_room_type_Others  \n",
       " is_canceled                  -0.070616  ,\n",
       " 'ax': <AxesSubplot:>}"
      ]
     },
     "execution_count": 48,
     "metadata": {},
     "output_type": "execute_result"
    }
   ],
   "source": [
    "## Association Score Heatmap Using Dython (Features-Target)\n",
    "associations(df, figsize=(20,10), cbar=False, nom_nom_assoc='theil', display_rows=['is_canceled'])"
   ]
  },
  {
   "cell_type": "markdown",
   "metadata": {},
   "source": [
    "- We did not detected any multicollinearity cases (two or more features giving or telling the same values).\n",
    "- Even though association score between features to target are very low, we still include all columns as features as number of features are limited and elimination of features will only make Model more unreliable.\n",
    "- From the result performed under Explanatory Data Analysis (EDA) above, we have analyzed that all features have impact to the target."
   ]
  },
  {
   "cell_type": "markdown",
   "metadata": {},
   "source": [
    "<hr>\n",
    "\n",
    "## 2. Machine Learning Modelling"
   ]
  },
  {
   "cell_type": "markdown",
   "metadata": {},
   "source": [
    "We will start our Machine Learning Modelling by implementing the most simple Model (Base Model) without any parameter tuning. "
   ]
  },
  {
   "cell_type": "markdown",
   "metadata": {},
   "source": [
    "### 2.1 Splitting Data"
   ]
  },
  {
   "cell_type": "code",
   "execution_count": 49,
   "metadata": {},
   "outputs": [],
   "source": [
    "## Define features and target\n",
    "x=df.drop(columns='is_canceled') ## all columns exclude target column\n",
    "y=df['is_canceled'] ## target column"
   ]
  },
  {
   "cell_type": "code",
   "execution_count": 50,
   "metadata": {},
   "outputs": [],
   "source": [
    "## Import Package for splitting data\n",
    "from sklearn.model_selection import train_test_split"
   ]
  },
  {
   "cell_type": "code",
   "execution_count": 51,
   "metadata": {},
   "outputs": [],
   "source": [
    "## Split data\n",
    "x_train, x_test, y_train, y_test = train_test_split(x, y, train_size=.80, random_state=42, stratify=y)\n",
    "## We split data into 80% training set : 20% testing set"
   ]
  },
  {
   "cell_type": "code",
   "execution_count": 52,
   "metadata": {},
   "outputs": [
    {
     "name": "stdout",
     "output_type": "stream",
     "text": [
      "(66858, 18) (16715, 18)\n"
     ]
    }
   ],
   "source": [
    "## Check shape of features\n",
    "print(x_train.shape, x_test.shape)"
   ]
  },
  {
   "cell_type": "markdown",
   "metadata": {},
   "source": [
    "### 2.2 Base Model with Logistic Regression"
   ]
  },
  {
   "cell_type": "markdown",
   "metadata": {},
   "source": [
    "We choose Logistic Regression (or Binary Logistic Regression to be precised) because this it has high interpretability (possibility between label 0 and 1) and because this is classification case (instead of using Linear Regression). Logistic Regression is a technique for modelling the probability of an event. The difference with linear regression is target variable in Binary Logistic Regression is binary, either 0 or 1 while it still helps us understand the relationship between one or more variables and a target variable, just like Linear Regression. \n",
    "- [![LogReg](https://miro.medium.com/max/875/1*DalqI0RtzyMjIQFpMhVeiA.png)](https://miro.medium.com/max/875/1*DalqI0RtzyMjIQFpMhVeiA.png)"
   ]
  },
  {
   "cell_type": "code",
   "execution_count": 53,
   "metadata": {},
   "outputs": [],
   "source": [
    "## Import Package\n",
    "from sklearn.linear_model import LogisticRegression"
   ]
  },
  {
   "cell_type": "code",
   "execution_count": 54,
   "metadata": {},
   "outputs": [],
   "source": [
    "## Build Model\n",
    "LR = LogisticRegression()"
   ]
  },
  {
   "cell_type": "code",
   "execution_count": 55,
   "metadata": {},
   "outputs": [
    {
     "data": {
      "text/html": [
       "<style>#sk-container-id-1 {color: black;background-color: white;}#sk-container-id-1 pre{padding: 0;}#sk-container-id-1 div.sk-toggleable {background-color: white;}#sk-container-id-1 label.sk-toggleable__label {cursor: pointer;display: block;width: 100%;margin-bottom: 0;padding: 0.3em;box-sizing: border-box;text-align: center;}#sk-container-id-1 label.sk-toggleable__label-arrow:before {content: \"▸\";float: left;margin-right: 0.25em;color: #696969;}#sk-container-id-1 label.sk-toggleable__label-arrow:hover:before {color: black;}#sk-container-id-1 div.sk-estimator:hover label.sk-toggleable__label-arrow:before {color: black;}#sk-container-id-1 div.sk-toggleable__content {max-height: 0;max-width: 0;overflow: hidden;text-align: left;background-color: #f0f8ff;}#sk-container-id-1 div.sk-toggleable__content pre {margin: 0.2em;color: black;border-radius: 0.25em;background-color: #f0f8ff;}#sk-container-id-1 input.sk-toggleable__control:checked~div.sk-toggleable__content {max-height: 200px;max-width: 100%;overflow: auto;}#sk-container-id-1 input.sk-toggleable__control:checked~label.sk-toggleable__label-arrow:before {content: \"▾\";}#sk-container-id-1 div.sk-estimator input.sk-toggleable__control:checked~label.sk-toggleable__label {background-color: #d4ebff;}#sk-container-id-1 div.sk-label input.sk-toggleable__control:checked~label.sk-toggleable__label {background-color: #d4ebff;}#sk-container-id-1 input.sk-hidden--visually {border: 0;clip: rect(1px 1px 1px 1px);clip: rect(1px, 1px, 1px, 1px);height: 1px;margin: -1px;overflow: hidden;padding: 0;position: absolute;width: 1px;}#sk-container-id-1 div.sk-estimator {font-family: monospace;background-color: #f0f8ff;border: 1px dotted black;border-radius: 0.25em;box-sizing: border-box;margin-bottom: 0.5em;}#sk-container-id-1 div.sk-estimator:hover {background-color: #d4ebff;}#sk-container-id-1 div.sk-parallel-item::after {content: \"\";width: 100%;border-bottom: 1px solid gray;flex-grow: 1;}#sk-container-id-1 div.sk-label:hover label.sk-toggleable__label {background-color: #d4ebff;}#sk-container-id-1 div.sk-serial::before {content: \"\";position: absolute;border-left: 1px solid gray;box-sizing: border-box;top: 0;bottom: 0;left: 50%;z-index: 0;}#sk-container-id-1 div.sk-serial {display: flex;flex-direction: column;align-items: center;background-color: white;padding-right: 0.2em;padding-left: 0.2em;position: relative;}#sk-container-id-1 div.sk-item {position: relative;z-index: 1;}#sk-container-id-1 div.sk-parallel {display: flex;align-items: stretch;justify-content: center;background-color: white;position: relative;}#sk-container-id-1 div.sk-item::before, #sk-container-id-1 div.sk-parallel-item::before {content: \"\";position: absolute;border-left: 1px solid gray;box-sizing: border-box;top: 0;bottom: 0;left: 50%;z-index: -1;}#sk-container-id-1 div.sk-parallel-item {display: flex;flex-direction: column;z-index: 1;position: relative;background-color: white;}#sk-container-id-1 div.sk-parallel-item:first-child::after {align-self: flex-end;width: 50%;}#sk-container-id-1 div.sk-parallel-item:last-child::after {align-self: flex-start;width: 50%;}#sk-container-id-1 div.sk-parallel-item:only-child::after {width: 0;}#sk-container-id-1 div.sk-dashed-wrapped {border: 1px dashed gray;margin: 0 0.4em 0.5em 0.4em;box-sizing: border-box;padding-bottom: 0.4em;background-color: white;}#sk-container-id-1 div.sk-label label {font-family: monospace;font-weight: bold;display: inline-block;line-height: 1.2em;}#sk-container-id-1 div.sk-label-container {text-align: center;}#sk-container-id-1 div.sk-container {/* jupyter's `normalize.less` sets `[hidden] { display: none; }` but bootstrap.min.css set `[hidden] { display: none !important; }` so we also need the `!important` here to be able to override the default hidden behavior on the sphinx rendered scikit-learn.org. See: https://github.com/scikit-learn/scikit-learn/issues/21755 */display: inline-block !important;position: relative;}#sk-container-id-1 div.sk-text-repr-fallback {display: none;}</style><div id=\"sk-container-id-1\" class=\"sk-top-container\"><div class=\"sk-text-repr-fallback\"><pre>LogisticRegression()</pre><b>In a Jupyter environment, please rerun this cell to show the HTML representation or trust the notebook. <br />On GitHub, the HTML representation is unable to render, please try loading this page with nbviewer.org.</b></div><div class=\"sk-container\" hidden><div class=\"sk-item\"><div class=\"sk-estimator sk-toggleable\"><input class=\"sk-toggleable__control sk-hidden--visually\" id=\"sk-estimator-id-1\" type=\"checkbox\" checked><label for=\"sk-estimator-id-1\" class=\"sk-toggleable__label sk-toggleable__label-arrow\">LogisticRegression</label><div class=\"sk-toggleable__content\"><pre>LogisticRegression()</pre></div></div></div></div></div>"
      ],
      "text/plain": [
       "LogisticRegression()"
      ]
     },
     "execution_count": 55,
     "metadata": {},
     "output_type": "execute_result"
    }
   ],
   "source": [
    "## Fit Model\n",
    "LR.fit(x_train, y_train)"
   ]
  },
  {
   "cell_type": "markdown",
   "metadata": {},
   "source": [
    "### Model - Cancellation Detection\n",
    "- Class 0 - No Cancellation Detected -> Negative\n",
    "- Class 1 - Cancellation Detected -> Positive\n",
    "- **GOALS** : Minimalized False-Negative (no cancellation detected but actually it does)\n",
    "\n",
    "**`Model will focus on Recall Class 1`**"
   ]
  },
  {
   "cell_type": "markdown",
   "metadata": {},
   "source": [
    "#### Evaluation Matrix for Base Model with Logistic Regression"
   ]
  },
  {
   "cell_type": "code",
   "execution_count": 56,
   "metadata": {},
   "outputs": [],
   "source": [
    "## Import package\n",
    "from sklearn.metrics import confusion_matrix, classification_report, accuracy_score, recall_score, precision_score, f1_score"
   ]
  },
  {
   "cell_type": "code",
   "execution_count": 57,
   "metadata": {},
   "outputs": [],
   "source": [
    "## Create Function to perform Evaluation Matrix scoring for Model\n",
    "def Eva_Matrix(model,x_train,x_test,y_train,y_test,Nama):\n",
    "    Model=model.fit(x_train,y_train)\n",
    "    y_pred_train=Model.predict(x_train)\n",
    "    acc_train=accuracy_score(y_train,y_pred_train)\n",
    "    rec_train=recall_score(y_train,y_pred_train)\n",
    "    prec_train=precision_score(y_train,y_pred_train)\n",
    "    f1_train=f1_score(y_train,y_pred_train)\n",
    "\n",
    "    y_pred_test=Model.predict(x_test)\n",
    "    acc_test=accuracy_score(y_test,y_pred_test)\n",
    "    rec_test=recall_score(y_test,y_pred_test)\n",
    "    prec_test=precision_score(y_test,y_pred_test)\n",
    "    f1_test=f1_score(y_test,y_pred_test)\n",
    "    \n",
    "    data_LR={\n",
    "    Nama + ' Training':[acc_train,rec_train,prec_train,f1_train],\n",
    "    Nama + ' Testing':[acc_test,rec_test,prec_test,f1_test]\n",
    "}\n",
    "\n",
    "    df_LR=(pd.DataFrame(data_LR,index=['Accuracy','Recall','Precision','F1']).T).round(4)\n",
    "    cr_train=classification_report(y_train,y_pred_train)\n",
    "    cm_train=confusion_matrix(y_train,y_pred_train,labels=[1,0])\n",
    "    df_train=pd.DataFrame(data=cm_train,columns=['Pred 1','Pred 0'],index=['Akt 1','Akt 0'])\n",
    "\n",
    "    cr_test=classification_report(y_test,y_pred_test)\n",
    "    cm_test=confusion_matrix(y_test,y_pred_test,labels=[1,0])\n",
    "    df_test=pd.DataFrame(data=cm_test,columns=['Pred 1','Pred 0'],index=['Akt 1','Akt 0'])\n",
    "\n",
    "    return df_LR,cr_train,df_train,cr_test,df_test\n",
    "\n",
    "## Run Function\n",
    "df_LR, cr_LR_tr, cm_LR_tr, cr_LR_ts, cm_LR_ts = Eva_Matrix(LR,x_train,x_test,y_train,y_test,'LogReg Base')"
   ]
  },
  {
   "cell_type": "code",
   "execution_count": 58,
   "metadata": {},
   "outputs": [
    {
     "data": {
      "text/html": [
       "<div>\n",
       "<style scoped>\n",
       "    .dataframe tbody tr th:only-of-type {\n",
       "        vertical-align: middle;\n",
       "    }\n",
       "\n",
       "    .dataframe tbody tr th {\n",
       "        vertical-align: top;\n",
       "    }\n",
       "\n",
       "    .dataframe thead th {\n",
       "        text-align: right;\n",
       "    }\n",
       "</style>\n",
       "<table border=\"1\" class=\"dataframe\">\n",
       "  <thead>\n",
       "    <tr style=\"text-align: right;\">\n",
       "      <th></th>\n",
       "      <th>Accuracy</th>\n",
       "      <th>Recall</th>\n",
       "      <th>Precision</th>\n",
       "      <th>F1</th>\n",
       "    </tr>\n",
       "  </thead>\n",
       "  <tbody>\n",
       "    <tr>\n",
       "      <th>LogReg Base Training</th>\n",
       "      <td>0.7784</td>\n",
       "      <td>0.5362</td>\n",
       "      <td>0.7953</td>\n",
       "      <td>0.6406</td>\n",
       "    </tr>\n",
       "    <tr>\n",
       "      <th>LogReg Base Testing</th>\n",
       "      <td>0.7748</td>\n",
       "      <td>0.5245</td>\n",
       "      <td>0.7941</td>\n",
       "      <td>0.6318</td>\n",
       "    </tr>\n",
       "  </tbody>\n",
       "</table>\n",
       "</div>"
      ],
      "text/plain": [
       "                      Accuracy  Recall  Precision      F1\n",
       "LogReg Base Training    0.7784  0.5362     0.7953  0.6406\n",
       "LogReg Base Testing     0.7748  0.5245     0.7941  0.6318"
      ]
     },
     "execution_count": 58,
     "metadata": {},
     "output_type": "execute_result"
    }
   ],
   "source": [
    "## Show Evaluation Matrix\n",
    "df_LR\n",
    "## Accuracy score will produce bias as proportion of values in target are imbalanced\n",
    "### We will focus on recall of Class 1 in classification report below"
   ]
  },
  {
   "cell_type": "code",
   "execution_count": 59,
   "metadata": {},
   "outputs": [
    {
     "name": "stdout",
     "output_type": "stream",
     "text": [
      "              precision    recall  f1-score   support\n",
      "\n",
      "           0       0.77      0.92      0.84     42236\n",
      "           1       0.80      0.54      0.64     24622\n",
      "\n",
      "    accuracy                           0.78     66858\n",
      "   macro avg       0.78      0.73      0.74     66858\n",
      "weighted avg       0.78      0.78      0.77     66858\n",
      "               precision    recall  f1-score   support\n",
      "\n",
      "           0       0.77      0.92      0.84     10559\n",
      "           1       0.79      0.52      0.63      6156\n",
      "\n",
      "    accuracy                           0.77     16715\n",
      "   macro avg       0.78      0.72      0.73     16715\n",
      "weighted avg       0.78      0.77      0.76     16715\n",
      "\n"
     ]
    }
   ],
   "source": [
    "## Show Classification Report\n",
    "print(cr_LR_tr, cr_LR_ts)"
   ]
  },
  {
   "cell_type": "markdown",
   "metadata": {},
   "source": [
    "Recall score of Class 1 in training and testing set of Base Model are below 0.55 (not ideal). Its probably because these scores produce by Base Model without any tuning whatsoever. This resulted in Model could not distinguish those values (Cancel and No Cancel) appropriately. Therefore, this data need to be undergone Feature Engineering, Tuning or build another Machine Learning algorithms."
   ]
  },
  {
   "cell_type": "code",
   "execution_count": 60,
   "metadata": {},
   "outputs": [
    {
     "data": {
      "text/html": [
       "<div>\n",
       "<style scoped>\n",
       "    .dataframe tbody tr th:only-of-type {\n",
       "        vertical-align: middle;\n",
       "    }\n",
       "\n",
       "    .dataframe tbody tr th {\n",
       "        vertical-align: top;\n",
       "    }\n",
       "\n",
       "    .dataframe thead th {\n",
       "        text-align: right;\n",
       "    }\n",
       "</style>\n",
       "<table border=\"1\" class=\"dataframe\">\n",
       "  <thead>\n",
       "    <tr style=\"text-align: right;\">\n",
       "      <th></th>\n",
       "      <th>Pred 1</th>\n",
       "      <th>Pred 0</th>\n",
       "    </tr>\n",
       "  </thead>\n",
       "  <tbody>\n",
       "    <tr>\n",
       "      <th>Akt 1</th>\n",
       "      <td>3229</td>\n",
       "      <td>2927</td>\n",
       "    </tr>\n",
       "    <tr>\n",
       "      <th>Akt 0</th>\n",
       "      <td>837</td>\n",
       "      <td>9722</td>\n",
       "    </tr>\n",
       "  </tbody>\n",
       "</table>\n",
       "</div>"
      ],
      "text/plain": [
       "       Pred 1  Pred 0\n",
       "Akt 1    3229    2927\n",
       "Akt 0     837    9722"
      ]
     },
     "execution_count": 60,
     "metadata": {},
     "output_type": "execute_result"
    }
   ],
   "source": [
    "## Show Confusion Matrix - Testing\n",
    "cm_LR_ts"
   ]
  },
  {
   "cell_type": "markdown",
   "metadata": {},
   "source": [
    "Number of False-Negative cases are high and almost closing to True-Positive cases, therefore we need to improve this Model or try with different Algorithms that produce significantly lower False-Negative cases than the Base Model."
   ]
  },
  {
   "cell_type": "markdown",
   "metadata": {},
   "source": [
    "### 2.2 Base Model With K-Nearest Neighbors (KNN)"
   ]
  },
  {
   "cell_type": "markdown",
   "metadata": {},
   "source": [
    "In classification case, we have a predictor (or set of predictors) - features and a label - target. K-Nearest Neighbors (KNN) algorithm assumes that similar things exist in close proximity. Most of the time, similar data points are close to each other. The KNN algorithm hinges on this assumption being true enough for the algorithm to be useful. \n",
    "\n",
    "> _“Birds of a feather flock together.”_\n",
    "\n",
    "This technique give prediction result based on majority class from several similar observation or nearest 'neighbors'. Even though it's quite simple and did not produce a Model, KNN could give adequate accuracy compared to other method, the downside is KNN is not quite practical in most of the cases and need huge chunk of memory. KNN is non-parametric, means did not produce equation as Linear Regression or Logistic Regression."
   ]
  },
  {
   "cell_type": "code",
   "execution_count": 61,
   "metadata": {},
   "outputs": [],
   "source": [
    "## Import Package\n",
    "from sklearn.neighbors import KNeighborsClassifier"
   ]
  },
  {
   "cell_type": "code",
   "execution_count": 62,
   "metadata": {},
   "outputs": [],
   "source": [
    "## Build Model\n",
    "KNN = KNeighborsClassifier()"
   ]
  },
  {
   "cell_type": "code",
   "execution_count": 63,
   "metadata": {},
   "outputs": [
    {
     "data": {
      "text/html": [
       "<style>#sk-container-id-2 {color: black;background-color: white;}#sk-container-id-2 pre{padding: 0;}#sk-container-id-2 div.sk-toggleable {background-color: white;}#sk-container-id-2 label.sk-toggleable__label {cursor: pointer;display: block;width: 100%;margin-bottom: 0;padding: 0.3em;box-sizing: border-box;text-align: center;}#sk-container-id-2 label.sk-toggleable__label-arrow:before {content: \"▸\";float: left;margin-right: 0.25em;color: #696969;}#sk-container-id-2 label.sk-toggleable__label-arrow:hover:before {color: black;}#sk-container-id-2 div.sk-estimator:hover label.sk-toggleable__label-arrow:before {color: black;}#sk-container-id-2 div.sk-toggleable__content {max-height: 0;max-width: 0;overflow: hidden;text-align: left;background-color: #f0f8ff;}#sk-container-id-2 div.sk-toggleable__content pre {margin: 0.2em;color: black;border-radius: 0.25em;background-color: #f0f8ff;}#sk-container-id-2 input.sk-toggleable__control:checked~div.sk-toggleable__content {max-height: 200px;max-width: 100%;overflow: auto;}#sk-container-id-2 input.sk-toggleable__control:checked~label.sk-toggleable__label-arrow:before {content: \"▾\";}#sk-container-id-2 div.sk-estimator input.sk-toggleable__control:checked~label.sk-toggleable__label {background-color: #d4ebff;}#sk-container-id-2 div.sk-label input.sk-toggleable__control:checked~label.sk-toggleable__label {background-color: #d4ebff;}#sk-container-id-2 input.sk-hidden--visually {border: 0;clip: rect(1px 1px 1px 1px);clip: rect(1px, 1px, 1px, 1px);height: 1px;margin: -1px;overflow: hidden;padding: 0;position: absolute;width: 1px;}#sk-container-id-2 div.sk-estimator {font-family: monospace;background-color: #f0f8ff;border: 1px dotted black;border-radius: 0.25em;box-sizing: border-box;margin-bottom: 0.5em;}#sk-container-id-2 div.sk-estimator:hover {background-color: #d4ebff;}#sk-container-id-2 div.sk-parallel-item::after {content: \"\";width: 100%;border-bottom: 1px solid gray;flex-grow: 1;}#sk-container-id-2 div.sk-label:hover label.sk-toggleable__label {background-color: #d4ebff;}#sk-container-id-2 div.sk-serial::before {content: \"\";position: absolute;border-left: 1px solid gray;box-sizing: border-box;top: 0;bottom: 0;left: 50%;z-index: 0;}#sk-container-id-2 div.sk-serial {display: flex;flex-direction: column;align-items: center;background-color: white;padding-right: 0.2em;padding-left: 0.2em;position: relative;}#sk-container-id-2 div.sk-item {position: relative;z-index: 1;}#sk-container-id-2 div.sk-parallel {display: flex;align-items: stretch;justify-content: center;background-color: white;position: relative;}#sk-container-id-2 div.sk-item::before, #sk-container-id-2 div.sk-parallel-item::before {content: \"\";position: absolute;border-left: 1px solid gray;box-sizing: border-box;top: 0;bottom: 0;left: 50%;z-index: -1;}#sk-container-id-2 div.sk-parallel-item {display: flex;flex-direction: column;z-index: 1;position: relative;background-color: white;}#sk-container-id-2 div.sk-parallel-item:first-child::after {align-self: flex-end;width: 50%;}#sk-container-id-2 div.sk-parallel-item:last-child::after {align-self: flex-start;width: 50%;}#sk-container-id-2 div.sk-parallel-item:only-child::after {width: 0;}#sk-container-id-2 div.sk-dashed-wrapped {border: 1px dashed gray;margin: 0 0.4em 0.5em 0.4em;box-sizing: border-box;padding-bottom: 0.4em;background-color: white;}#sk-container-id-2 div.sk-label label {font-family: monospace;font-weight: bold;display: inline-block;line-height: 1.2em;}#sk-container-id-2 div.sk-label-container {text-align: center;}#sk-container-id-2 div.sk-container {/* jupyter's `normalize.less` sets `[hidden] { display: none; }` but bootstrap.min.css set `[hidden] { display: none !important; }` so we also need the `!important` here to be able to override the default hidden behavior on the sphinx rendered scikit-learn.org. See: https://github.com/scikit-learn/scikit-learn/issues/21755 */display: inline-block !important;position: relative;}#sk-container-id-2 div.sk-text-repr-fallback {display: none;}</style><div id=\"sk-container-id-2\" class=\"sk-top-container\"><div class=\"sk-text-repr-fallback\"><pre>KNeighborsClassifier()</pre><b>In a Jupyter environment, please rerun this cell to show the HTML representation or trust the notebook. <br />On GitHub, the HTML representation is unable to render, please try loading this page with nbviewer.org.</b></div><div class=\"sk-container\" hidden><div class=\"sk-item\"><div class=\"sk-estimator sk-toggleable\"><input class=\"sk-toggleable__control sk-hidden--visually\" id=\"sk-estimator-id-2\" type=\"checkbox\" checked><label for=\"sk-estimator-id-2\" class=\"sk-toggleable__label sk-toggleable__label-arrow\">KNeighborsClassifier</label><div class=\"sk-toggleable__content\"><pre>KNeighborsClassifier()</pre></div></div></div></div></div>"
      ],
      "text/plain": [
       "KNeighborsClassifier()"
      ]
     },
     "execution_count": 63,
     "metadata": {},
     "output_type": "execute_result"
    }
   ],
   "source": [
    "## Fit Model\n",
    "KNN.fit(x_train, y_train)"
   ]
  },
  {
   "cell_type": "markdown",
   "metadata": {},
   "source": [
    "#### Evaluation Matrix for Base Model with KNN"
   ]
  },
  {
   "cell_type": "code",
   "execution_count": 64,
   "metadata": {},
   "outputs": [],
   "source": [
    "## Run Function\n",
    "df_KNN, cr_KNN_tr, cm_KNN_tr, cr_KNN_ts, cm_KNN_ts = Eva_Matrix(KNN, x_train, x_test, y_train, y_test, 'KNN Base')"
   ]
  },
  {
   "cell_type": "code",
   "execution_count": 65,
   "metadata": {},
   "outputs": [
    {
     "data": {
      "text/html": [
       "<div>\n",
       "<style scoped>\n",
       "    .dataframe tbody tr th:only-of-type {\n",
       "        vertical-align: middle;\n",
       "    }\n",
       "\n",
       "    .dataframe tbody tr th {\n",
       "        vertical-align: top;\n",
       "    }\n",
       "\n",
       "    .dataframe thead th {\n",
       "        text-align: right;\n",
       "    }\n",
       "</style>\n",
       "<table border=\"1\" class=\"dataframe\">\n",
       "  <thead>\n",
       "    <tr style=\"text-align: right;\">\n",
       "      <th></th>\n",
       "      <th>Accuracy</th>\n",
       "      <th>Recall</th>\n",
       "      <th>Precision</th>\n",
       "      <th>F1</th>\n",
       "    </tr>\n",
       "  </thead>\n",
       "  <tbody>\n",
       "    <tr>\n",
       "      <th>KNN Base Training</th>\n",
       "      <td>0.7853</td>\n",
       "      <td>0.7156</td>\n",
       "      <td>0.7055</td>\n",
       "      <td>0.7105</td>\n",
       "    </tr>\n",
       "    <tr>\n",
       "      <th>KNN Base Testing</th>\n",
       "      <td>0.7811</td>\n",
       "      <td>0.7078</td>\n",
       "      <td>0.7008</td>\n",
       "      <td>0.7043</td>\n",
       "    </tr>\n",
       "  </tbody>\n",
       "</table>\n",
       "</div>"
      ],
      "text/plain": [
       "                   Accuracy  Recall  Precision      F1\n",
       "KNN Base Training    0.7853  0.7156     0.7055  0.7105\n",
       "KNN Base Testing     0.7811  0.7078     0.7008  0.7043"
      ]
     },
     "execution_count": 65,
     "metadata": {},
     "output_type": "execute_result"
    }
   ],
   "source": [
    "## Show Evaluation Matrix\n",
    "df_KNN\n",
    "## Accuracy score will produce bias as proportion of values in target are imbalanced (skewed towards No Cancellation [0])\n",
    "### We will focus on recall of Class 1 in classification report below"
   ]
  },
  {
   "cell_type": "code",
   "execution_count": 66,
   "metadata": {},
   "outputs": [
    {
     "name": "stdout",
     "output_type": "stream",
     "text": [
      "              precision    recall  f1-score   support\n",
      "\n",
      "           0       0.83      0.83      0.83     42236\n",
      "           1       0.71      0.72      0.71     24622\n",
      "\n",
      "    accuracy                           0.79     66858\n",
      "   macro avg       0.77      0.77      0.77     66858\n",
      "weighted avg       0.79      0.79      0.79     66858\n",
      "               precision    recall  f1-score   support\n",
      "\n",
      "           0       0.83      0.82      0.83     10559\n",
      "           1       0.70      0.71      0.70      6156\n",
      "\n",
      "    accuracy                           0.78     16715\n",
      "   macro avg       0.76      0.77      0.77     16715\n",
      "weighted avg       0.78      0.78      0.78     16715\n",
      "\n"
     ]
    }
   ],
   "source": [
    "## Show Classification Report\n",
    "print(cr_KNN_tr, cr_KNN_ts)"
   ]
  },
  {
   "cell_type": "markdown",
   "metadata": {},
   "source": [
    "Recall score of Class 1 in training and testing set of Base Model are above 0.70 (good but need further improvement) and showing a stable Model. Its probably because these scores produce by Base Model without any tuning. This Model will be undergone Tuning to reach even better recall score."
   ]
  },
  {
   "cell_type": "code",
   "execution_count": 67,
   "metadata": {},
   "outputs": [
    {
     "data": {
      "text/html": [
       "<div>\n",
       "<style scoped>\n",
       "    .dataframe tbody tr th:only-of-type {\n",
       "        vertical-align: middle;\n",
       "    }\n",
       "\n",
       "    .dataframe tbody tr th {\n",
       "        vertical-align: top;\n",
       "    }\n",
       "\n",
       "    .dataframe thead th {\n",
       "        text-align: right;\n",
       "    }\n",
       "</style>\n",
       "<table border=\"1\" class=\"dataframe\">\n",
       "  <thead>\n",
       "    <tr style=\"text-align: right;\">\n",
       "      <th></th>\n",
       "      <th>Pred 1</th>\n",
       "      <th>Pred 0</th>\n",
       "    </tr>\n",
       "  </thead>\n",
       "  <tbody>\n",
       "    <tr>\n",
       "      <th>Akt 1</th>\n",
       "      <td>4357</td>\n",
       "      <td>1799</td>\n",
       "    </tr>\n",
       "    <tr>\n",
       "      <th>Akt 0</th>\n",
       "      <td>1860</td>\n",
       "      <td>8699</td>\n",
       "    </tr>\n",
       "  </tbody>\n",
       "</table>\n",
       "</div>"
      ],
      "text/plain": [
       "       Pred 1  Pred 0\n",
       "Akt 1    4357    1799\n",
       "Akt 0    1860    8699"
      ]
     },
     "execution_count": 67,
     "metadata": {},
     "output_type": "execute_result"
    }
   ],
   "source": [
    "## Show Confusion Matrix - Testing\n",
    "cm_KNN_ts"
   ]
  },
  {
   "cell_type": "markdown",
   "metadata": {},
   "source": [
    "Number of False-Negative cases are much lower than Logistic Regression but still high in quantity. We will try to improve this Model or try with different Algorithms that produce significantly lower False-Negative cases than the Base Model."
   ]
  },
  {
   "cell_type": "markdown",
   "metadata": {},
   "source": [
    "### 2.3 Base Model with Support Vector Machine (SVM)\n",
    "SVMs are amongst the most robust prediction methods. After giving an SVM model sets of labeled training data for each category, they’re able to categorize new text. Benefits of using SVM are higher speed and better performance in low / limited number of data. \n",
    "\n",
    "The goal of the SVM algorithm is to create the best line or decision boundary that can segregate n-dimensional space into classes so that we can easily put the new data point in the correct category in the future. This best decision boundary is called a hyperplane. SVM chooses the extreme points/vectors that help in creating the hyperplane. These extreme cases are called as support vectors, and hence algorithm is termed as Support Vector Machine. Consider the below diagram in which there are two different categories that are classified using a decision boundary or hyperplane.\n",
    "- [![SVM](https://static.javatpoint.com/tutorial/machine-learning/images/support-vector-machine-algorithm.png)](https://static.javatpoint.com/tutorial/machine-learning/images/support-vector-machine-algorithm.png)"
   ]
  },
  {
   "cell_type": "code",
   "execution_count": 68,
   "metadata": {},
   "outputs": [],
   "source": [
    "## Import Package\n",
    "from sklearn.svm import SVC"
   ]
  },
  {
   "cell_type": "code",
   "execution_count": 69,
   "metadata": {},
   "outputs": [],
   "source": [
    "## Build Model\n",
    "SVM = SVC()"
   ]
  },
  {
   "cell_type": "code",
   "execution_count": 70,
   "metadata": {},
   "outputs": [
    {
     "data": {
      "text/html": [
       "<style>#sk-container-id-3 {color: black;background-color: white;}#sk-container-id-3 pre{padding: 0;}#sk-container-id-3 div.sk-toggleable {background-color: white;}#sk-container-id-3 label.sk-toggleable__label {cursor: pointer;display: block;width: 100%;margin-bottom: 0;padding: 0.3em;box-sizing: border-box;text-align: center;}#sk-container-id-3 label.sk-toggleable__label-arrow:before {content: \"▸\";float: left;margin-right: 0.25em;color: #696969;}#sk-container-id-3 label.sk-toggleable__label-arrow:hover:before {color: black;}#sk-container-id-3 div.sk-estimator:hover label.sk-toggleable__label-arrow:before {color: black;}#sk-container-id-3 div.sk-toggleable__content {max-height: 0;max-width: 0;overflow: hidden;text-align: left;background-color: #f0f8ff;}#sk-container-id-3 div.sk-toggleable__content pre {margin: 0.2em;color: black;border-radius: 0.25em;background-color: #f0f8ff;}#sk-container-id-3 input.sk-toggleable__control:checked~div.sk-toggleable__content {max-height: 200px;max-width: 100%;overflow: auto;}#sk-container-id-3 input.sk-toggleable__control:checked~label.sk-toggleable__label-arrow:before {content: \"▾\";}#sk-container-id-3 div.sk-estimator input.sk-toggleable__control:checked~label.sk-toggleable__label {background-color: #d4ebff;}#sk-container-id-3 div.sk-label input.sk-toggleable__control:checked~label.sk-toggleable__label {background-color: #d4ebff;}#sk-container-id-3 input.sk-hidden--visually {border: 0;clip: rect(1px 1px 1px 1px);clip: rect(1px, 1px, 1px, 1px);height: 1px;margin: -1px;overflow: hidden;padding: 0;position: absolute;width: 1px;}#sk-container-id-3 div.sk-estimator {font-family: monospace;background-color: #f0f8ff;border: 1px dotted black;border-radius: 0.25em;box-sizing: border-box;margin-bottom: 0.5em;}#sk-container-id-3 div.sk-estimator:hover {background-color: #d4ebff;}#sk-container-id-3 div.sk-parallel-item::after {content: \"\";width: 100%;border-bottom: 1px solid gray;flex-grow: 1;}#sk-container-id-3 div.sk-label:hover label.sk-toggleable__label {background-color: #d4ebff;}#sk-container-id-3 div.sk-serial::before {content: \"\";position: absolute;border-left: 1px solid gray;box-sizing: border-box;top: 0;bottom: 0;left: 50%;z-index: 0;}#sk-container-id-3 div.sk-serial {display: flex;flex-direction: column;align-items: center;background-color: white;padding-right: 0.2em;padding-left: 0.2em;position: relative;}#sk-container-id-3 div.sk-item {position: relative;z-index: 1;}#sk-container-id-3 div.sk-parallel {display: flex;align-items: stretch;justify-content: center;background-color: white;position: relative;}#sk-container-id-3 div.sk-item::before, #sk-container-id-3 div.sk-parallel-item::before {content: \"\";position: absolute;border-left: 1px solid gray;box-sizing: border-box;top: 0;bottom: 0;left: 50%;z-index: -1;}#sk-container-id-3 div.sk-parallel-item {display: flex;flex-direction: column;z-index: 1;position: relative;background-color: white;}#sk-container-id-3 div.sk-parallel-item:first-child::after {align-self: flex-end;width: 50%;}#sk-container-id-3 div.sk-parallel-item:last-child::after {align-self: flex-start;width: 50%;}#sk-container-id-3 div.sk-parallel-item:only-child::after {width: 0;}#sk-container-id-3 div.sk-dashed-wrapped {border: 1px dashed gray;margin: 0 0.4em 0.5em 0.4em;box-sizing: border-box;padding-bottom: 0.4em;background-color: white;}#sk-container-id-3 div.sk-label label {font-family: monospace;font-weight: bold;display: inline-block;line-height: 1.2em;}#sk-container-id-3 div.sk-label-container {text-align: center;}#sk-container-id-3 div.sk-container {/* jupyter's `normalize.less` sets `[hidden] { display: none; }` but bootstrap.min.css set `[hidden] { display: none !important; }` so we also need the `!important` here to be able to override the default hidden behavior on the sphinx rendered scikit-learn.org. See: https://github.com/scikit-learn/scikit-learn/issues/21755 */display: inline-block !important;position: relative;}#sk-container-id-3 div.sk-text-repr-fallback {display: none;}</style><div id=\"sk-container-id-3\" class=\"sk-top-container\"><div class=\"sk-text-repr-fallback\"><pre>SVC()</pre><b>In a Jupyter environment, please rerun this cell to show the HTML representation or trust the notebook. <br />On GitHub, the HTML representation is unable to render, please try loading this page with nbviewer.org.</b></div><div class=\"sk-container\" hidden><div class=\"sk-item\"><div class=\"sk-estimator sk-toggleable\"><input class=\"sk-toggleable__control sk-hidden--visually\" id=\"sk-estimator-id-3\" type=\"checkbox\" checked><label for=\"sk-estimator-id-3\" class=\"sk-toggleable__label sk-toggleable__label-arrow\">SVC</label><div class=\"sk-toggleable__content\"><pre>SVC()</pre></div></div></div></div></div>"
      ],
      "text/plain": [
       "SVC()"
      ]
     },
     "execution_count": 70,
     "metadata": {},
     "output_type": "execute_result"
    }
   ],
   "source": [
    "## Fit Model\n",
    "SVM.fit(x_train, y_train)"
   ]
  },
  {
   "cell_type": "markdown",
   "metadata": {},
   "source": [
    "#### Evaluation Matrix for Base Model with SVM"
   ]
  },
  {
   "cell_type": "code",
   "execution_count": 71,
   "metadata": {},
   "outputs": [],
   "source": [
    "## Run Function\n",
    "df_SVM, cr_SVM_tr, cm_SVM_tr, cr_SVM_ts, cm_SVM_ts = Eva_Matrix(SVM, x_train, x_test, y_train, y_test,'SVM Base')"
   ]
  },
  {
   "cell_type": "code",
   "execution_count": 72,
   "metadata": {},
   "outputs": [
    {
     "data": {
      "text/html": [
       "<div>\n",
       "<style scoped>\n",
       "    .dataframe tbody tr th:only-of-type {\n",
       "        vertical-align: middle;\n",
       "    }\n",
       "\n",
       "    .dataframe tbody tr th {\n",
       "        vertical-align: top;\n",
       "    }\n",
       "\n",
       "    .dataframe thead th {\n",
       "        text-align: right;\n",
       "    }\n",
       "</style>\n",
       "<table border=\"1\" class=\"dataframe\">\n",
       "  <thead>\n",
       "    <tr style=\"text-align: right;\">\n",
       "      <th></th>\n",
       "      <th>Accuracy</th>\n",
       "      <th>Recall</th>\n",
       "      <th>Precision</th>\n",
       "      <th>F1</th>\n",
       "    </tr>\n",
       "  </thead>\n",
       "  <tbody>\n",
       "    <tr>\n",
       "      <th>SVM Base Training</th>\n",
       "      <td>0.7656</td>\n",
       "      <td>0.3787</td>\n",
       "      <td>0.9612</td>\n",
       "      <td>0.5434</td>\n",
       "    </tr>\n",
       "    <tr>\n",
       "      <th>SVM Base Testing</th>\n",
       "      <td>0.7657</td>\n",
       "      <td>0.3801</td>\n",
       "      <td>0.9590</td>\n",
       "      <td>0.5444</td>\n",
       "    </tr>\n",
       "  </tbody>\n",
       "</table>\n",
       "</div>"
      ],
      "text/plain": [
       "                   Accuracy  Recall  Precision      F1\n",
       "SVM Base Training    0.7656  0.3787     0.9612  0.5434\n",
       "SVM Base Testing     0.7657  0.3801     0.9590  0.5444"
      ]
     },
     "execution_count": 72,
     "metadata": {},
     "output_type": "execute_result"
    }
   ],
   "source": [
    "## Show Evaluation Matrix\n",
    "df_SVM\n",
    "## Accuracy score will produce bias as proportion of values in target are imbalanced\n",
    "### Recall score is quite good even though haven't reach ideal score of 0.8\n",
    "### We will focus on recall of Class 1 in classification report below"
   ]
  },
  {
   "cell_type": "code",
   "execution_count": 73,
   "metadata": {},
   "outputs": [
    {
     "name": "stdout",
     "output_type": "stream",
     "text": [
      "              precision    recall  f1-score   support\n",
      "\n",
      "           0       0.73      0.99      0.84     42236\n",
      "           1       0.96      0.38      0.54     24622\n",
      "\n",
      "    accuracy                           0.77     66858\n",
      "   macro avg       0.85      0.68      0.69     66858\n",
      "weighted avg       0.82      0.77      0.73     66858\n",
      "               precision    recall  f1-score   support\n",
      "\n",
      "           0       0.73      0.99      0.84     10559\n",
      "           1       0.96      0.38      0.54      6156\n",
      "\n",
      "    accuracy                           0.77     16715\n",
      "   macro avg       0.85      0.69      0.69     16715\n",
      "weighted avg       0.82      0.77      0.73     16715\n",
      "\n"
     ]
    }
   ],
   "source": [
    "## Show Classification Report\n",
    "print(cr_SVM_tr, cr_SVM_ts)"
   ]
  },
  {
   "cell_type": "markdown",
   "metadata": {},
   "source": [
    "Recall score of Class 1 in training and testing set of Base Model are below 0.4 (not ideal), even though this Model show good stability. Its probably because these scores produce by Base Model without any tuning whatsoever. This resulted in Model could not distinguish those values (Cancel and No Cancel) appropriately. Therefore, this data need to be undergone Feature Engineering, Tuning or build another Machine Learning algorithms."
   ]
  },
  {
   "cell_type": "code",
   "execution_count": 74,
   "metadata": {},
   "outputs": [
    {
     "data": {
      "text/html": [
       "<div>\n",
       "<style scoped>\n",
       "    .dataframe tbody tr th:only-of-type {\n",
       "        vertical-align: middle;\n",
       "    }\n",
       "\n",
       "    .dataframe tbody tr th {\n",
       "        vertical-align: top;\n",
       "    }\n",
       "\n",
       "    .dataframe thead th {\n",
       "        text-align: right;\n",
       "    }\n",
       "</style>\n",
       "<table border=\"1\" class=\"dataframe\">\n",
       "  <thead>\n",
       "    <tr style=\"text-align: right;\">\n",
       "      <th></th>\n",
       "      <th>Pred 1</th>\n",
       "      <th>Pred 0</th>\n",
       "    </tr>\n",
       "  </thead>\n",
       "  <tbody>\n",
       "    <tr>\n",
       "      <th>Akt 1</th>\n",
       "      <td>2340</td>\n",
       "      <td>3816</td>\n",
       "    </tr>\n",
       "    <tr>\n",
       "      <th>Akt 0</th>\n",
       "      <td>100</td>\n",
       "      <td>10459</td>\n",
       "    </tr>\n",
       "  </tbody>\n",
       "</table>\n",
       "</div>"
      ],
      "text/plain": [
       "       Pred 1  Pred 0\n",
       "Akt 1    2340    3816\n",
       "Akt 0     100   10459"
      ]
     },
     "execution_count": 74,
     "metadata": {},
     "output_type": "execute_result"
    }
   ],
   "source": [
    "## Show Confusion Matrix - Testing\n",
    "cm_SVM_ts"
   ]
  },
  {
   "cell_type": "markdown",
   "metadata": {},
   "source": [
    "Number of False-Negative cases are higher than True-Positive cases and its show bad potential to be a good Model for this dataset, therefore we need to improve this Model or try with different Algorithms that produce significantly lower False-Negative cases than the Base Model."
   ]
  },
  {
   "cell_type": "markdown",
   "metadata": {},
   "source": [
    "### 2.4 Base Model with Decision Tree"
   ]
  },
  {
   "cell_type": "markdown",
   "metadata": {},
   "source": [
    "Decision Tree os a hierarchy of if/else questions that leads into a decision. Similar to KNN, Decision Tree is non-parametric and used to answer problems that difficult to be solved with parametric model. With this method, we do not need to make strong assumptions about the form of the model, and it is also more flexible to capture any type of relationship (linear or non-linear). Decision Tree is also produce result more faster than KNN, it's flexible and had high interpretability."
   ]
  },
  {
   "cell_type": "code",
   "execution_count": 75,
   "metadata": {},
   "outputs": [],
   "source": [
    "## Import Package\n",
    "from sklearn.tree import DecisionTreeClassifier"
   ]
  },
  {
   "cell_type": "code",
   "execution_count": 76,
   "metadata": {},
   "outputs": [],
   "source": [
    "## Build Model\n",
    "DT = DecisionTreeClassifier()"
   ]
  },
  {
   "cell_type": "code",
   "execution_count": 77,
   "metadata": {},
   "outputs": [
    {
     "data": {
      "text/html": [
       "<style>#sk-container-id-4 {color: black;background-color: white;}#sk-container-id-4 pre{padding: 0;}#sk-container-id-4 div.sk-toggleable {background-color: white;}#sk-container-id-4 label.sk-toggleable__label {cursor: pointer;display: block;width: 100%;margin-bottom: 0;padding: 0.3em;box-sizing: border-box;text-align: center;}#sk-container-id-4 label.sk-toggleable__label-arrow:before {content: \"▸\";float: left;margin-right: 0.25em;color: #696969;}#sk-container-id-4 label.sk-toggleable__label-arrow:hover:before {color: black;}#sk-container-id-4 div.sk-estimator:hover label.sk-toggleable__label-arrow:before {color: black;}#sk-container-id-4 div.sk-toggleable__content {max-height: 0;max-width: 0;overflow: hidden;text-align: left;background-color: #f0f8ff;}#sk-container-id-4 div.sk-toggleable__content pre {margin: 0.2em;color: black;border-radius: 0.25em;background-color: #f0f8ff;}#sk-container-id-4 input.sk-toggleable__control:checked~div.sk-toggleable__content {max-height: 200px;max-width: 100%;overflow: auto;}#sk-container-id-4 input.sk-toggleable__control:checked~label.sk-toggleable__label-arrow:before {content: \"▾\";}#sk-container-id-4 div.sk-estimator input.sk-toggleable__control:checked~label.sk-toggleable__label {background-color: #d4ebff;}#sk-container-id-4 div.sk-label input.sk-toggleable__control:checked~label.sk-toggleable__label {background-color: #d4ebff;}#sk-container-id-4 input.sk-hidden--visually {border: 0;clip: rect(1px 1px 1px 1px);clip: rect(1px, 1px, 1px, 1px);height: 1px;margin: -1px;overflow: hidden;padding: 0;position: absolute;width: 1px;}#sk-container-id-4 div.sk-estimator {font-family: monospace;background-color: #f0f8ff;border: 1px dotted black;border-radius: 0.25em;box-sizing: border-box;margin-bottom: 0.5em;}#sk-container-id-4 div.sk-estimator:hover {background-color: #d4ebff;}#sk-container-id-4 div.sk-parallel-item::after {content: \"\";width: 100%;border-bottom: 1px solid gray;flex-grow: 1;}#sk-container-id-4 div.sk-label:hover label.sk-toggleable__label {background-color: #d4ebff;}#sk-container-id-4 div.sk-serial::before {content: \"\";position: absolute;border-left: 1px solid gray;box-sizing: border-box;top: 0;bottom: 0;left: 50%;z-index: 0;}#sk-container-id-4 div.sk-serial {display: flex;flex-direction: column;align-items: center;background-color: white;padding-right: 0.2em;padding-left: 0.2em;position: relative;}#sk-container-id-4 div.sk-item {position: relative;z-index: 1;}#sk-container-id-4 div.sk-parallel {display: flex;align-items: stretch;justify-content: center;background-color: white;position: relative;}#sk-container-id-4 div.sk-item::before, #sk-container-id-4 div.sk-parallel-item::before {content: \"\";position: absolute;border-left: 1px solid gray;box-sizing: border-box;top: 0;bottom: 0;left: 50%;z-index: -1;}#sk-container-id-4 div.sk-parallel-item {display: flex;flex-direction: column;z-index: 1;position: relative;background-color: white;}#sk-container-id-4 div.sk-parallel-item:first-child::after {align-self: flex-end;width: 50%;}#sk-container-id-4 div.sk-parallel-item:last-child::after {align-self: flex-start;width: 50%;}#sk-container-id-4 div.sk-parallel-item:only-child::after {width: 0;}#sk-container-id-4 div.sk-dashed-wrapped {border: 1px dashed gray;margin: 0 0.4em 0.5em 0.4em;box-sizing: border-box;padding-bottom: 0.4em;background-color: white;}#sk-container-id-4 div.sk-label label {font-family: monospace;font-weight: bold;display: inline-block;line-height: 1.2em;}#sk-container-id-4 div.sk-label-container {text-align: center;}#sk-container-id-4 div.sk-container {/* jupyter's `normalize.less` sets `[hidden] { display: none; }` but bootstrap.min.css set `[hidden] { display: none !important; }` so we also need the `!important` here to be able to override the default hidden behavior on the sphinx rendered scikit-learn.org. See: https://github.com/scikit-learn/scikit-learn/issues/21755 */display: inline-block !important;position: relative;}#sk-container-id-4 div.sk-text-repr-fallback {display: none;}</style><div id=\"sk-container-id-4\" class=\"sk-top-container\"><div class=\"sk-text-repr-fallback\"><pre>DecisionTreeClassifier()</pre><b>In a Jupyter environment, please rerun this cell to show the HTML representation or trust the notebook. <br />On GitHub, the HTML representation is unable to render, please try loading this page with nbviewer.org.</b></div><div class=\"sk-container\" hidden><div class=\"sk-item\"><div class=\"sk-estimator sk-toggleable\"><input class=\"sk-toggleable__control sk-hidden--visually\" id=\"sk-estimator-id-4\" type=\"checkbox\" checked><label for=\"sk-estimator-id-4\" class=\"sk-toggleable__label sk-toggleable__label-arrow\">DecisionTreeClassifier</label><div class=\"sk-toggleable__content\"><pre>DecisionTreeClassifier()</pre></div></div></div></div></div>"
      ],
      "text/plain": [
       "DecisionTreeClassifier()"
      ]
     },
     "execution_count": 77,
     "metadata": {},
     "output_type": "execute_result"
    }
   ],
   "source": [
    "## Fit Model\n",
    "DT.fit(x_train, y_train)"
   ]
  },
  {
   "cell_type": "markdown",
   "metadata": {},
   "source": [
    "#### Evaluation Matrix for Base Model with Decision Tree"
   ]
  },
  {
   "cell_type": "code",
   "execution_count": 78,
   "metadata": {},
   "outputs": [],
   "source": [
    "## Run Function\n",
    "df_DT, cr_DT_tr, cm_DT_tr, cr_DT_ts, cm_DT_ts = Eva_Matrix(DT, x_train, x_test, y_train, y_test,'Decision Tree Base')"
   ]
  },
  {
   "cell_type": "code",
   "execution_count": 79,
   "metadata": {},
   "outputs": [
    {
     "data": {
      "text/html": [
       "<div>\n",
       "<style scoped>\n",
       "    .dataframe tbody tr th:only-of-type {\n",
       "        vertical-align: middle;\n",
       "    }\n",
       "\n",
       "    .dataframe tbody tr th {\n",
       "        vertical-align: top;\n",
       "    }\n",
       "\n",
       "    .dataframe thead th {\n",
       "        text-align: right;\n",
       "    }\n",
       "</style>\n",
       "<table border=\"1\" class=\"dataframe\">\n",
       "  <thead>\n",
       "    <tr style=\"text-align: right;\">\n",
       "      <th></th>\n",
       "      <th>Accuracy</th>\n",
       "      <th>Recall</th>\n",
       "      <th>Precision</th>\n",
       "      <th>F1</th>\n",
       "    </tr>\n",
       "  </thead>\n",
       "  <tbody>\n",
       "    <tr>\n",
       "      <th>Decision Tree Base Training</th>\n",
       "      <td>0.8100</td>\n",
       "      <td>0.7093</td>\n",
       "      <td>0.7591</td>\n",
       "      <td>0.7334</td>\n",
       "    </tr>\n",
       "    <tr>\n",
       "      <th>Decision Tree Base Testing</th>\n",
       "      <td>0.8054</td>\n",
       "      <td>0.6964</td>\n",
       "      <td>0.7560</td>\n",
       "      <td>0.7250</td>\n",
       "    </tr>\n",
       "  </tbody>\n",
       "</table>\n",
       "</div>"
      ],
      "text/plain": [
       "                             Accuracy  Recall  Precision      F1\n",
       "Decision Tree Base Training    0.8100  0.7093     0.7591  0.7334\n",
       "Decision Tree Base Testing     0.8054  0.6964     0.7560  0.7250"
      ]
     },
     "execution_count": 79,
     "metadata": {},
     "output_type": "execute_result"
    }
   ],
   "source": [
    "## Show Evaluation Matrix\n",
    "df_DT\n",
    "## Accuracy score will produce bias as proportion of values in target are imbalanced\n",
    "### Recall score is quite good even though haven't reach ideal score of 0.8\n",
    "### We will focus on recall of Class 1 in classification report below"
   ]
  },
  {
   "cell_type": "code",
   "execution_count": 80,
   "metadata": {},
   "outputs": [
    {
     "name": "stdout",
     "output_type": "stream",
     "text": [
      "              precision    recall  f1-score   support\n",
      "\n",
      "           0       0.84      0.87      0.85     42236\n",
      "           1       0.76      0.71      0.73     24622\n",
      "\n",
      "    accuracy                           0.81     66858\n",
      "   macro avg       0.80      0.79      0.79     66858\n",
      "weighted avg       0.81      0.81      0.81     66858\n",
      "               precision    recall  f1-score   support\n",
      "\n",
      "           0       0.83      0.87      0.85     10559\n",
      "           1       0.76      0.70      0.72      6156\n",
      "\n",
      "    accuracy                           0.81     16715\n",
      "   macro avg       0.79      0.78      0.79     16715\n",
      "weighted avg       0.80      0.81      0.80     16715\n",
      "\n"
     ]
    }
   ],
   "source": [
    "## Show Classification Report\n",
    "print(cr_DT_tr, cr_DT_ts)"
   ]
  },
  {
   "cell_type": "markdown",
   "metadata": {},
   "source": [
    "Recall score of Class 1 in training and testing set of Base Model are around 0.7 (good but not that ideal), and additionally this Model show good stability. This score show good potential to this model as it was produced by Base Model without any tuning to the parameter. Further, this Base Model need will be undergone Tuning and hopefully could reach Recall(+) score of 0.80 by the end of the tuning."
   ]
  },
  {
   "cell_type": "code",
   "execution_count": 81,
   "metadata": {},
   "outputs": [
    {
     "data": {
      "text/html": [
       "<div>\n",
       "<style scoped>\n",
       "    .dataframe tbody tr th:only-of-type {\n",
       "        vertical-align: middle;\n",
       "    }\n",
       "\n",
       "    .dataframe tbody tr th {\n",
       "        vertical-align: top;\n",
       "    }\n",
       "\n",
       "    .dataframe thead th {\n",
       "        text-align: right;\n",
       "    }\n",
       "</style>\n",
       "<table border=\"1\" class=\"dataframe\">\n",
       "  <thead>\n",
       "    <tr style=\"text-align: right;\">\n",
       "      <th></th>\n",
       "      <th>Pred 1</th>\n",
       "      <th>Pred 0</th>\n",
       "    </tr>\n",
       "  </thead>\n",
       "  <tbody>\n",
       "    <tr>\n",
       "      <th>Akt 1</th>\n",
       "      <td>4287</td>\n",
       "      <td>1869</td>\n",
       "    </tr>\n",
       "    <tr>\n",
       "      <th>Akt 0</th>\n",
       "      <td>1384</td>\n",
       "      <td>9175</td>\n",
       "    </tr>\n",
       "  </tbody>\n",
       "</table>\n",
       "</div>"
      ],
      "text/plain": [
       "       Pred 1  Pred 0\n",
       "Akt 1    4287    1869\n",
       "Akt 0    1384    9175"
      ]
     },
     "execution_count": 81,
     "metadata": {},
     "output_type": "execute_result"
    }
   ],
   "source": [
    "## Show Confusion Matrix - Testing\n",
    "cm_DT_ts"
   ]
  },
  {
   "cell_type": "markdown",
   "metadata": {},
   "source": [
    "Number of False-Negative cases are still high and equivalent roughly to a bit below half of total True-Positive cases, therefore we need to improve this Model or try with different Algorithms that produce significantly lower False-Negative cases than the Base Model."
   ]
  },
  {
   "cell_type": "markdown",
   "metadata": {},
   "source": [
    "### 2.5 Base Model with Random Forest"
   ]
  },
  {
   "cell_type": "markdown",
   "metadata": {},
   "source": [
    "Random forests (or random decision forests) is an ensemble learning method for classification, regression and other tasks that operates by constructing a multitude of decision trees at training time. For classification tasks, the output of the random forest is the class selected by most trees. Random decision forests correct for decision trees' habit of overfitting to their training set.  Random forests generally outperform decision trees, but their accuracy is lower than gradient boosted trees. However, data characteristics can affect their performance. "
   ]
  },
  {
   "cell_type": "code",
   "execution_count": 82,
   "metadata": {},
   "outputs": [],
   "source": [
    "## Import Package\n",
    "from sklearn.ensemble import RandomForestClassifier"
   ]
  },
  {
   "cell_type": "code",
   "execution_count": 83,
   "metadata": {},
   "outputs": [],
   "source": [
    "## Build Model\n",
    "RF = RandomForestClassifier()"
   ]
  },
  {
   "cell_type": "code",
   "execution_count": 84,
   "metadata": {},
   "outputs": [
    {
     "data": {
      "text/html": [
       "<style>#sk-container-id-5 {color: black;background-color: white;}#sk-container-id-5 pre{padding: 0;}#sk-container-id-5 div.sk-toggleable {background-color: white;}#sk-container-id-5 label.sk-toggleable__label {cursor: pointer;display: block;width: 100%;margin-bottom: 0;padding: 0.3em;box-sizing: border-box;text-align: center;}#sk-container-id-5 label.sk-toggleable__label-arrow:before {content: \"▸\";float: left;margin-right: 0.25em;color: #696969;}#sk-container-id-5 label.sk-toggleable__label-arrow:hover:before {color: black;}#sk-container-id-5 div.sk-estimator:hover label.sk-toggleable__label-arrow:before {color: black;}#sk-container-id-5 div.sk-toggleable__content {max-height: 0;max-width: 0;overflow: hidden;text-align: left;background-color: #f0f8ff;}#sk-container-id-5 div.sk-toggleable__content pre {margin: 0.2em;color: black;border-radius: 0.25em;background-color: #f0f8ff;}#sk-container-id-5 input.sk-toggleable__control:checked~div.sk-toggleable__content {max-height: 200px;max-width: 100%;overflow: auto;}#sk-container-id-5 input.sk-toggleable__control:checked~label.sk-toggleable__label-arrow:before {content: \"▾\";}#sk-container-id-5 div.sk-estimator input.sk-toggleable__control:checked~label.sk-toggleable__label {background-color: #d4ebff;}#sk-container-id-5 div.sk-label input.sk-toggleable__control:checked~label.sk-toggleable__label {background-color: #d4ebff;}#sk-container-id-5 input.sk-hidden--visually {border: 0;clip: rect(1px 1px 1px 1px);clip: rect(1px, 1px, 1px, 1px);height: 1px;margin: -1px;overflow: hidden;padding: 0;position: absolute;width: 1px;}#sk-container-id-5 div.sk-estimator {font-family: monospace;background-color: #f0f8ff;border: 1px dotted black;border-radius: 0.25em;box-sizing: border-box;margin-bottom: 0.5em;}#sk-container-id-5 div.sk-estimator:hover {background-color: #d4ebff;}#sk-container-id-5 div.sk-parallel-item::after {content: \"\";width: 100%;border-bottom: 1px solid gray;flex-grow: 1;}#sk-container-id-5 div.sk-label:hover label.sk-toggleable__label {background-color: #d4ebff;}#sk-container-id-5 div.sk-serial::before {content: \"\";position: absolute;border-left: 1px solid gray;box-sizing: border-box;top: 0;bottom: 0;left: 50%;z-index: 0;}#sk-container-id-5 div.sk-serial {display: flex;flex-direction: column;align-items: center;background-color: white;padding-right: 0.2em;padding-left: 0.2em;position: relative;}#sk-container-id-5 div.sk-item {position: relative;z-index: 1;}#sk-container-id-5 div.sk-parallel {display: flex;align-items: stretch;justify-content: center;background-color: white;position: relative;}#sk-container-id-5 div.sk-item::before, #sk-container-id-5 div.sk-parallel-item::before {content: \"\";position: absolute;border-left: 1px solid gray;box-sizing: border-box;top: 0;bottom: 0;left: 50%;z-index: -1;}#sk-container-id-5 div.sk-parallel-item {display: flex;flex-direction: column;z-index: 1;position: relative;background-color: white;}#sk-container-id-5 div.sk-parallel-item:first-child::after {align-self: flex-end;width: 50%;}#sk-container-id-5 div.sk-parallel-item:last-child::after {align-self: flex-start;width: 50%;}#sk-container-id-5 div.sk-parallel-item:only-child::after {width: 0;}#sk-container-id-5 div.sk-dashed-wrapped {border: 1px dashed gray;margin: 0 0.4em 0.5em 0.4em;box-sizing: border-box;padding-bottom: 0.4em;background-color: white;}#sk-container-id-5 div.sk-label label {font-family: monospace;font-weight: bold;display: inline-block;line-height: 1.2em;}#sk-container-id-5 div.sk-label-container {text-align: center;}#sk-container-id-5 div.sk-container {/* jupyter's `normalize.less` sets `[hidden] { display: none; }` but bootstrap.min.css set `[hidden] { display: none !important; }` so we also need the `!important` here to be able to override the default hidden behavior on the sphinx rendered scikit-learn.org. See: https://github.com/scikit-learn/scikit-learn/issues/21755 */display: inline-block !important;position: relative;}#sk-container-id-5 div.sk-text-repr-fallback {display: none;}</style><div id=\"sk-container-id-5\" class=\"sk-top-container\"><div class=\"sk-text-repr-fallback\"><pre>RandomForestClassifier()</pre><b>In a Jupyter environment, please rerun this cell to show the HTML representation or trust the notebook. <br />On GitHub, the HTML representation is unable to render, please try loading this page with nbviewer.org.</b></div><div class=\"sk-container\" hidden><div class=\"sk-item\"><div class=\"sk-estimator sk-toggleable\"><input class=\"sk-toggleable__control sk-hidden--visually\" id=\"sk-estimator-id-5\" type=\"checkbox\" checked><label for=\"sk-estimator-id-5\" class=\"sk-toggleable__label sk-toggleable__label-arrow\">RandomForestClassifier</label><div class=\"sk-toggleable__content\"><pre>RandomForestClassifier()</pre></div></div></div></div></div>"
      ],
      "text/plain": [
       "RandomForestClassifier()"
      ]
     },
     "execution_count": 84,
     "metadata": {},
     "output_type": "execute_result"
    }
   ],
   "source": [
    "## Fit Model\n",
    "RF.fit(x_train, y_train)"
   ]
  },
  {
   "cell_type": "markdown",
   "metadata": {},
   "source": [
    "#### Evaluation Matrix for Base Model with Random Forest"
   ]
  },
  {
   "cell_type": "code",
   "execution_count": 85,
   "metadata": {},
   "outputs": [],
   "source": [
    "## Run Function\n",
    "df_RF, cr_RF_tr, cm_RF_tr, cr_RF_ts, cm_RF_ts = Eva_Matrix(RF, x_train, x_test, y_train, y_test,'Random Forest Base')"
   ]
  },
  {
   "cell_type": "code",
   "execution_count": 86,
   "metadata": {},
   "outputs": [
    {
     "data": {
      "text/html": [
       "<div>\n",
       "<style scoped>\n",
       "    .dataframe tbody tr th:only-of-type {\n",
       "        vertical-align: middle;\n",
       "    }\n",
       "\n",
       "    .dataframe tbody tr th {\n",
       "        vertical-align: top;\n",
       "    }\n",
       "\n",
       "    .dataframe thead th {\n",
       "        text-align: right;\n",
       "    }\n",
       "</style>\n",
       "<table border=\"1\" class=\"dataframe\">\n",
       "  <thead>\n",
       "    <tr style=\"text-align: right;\">\n",
       "      <th></th>\n",
       "      <th>Accuracy</th>\n",
       "      <th>Recall</th>\n",
       "      <th>Precision</th>\n",
       "      <th>F1</th>\n",
       "    </tr>\n",
       "  </thead>\n",
       "  <tbody>\n",
       "    <tr>\n",
       "      <th>Random Forest Base Training</th>\n",
       "      <td>0.8100</td>\n",
       "      <td>0.7096</td>\n",
       "      <td>0.7589</td>\n",
       "      <td>0.7334</td>\n",
       "    </tr>\n",
       "    <tr>\n",
       "      <th>Random Forest Base Testing</th>\n",
       "      <td>0.8059</td>\n",
       "      <td>0.6980</td>\n",
       "      <td>0.7561</td>\n",
       "      <td>0.7259</td>\n",
       "    </tr>\n",
       "  </tbody>\n",
       "</table>\n",
       "</div>"
      ],
      "text/plain": [
       "                             Accuracy  Recall  Precision      F1\n",
       "Random Forest Base Training    0.8100  0.7096     0.7589  0.7334\n",
       "Random Forest Base Testing     0.8059  0.6980     0.7561  0.7259"
      ]
     },
     "execution_count": 86,
     "metadata": {},
     "output_type": "execute_result"
    }
   ],
   "source": [
    "## Show Evaluation Matrix\n",
    "df_RF\n",
    "## Accuracy score will produce bias as proportion of values in target are imbalanced\n",
    "### Recall score is quite good even though haven't reach ideal score of 0.8\n",
    "### We will focus on recall of Class 1 in classification report below"
   ]
  },
  {
   "cell_type": "code",
   "execution_count": 87,
   "metadata": {},
   "outputs": [
    {
     "name": "stdout",
     "output_type": "stream",
     "text": [
      "              precision    recall  f1-score   support\n",
      "\n",
      "           0       0.84      0.87      0.85     42236\n",
      "           1       0.76      0.71      0.73     24622\n",
      "\n",
      "    accuracy                           0.81     66858\n",
      "   macro avg       0.80      0.79      0.79     66858\n",
      "weighted avg       0.81      0.81      0.81     66858\n",
      "               precision    recall  f1-score   support\n",
      "\n",
      "           0       0.83      0.87      0.85     10559\n",
      "           1       0.76      0.70      0.73      6156\n",
      "\n",
      "    accuracy                           0.81     16715\n",
      "   macro avg       0.79      0.78      0.79     16715\n",
      "weighted avg       0.80      0.81      0.80     16715\n",
      "\n"
     ]
    }
   ],
   "source": [
    "## Show Classification Report\n",
    "print(cr_RF_tr, cr_RF_ts)"
   ]
  },
  {
   "cell_type": "markdown",
   "metadata": {},
   "source": [
    "Recall score of Class 1 in training and testing set of Base Model are around 0.7 (good but not that ideal), and additionally this Model show good stability. This score show good potential to this model as it was produced by Base Model without any tuning to the parameter. Further, this Base Model need will be undergone Tuning and hopefully could reach Recall(+) score of 0.80 by the end of the tuning."
   ]
  },
  {
   "cell_type": "code",
   "execution_count": 88,
   "metadata": {},
   "outputs": [
    {
     "data": {
      "text/html": [
       "<div>\n",
       "<style scoped>\n",
       "    .dataframe tbody tr th:only-of-type {\n",
       "        vertical-align: middle;\n",
       "    }\n",
       "\n",
       "    .dataframe tbody tr th {\n",
       "        vertical-align: top;\n",
       "    }\n",
       "\n",
       "    .dataframe thead th {\n",
       "        text-align: right;\n",
       "    }\n",
       "</style>\n",
       "<table border=\"1\" class=\"dataframe\">\n",
       "  <thead>\n",
       "    <tr style=\"text-align: right;\">\n",
       "      <th></th>\n",
       "      <th>Pred 1</th>\n",
       "      <th>Pred 0</th>\n",
       "    </tr>\n",
       "  </thead>\n",
       "  <tbody>\n",
       "    <tr>\n",
       "      <th>Akt 1</th>\n",
       "      <td>4297</td>\n",
       "      <td>1859</td>\n",
       "    </tr>\n",
       "    <tr>\n",
       "      <th>Akt 0</th>\n",
       "      <td>1386</td>\n",
       "      <td>9173</td>\n",
       "    </tr>\n",
       "  </tbody>\n",
       "</table>\n",
       "</div>"
      ],
      "text/plain": [
       "       Pred 1  Pred 0\n",
       "Akt 1    4297    1859\n",
       "Akt 0    1386    9173"
      ]
     },
     "execution_count": 88,
     "metadata": {},
     "output_type": "execute_result"
    }
   ],
   "source": [
    "## Show Confusion Matrix - Testing\n",
    "cm_RF_ts"
   ]
  },
  {
   "cell_type": "markdown",
   "metadata": {},
   "source": [
    "Number of False-Negative cases are still high and equivalent roughly to a bit below half of total True-Positive cases, therefore we need to improve this Model or try with different Algorithms that produce significantly lower False-Negative cases than the Base Model."
   ]
  },
  {
   "cell_type": "markdown",
   "metadata": {},
   "source": [
    "<hr>\n",
    "\n",
    "## 3. Evaluation Matrix Summary - Base Model"
   ]
  },
  {
   "cell_type": "markdown",
   "metadata": {},
   "source": [
    "### Evaluation Matrix"
   ]
  },
  {
   "cell_type": "code",
   "execution_count": 89,
   "metadata": {},
   "outputs": [
    {
     "data": {
      "text/html": [
       "<div>\n",
       "<style scoped>\n",
       "    .dataframe tbody tr th:only-of-type {\n",
       "        vertical-align: middle;\n",
       "    }\n",
       "\n",
       "    .dataframe tbody tr th {\n",
       "        vertical-align: top;\n",
       "    }\n",
       "\n",
       "    .dataframe thead th {\n",
       "        text-align: right;\n",
       "    }\n",
       "</style>\n",
       "<table border=\"1\" class=\"dataframe\">\n",
       "  <thead>\n",
       "    <tr style=\"text-align: right;\">\n",
       "      <th></th>\n",
       "      <th>Accuracy</th>\n",
       "      <th>Recall</th>\n",
       "      <th>Precision</th>\n",
       "      <th>F1</th>\n",
       "    </tr>\n",
       "  </thead>\n",
       "  <tbody>\n",
       "    <tr>\n",
       "      <th>LogReg Base Training</th>\n",
       "      <td>0.7784</td>\n",
       "      <td>0.5362</td>\n",
       "      <td>0.7953</td>\n",
       "      <td>0.6406</td>\n",
       "    </tr>\n",
       "    <tr>\n",
       "      <th>LogReg Base Testing</th>\n",
       "      <td>0.7748</td>\n",
       "      <td>0.5245</td>\n",
       "      <td>0.7941</td>\n",
       "      <td>0.6318</td>\n",
       "    </tr>\n",
       "    <tr>\n",
       "      <th>KNN Base Training</th>\n",
       "      <td>0.7853</td>\n",
       "      <td>0.7156</td>\n",
       "      <td>0.7055</td>\n",
       "      <td>0.7105</td>\n",
       "    </tr>\n",
       "    <tr>\n",
       "      <th>KNN Base Testing</th>\n",
       "      <td>0.7811</td>\n",
       "      <td>0.7078</td>\n",
       "      <td>0.7008</td>\n",
       "      <td>0.7043</td>\n",
       "    </tr>\n",
       "    <tr>\n",
       "      <th>SVM Base Training</th>\n",
       "      <td>0.7656</td>\n",
       "      <td>0.3787</td>\n",
       "      <td>0.9612</td>\n",
       "      <td>0.5434</td>\n",
       "    </tr>\n",
       "    <tr>\n",
       "      <th>SVM Base Testing</th>\n",
       "      <td>0.7657</td>\n",
       "      <td>0.3801</td>\n",
       "      <td>0.9590</td>\n",
       "      <td>0.5444</td>\n",
       "    </tr>\n",
       "    <tr>\n",
       "      <th>Decision Tree Base Training</th>\n",
       "      <td>0.8100</td>\n",
       "      <td>0.7093</td>\n",
       "      <td>0.7591</td>\n",
       "      <td>0.7334</td>\n",
       "    </tr>\n",
       "    <tr>\n",
       "      <th>Decision Tree Base Testing</th>\n",
       "      <td>0.8054</td>\n",
       "      <td>0.6964</td>\n",
       "      <td>0.7560</td>\n",
       "      <td>0.7250</td>\n",
       "    </tr>\n",
       "    <tr>\n",
       "      <th>Random Forest Base Training</th>\n",
       "      <td>0.8100</td>\n",
       "      <td>0.7096</td>\n",
       "      <td>0.7589</td>\n",
       "      <td>0.7334</td>\n",
       "    </tr>\n",
       "    <tr>\n",
       "      <th>Random Forest Base Testing</th>\n",
       "      <td>0.8059</td>\n",
       "      <td>0.6980</td>\n",
       "      <td>0.7561</td>\n",
       "      <td>0.7259</td>\n",
       "    </tr>\n",
       "  </tbody>\n",
       "</table>\n",
       "</div>"
      ],
      "text/plain": [
       "                             Accuracy  Recall  Precision      F1\n",
       "LogReg Base Training           0.7784  0.5362     0.7953  0.6406\n",
       "LogReg Base Testing            0.7748  0.5245     0.7941  0.6318\n",
       "KNN Base Training              0.7853  0.7156     0.7055  0.7105\n",
       "KNN Base Testing               0.7811  0.7078     0.7008  0.7043\n",
       "SVM Base Training              0.7656  0.3787     0.9612  0.5434\n",
       "SVM Base Testing               0.7657  0.3801     0.9590  0.5444\n",
       "Decision Tree Base Training    0.8100  0.7093     0.7591  0.7334\n",
       "Decision Tree Base Testing     0.8054  0.6964     0.7560  0.7250\n",
       "Random Forest Base Training    0.8100  0.7096     0.7589  0.7334\n",
       "Random Forest Base Testing     0.8059  0.6980     0.7561  0.7259"
      ]
     },
     "execution_count": 89,
     "metadata": {},
     "output_type": "execute_result"
    }
   ],
   "source": [
    "## Compare evaluation matrix of every Base Model\n",
    "pd.concat([df_LR, df_KNN, df_SVM, df_DT, df_RF])"
   ]
  },
  {
   "cell_type": "markdown",
   "metadata": {},
   "source": [
    "The most potential models based on recall score for testing set are KNN (0.71), Decision Tree (0.70) and Random Forest (0.70)."
   ]
  },
  {
   "cell_type": "code",
   "execution_count": 90,
   "metadata": {},
   "outputs": [
    {
     "name": "stdout",
     "output_type": "stream",
     "text": [
      "Confusion Matrix - Testing using LogReg Base\n",
      "       Pred 1  Pred 0\n",
      "Akt 1    3229    2927\n",
      "Akt 0     837    9722\n",
      "==============================\n",
      "Confusion Matrix - Testing using KNN Base\n",
      "       Pred 1  Pred 0\n",
      "Akt 1    4357    1799\n",
      "Akt 0    1860    8699\n",
      "==============================\n",
      "Confusion Matrix - Testing using SVM Base\n",
      "       Pred 1  Pred 0\n",
      "Akt 1    2340    3816\n",
      "Akt 0     100   10459\n",
      "==============================\n",
      "Confusion Matrix - Testing using Decision Tree Base\n",
      "       Pred 1  Pred 0\n",
      "Akt 1    4287    1869\n",
      "Akt 0    1384    9175\n",
      "==============================\n",
      "Confusion Matrix - Testing using Random Forest Base\n",
      "       Pred 1  Pred 0\n",
      "Akt 1    4297    1859\n",
      "Akt 0    1386    9173\n"
     ]
    }
   ],
   "source": [
    "## Compare Confusion Matrix for Testing Set of every Base Model\n",
    "print('Confusion Matrix - Testing using LogReg Base')\n",
    "print(cm_LR_ts)\n",
    "print('='*30)\n",
    "\n",
    "print('Confusion Matrix - Testing using KNN Base')\n",
    "print(cm_KNN_ts)\n",
    "print('='*30)\n",
    "\n",
    "print('Confusion Matrix - Testing using SVM Base')\n",
    "print(cm_SVM_ts)\n",
    "print('='*30)\n",
    "\n",
    "print('Confusion Matrix - Testing using Decision Tree Base')\n",
    "print(cm_DT_ts)\n",
    "print('='*30)\n",
    "\n",
    "print('Confusion Matrix - Testing using Random Forest Base')\n",
    "print(cm_RF_ts)"
   ]
  },
  {
   "cell_type": "markdown",
   "metadata": {},
   "source": [
    "The most potential models based on number of False-Negative Cases are KNN (1,799 cases), Decision Tree (1,868 cases) and Random Forest (1,864 cases). Besides recall and False-Negative cases, we will confirm that these 3 models are the most potential Models to be given tuning using Cross-Validation score below."
   ]
  },
  {
   "cell_type": "markdown",
   "metadata": {},
   "source": [
    "<hr>\n",
    "\n",
    "## 4. Base Model Benchmarking using Cross-Validation"
   ]
  },
  {
   "cell_type": "markdown",
   "metadata": {},
   "source": [
    "**Benchmarking** is a comprehensive comparison between multiple machine learning (ML) algorithms comprises a thorough cross-validation of their predictive performance. **Cross validation** itself is a technique to measure the performance of a model through resampling. It is a standard practice in machine learning to split the dataset into training and testing sets. The training set is used to train the model, while the testing set is used to evaluate the performance of the model. Cross validation extends this process by repeatedly splitting the dataset into different training and testing sets. Since cross validation ensures that all observations appear in the training and testing sets, the evaluation metric is considered to be more reliable."
   ]
  },
  {
   "cell_type": "code",
   "execution_count": 91,
   "metadata": {},
   "outputs": [],
   "source": [
    "## Import Package\n",
    "from sklearn.model_selection import StratifiedKFold, cross_val_score"
   ]
  },
  {
   "cell_type": "code",
   "execution_count": 92,
   "metadata": {},
   "outputs": [],
   "source": [
    "## Create function to print mean of Cross-Validation score\n",
    "def Cross_Val(model,x,y,Nama):\n",
    "    skf = StratifiedKFold(n_splits=5)\n",
    "    cv_acc = cross_val_score(model, x, y, cv = skf, scoring='accuracy')\n",
    "    cv_rec = cross_val_score(model, x, y, cv = skf, scoring='recall')\n",
    "    cv_prec = cross_val_score(model, x, y, cv = skf, scoring='precision')\n",
    "    cv_f1 = cross_val_score(model, x, y, cv = skf, scoring='f1')\n",
    "    data={\n",
    "        Nama + ' Cross-Validation (Mean)':[cv_acc.mean(),cv_rec.mean(),cv_prec.mean(),cv_f1.mean()],\n",
    "        Nama + ' Cross-Validation (Standard Deviation)':[cv_acc.std(),cv_rec.std(),cv_prec.std(),cv_f1.std()]\n",
    "    }\n",
    "    ## Create DataFrame\n",
    "    df = pd.DataFrame(data,index=['Accuracy','Recall','Precision','F-1 Score']).T\n",
    "\n",
    "    return df"
   ]
  },
  {
   "cell_type": "markdown",
   "metadata": {},
   "source": [
    "### Logistic Regression - Testing Set"
   ]
  },
  {
   "cell_type": "code",
   "execution_count": 93,
   "metadata": {},
   "outputs": [
    {
     "data": {
      "text/html": [
       "<div>\n",
       "<style scoped>\n",
       "    .dataframe tbody tr th:only-of-type {\n",
       "        vertical-align: middle;\n",
       "    }\n",
       "\n",
       "    .dataframe tbody tr th {\n",
       "        vertical-align: top;\n",
       "    }\n",
       "\n",
       "    .dataframe thead th {\n",
       "        text-align: right;\n",
       "    }\n",
       "</style>\n",
       "<table border=\"1\" class=\"dataframe\">\n",
       "  <thead>\n",
       "    <tr style=\"text-align: right;\">\n",
       "      <th></th>\n",
       "      <th>Accuracy</th>\n",
       "      <th>Recall</th>\n",
       "      <th>Precision</th>\n",
       "      <th>F-1 Score</th>\n",
       "    </tr>\n",
       "  </thead>\n",
       "  <tbody>\n",
       "    <tr>\n",
       "      <th>LogReg Base Cross-Validation (Mean)</th>\n",
       "      <td>0.78</td>\n",
       "      <td>0.54</td>\n",
       "      <td>0.79</td>\n",
       "      <td>0.64</td>\n",
       "    </tr>\n",
       "    <tr>\n",
       "      <th>LogReg Base Cross-Validation (Standard Deviation)</th>\n",
       "      <td>0.01</td>\n",
       "      <td>0.01</td>\n",
       "      <td>0.01</td>\n",
       "      <td>0.01</td>\n",
       "    </tr>\n",
       "  </tbody>\n",
       "</table>\n",
       "</div>"
      ],
      "text/plain": [
       "                                                   Accuracy  Recall  \\\n",
       "LogReg Base Cross-Validation (Mean)                    0.78    0.54   \n",
       "LogReg Base Cross-Validation (Standard Deviation)      0.01    0.01   \n",
       "\n",
       "                                                   Precision  F-1 Score  \n",
       "LogReg Base Cross-Validation (Mean)                     0.79       0.64  \n",
       "LogReg Base Cross-Validation (Standard Deviation)       0.01       0.01  "
      ]
     },
     "execution_count": 93,
     "metadata": {},
     "output_type": "execute_result"
    }
   ],
   "source": [
    "## Show Cross-Validation score for LogReg Model (testing)\n",
    "cv_LR = Cross_Val(LogisticRegression(), x_train, y_train,'LogReg Base').round(2)\n",
    "cv_LR\n",
    "## Result: Mean of recall score is not desirable even though standard deviation is low as well."
   ]
  },
  {
   "cell_type": "markdown",
   "metadata": {},
   "source": [
    "### K-Nearest Neighbors (KNN) - Testing Set"
   ]
  },
  {
   "cell_type": "code",
   "execution_count": 94,
   "metadata": {},
   "outputs": [
    {
     "data": {
      "text/html": [
       "<div>\n",
       "<style scoped>\n",
       "    .dataframe tbody tr th:only-of-type {\n",
       "        vertical-align: middle;\n",
       "    }\n",
       "\n",
       "    .dataframe tbody tr th {\n",
       "        vertical-align: top;\n",
       "    }\n",
       "\n",
       "    .dataframe thead th {\n",
       "        text-align: right;\n",
       "    }\n",
       "</style>\n",
       "<table border=\"1\" class=\"dataframe\">\n",
       "  <thead>\n",
       "    <tr style=\"text-align: right;\">\n",
       "      <th></th>\n",
       "      <th>Accuracy</th>\n",
       "      <th>Recall</th>\n",
       "      <th>Precision</th>\n",
       "      <th>F-1 Score</th>\n",
       "    </tr>\n",
       "  </thead>\n",
       "  <tbody>\n",
       "    <tr>\n",
       "      <th>KNN Base Cross-Validation (Mean)</th>\n",
       "      <td>0.77</td>\n",
       "      <td>0.65</td>\n",
       "      <td>0.71</td>\n",
       "      <td>0.67</td>\n",
       "    </tr>\n",
       "    <tr>\n",
       "      <th>KNN Base Cross-Validation (Standard Deviation)</th>\n",
       "      <td>0.01</td>\n",
       "      <td>0.06</td>\n",
       "      <td>0.05</td>\n",
       "      <td>0.02</td>\n",
       "    </tr>\n",
       "  </tbody>\n",
       "</table>\n",
       "</div>"
      ],
      "text/plain": [
       "                                                Accuracy  Recall  Precision  \\\n",
       "KNN Base Cross-Validation (Mean)                    0.77    0.65       0.71   \n",
       "KNN Base Cross-Validation (Standard Deviation)      0.01    0.06       0.05   \n",
       "\n",
       "                                                F-1 Score  \n",
       "KNN Base Cross-Validation (Mean)                     0.67  \n",
       "KNN Base Cross-Validation (Standard Deviation)       0.02  "
      ]
     },
     "execution_count": 94,
     "metadata": {},
     "output_type": "execute_result"
    }
   ],
   "source": [
    "## Show Cross-Validation score for KNN Model (testing)\n",
    "cv_KNN = Cross_Val(KNeighborsClassifier(), x_train, y_train,'KNN Base').round(2)\n",
    "cv_KNN\n",
    "## Result: Mean of recall score is quite good but not that ideal, and standard deviation is quite low (higher than Logistic Regression).\n",
    "### Since the mean of recall score only 0.15 point below our ideal score of 0.80, this is potential method for further tuning."
   ]
  },
  {
   "cell_type": "markdown",
   "metadata": {},
   "source": [
    "### SVM - Testing Set"
   ]
  },
  {
   "cell_type": "code",
   "execution_count": 95,
   "metadata": {},
   "outputs": [
    {
     "data": {
      "text/html": [
       "<div>\n",
       "<style scoped>\n",
       "    .dataframe tbody tr th:only-of-type {\n",
       "        vertical-align: middle;\n",
       "    }\n",
       "\n",
       "    .dataframe tbody tr th {\n",
       "        vertical-align: top;\n",
       "    }\n",
       "\n",
       "    .dataframe thead th {\n",
       "        text-align: right;\n",
       "    }\n",
       "</style>\n",
       "<table border=\"1\" class=\"dataframe\">\n",
       "  <thead>\n",
       "    <tr style=\"text-align: right;\">\n",
       "      <th></th>\n",
       "      <th>Accuracy</th>\n",
       "      <th>Recall</th>\n",
       "      <th>Precision</th>\n",
       "      <th>F-1 Score</th>\n",
       "    </tr>\n",
       "  </thead>\n",
       "  <tbody>\n",
       "    <tr>\n",
       "      <th>SVM Base Cross-Validation (Mean)</th>\n",
       "      <td>0.77</td>\n",
       "      <td>0.38</td>\n",
       "      <td>0.96</td>\n",
       "      <td>0.54</td>\n",
       "    </tr>\n",
       "    <tr>\n",
       "      <th>SVM Base Cross-Validation (Standard Deviation)</th>\n",
       "      <td>0.00</td>\n",
       "      <td>0.01</td>\n",
       "      <td>0.00</td>\n",
       "      <td>0.01</td>\n",
       "    </tr>\n",
       "  </tbody>\n",
       "</table>\n",
       "</div>"
      ],
      "text/plain": [
       "                                                Accuracy  Recall  Precision  \\\n",
       "SVM Base Cross-Validation (Mean)                    0.77    0.38       0.96   \n",
       "SVM Base Cross-Validation (Standard Deviation)      0.00    0.01       0.00   \n",
       "\n",
       "                                                F-1 Score  \n",
       "SVM Base Cross-Validation (Mean)                     0.54  \n",
       "SVM Base Cross-Validation (Standard Deviation)       0.01  "
      ]
     },
     "execution_count": 95,
     "metadata": {},
     "output_type": "execute_result"
    }
   ],
   "source": [
    "## Show Cross-Validation score for SVM Model (testing)\n",
    "cv_SVM = Cross_Val(SVC(), x_train, y_train,'SVM Base').round(2)\n",
    "cv_SVM\n",
    "## Result: Mean of recall score is not desirable, even though standard deviation is quite low."
   ]
  },
  {
   "cell_type": "markdown",
   "metadata": {},
   "source": [
    "### Decision Tree - Testing Set"
   ]
  },
  {
   "cell_type": "code",
   "execution_count": 96,
   "metadata": {},
   "outputs": [
    {
     "data": {
      "text/html": [
       "<div>\n",
       "<style scoped>\n",
       "    .dataframe tbody tr th:only-of-type {\n",
       "        vertical-align: middle;\n",
       "    }\n",
       "\n",
       "    .dataframe tbody tr th {\n",
       "        vertical-align: top;\n",
       "    }\n",
       "\n",
       "    .dataframe thead th {\n",
       "        text-align: right;\n",
       "    }\n",
       "</style>\n",
       "<table border=\"1\" class=\"dataframe\">\n",
       "  <thead>\n",
       "    <tr style=\"text-align: right;\">\n",
       "      <th></th>\n",
       "      <th>Accuracy</th>\n",
       "      <th>Recall</th>\n",
       "      <th>Precision</th>\n",
       "      <th>F-1 Score</th>\n",
       "    </tr>\n",
       "  </thead>\n",
       "  <tbody>\n",
       "    <tr>\n",
       "      <th>Decision Tree Base Cross-Validation (Mean)</th>\n",
       "      <td>0.81</td>\n",
       "      <td>0.70</td>\n",
       "      <td>0.76</td>\n",
       "      <td>0.73</td>\n",
       "    </tr>\n",
       "    <tr>\n",
       "      <th>Decision Tree Base Cross-Validation (Standard Deviation)</th>\n",
       "      <td>0.00</td>\n",
       "      <td>0.01</td>\n",
       "      <td>0.00</td>\n",
       "      <td>0.01</td>\n",
       "    </tr>\n",
       "  </tbody>\n",
       "</table>\n",
       "</div>"
      ],
      "text/plain": [
       "                                                    Accuracy  Recall  \\\n",
       "Decision Tree Base Cross-Validation (Mean)              0.81    0.70   \n",
       "Decision Tree Base Cross-Validation (Standard D...      0.00    0.01   \n",
       "\n",
       "                                                    Precision  F-1 Score  \n",
       "Decision Tree Base Cross-Validation (Mean)               0.76       0.73  \n",
       "Decision Tree Base Cross-Validation (Standard D...       0.00       0.01  "
      ]
     },
     "execution_count": 96,
     "metadata": {},
     "output_type": "execute_result"
    }
   ],
   "source": [
    "## Show Cross-Validation score for Decision Tree Model (testing)\n",
    "cv_DT = Cross_Val(DecisionTreeClassifier(), x_train, y_train,'Decision Tree Base').round(2)\n",
    "cv_DT\n",
    "## Result: Mean of recall score is quite good but not that ideal (we expect 0.80), and standard deviation is low.\n",
    "### Since the mean of recall score only 0.1 point below our ideal score of 0.80, this is potential method for further tuning."
   ]
  },
  {
   "cell_type": "markdown",
   "metadata": {},
   "source": [
    "### Random Forest - Testing Set"
   ]
  },
  {
   "cell_type": "code",
   "execution_count": 97,
   "metadata": {},
   "outputs": [
    {
     "data": {
      "text/html": [
       "<div>\n",
       "<style scoped>\n",
       "    .dataframe tbody tr th:only-of-type {\n",
       "        vertical-align: middle;\n",
       "    }\n",
       "\n",
       "    .dataframe tbody tr th {\n",
       "        vertical-align: top;\n",
       "    }\n",
       "\n",
       "    .dataframe thead th {\n",
       "        text-align: right;\n",
       "    }\n",
       "</style>\n",
       "<table border=\"1\" class=\"dataframe\">\n",
       "  <thead>\n",
       "    <tr style=\"text-align: right;\">\n",
       "      <th></th>\n",
       "      <th>Accuracy</th>\n",
       "      <th>Recall</th>\n",
       "      <th>Precision</th>\n",
       "      <th>F-1 Score</th>\n",
       "    </tr>\n",
       "  </thead>\n",
       "  <tbody>\n",
       "    <tr>\n",
       "      <th>Random Forest Base Cross-Validation (Mean)</th>\n",
       "      <td>0.81</td>\n",
       "      <td>0.71</td>\n",
       "      <td>0.75</td>\n",
       "      <td>0.73</td>\n",
       "    </tr>\n",
       "    <tr>\n",
       "      <th>Random Forest Base Cross-Validation (Standard Deviation)</th>\n",
       "      <td>0.00</td>\n",
       "      <td>0.01</td>\n",
       "      <td>0.00</td>\n",
       "      <td>0.01</td>\n",
       "    </tr>\n",
       "  </tbody>\n",
       "</table>\n",
       "</div>"
      ],
      "text/plain": [
       "                                                    Accuracy  Recall  \\\n",
       "Random Forest Base Cross-Validation (Mean)              0.81    0.71   \n",
       "Random Forest Base Cross-Validation (Standard D...      0.00    0.01   \n",
       "\n",
       "                                                    Precision  F-1 Score  \n",
       "Random Forest Base Cross-Validation (Mean)               0.75       0.73  \n",
       "Random Forest Base Cross-Validation (Standard D...       0.00       0.01  "
      ]
     },
     "execution_count": 97,
     "metadata": {},
     "output_type": "execute_result"
    }
   ],
   "source": [
    "## Show Cross-Validation score for Random Forest Model (testing)\n",
    "cv_RF = Cross_Val(RandomForestClassifier(), x_train, y_train,'Random Forest Base').round(2)\n",
    "cv_RF\n",
    "## Result: Mean of recall score is quite good but not that ideal (we expect 0.80), and standard deviation is low.\n",
    "### Since the mean of recall score only 0.09 point below our ideal score of 0.80, this is potential method for further tuning."
   ]
  },
  {
   "cell_type": "markdown",
   "metadata": {},
   "source": [
    "### Cross-Validation Result Summary"
   ]
  },
  {
   "cell_type": "code",
   "execution_count": 98,
   "metadata": {},
   "outputs": [
    {
     "data": {
      "text/html": [
       "<div>\n",
       "<style scoped>\n",
       "    .dataframe tbody tr th:only-of-type {\n",
       "        vertical-align: middle;\n",
       "    }\n",
       "\n",
       "    .dataframe tbody tr th {\n",
       "        vertical-align: top;\n",
       "    }\n",
       "\n",
       "    .dataframe thead th {\n",
       "        text-align: right;\n",
       "    }\n",
       "</style>\n",
       "<table border=\"1\" class=\"dataframe\">\n",
       "  <thead>\n",
       "    <tr style=\"text-align: right;\">\n",
       "      <th></th>\n",
       "      <th>Accuracy</th>\n",
       "      <th>Recall</th>\n",
       "      <th>Precision</th>\n",
       "      <th>F-1 Score</th>\n",
       "    </tr>\n",
       "  </thead>\n",
       "  <tbody>\n",
       "    <tr>\n",
       "      <th>LogReg Base Cross-Validation (Mean)</th>\n",
       "      <td>0.78</td>\n",
       "      <td>0.54</td>\n",
       "      <td>0.79</td>\n",
       "      <td>0.64</td>\n",
       "    </tr>\n",
       "    <tr>\n",
       "      <th>LogReg Base Cross-Validation (Standard Deviation)</th>\n",
       "      <td>0.01</td>\n",
       "      <td>0.01</td>\n",
       "      <td>0.01</td>\n",
       "      <td>0.01</td>\n",
       "    </tr>\n",
       "    <tr>\n",
       "      <th>KNN Base Cross-Validation (Mean)</th>\n",
       "      <td>0.77</td>\n",
       "      <td>0.65</td>\n",
       "      <td>0.71</td>\n",
       "      <td>0.67</td>\n",
       "    </tr>\n",
       "    <tr>\n",
       "      <th>KNN Base Cross-Validation (Standard Deviation)</th>\n",
       "      <td>0.01</td>\n",
       "      <td>0.06</td>\n",
       "      <td>0.05</td>\n",
       "      <td>0.02</td>\n",
       "    </tr>\n",
       "    <tr>\n",
       "      <th>SVM Base Cross-Validation (Mean)</th>\n",
       "      <td>0.77</td>\n",
       "      <td>0.38</td>\n",
       "      <td>0.96</td>\n",
       "      <td>0.54</td>\n",
       "    </tr>\n",
       "    <tr>\n",
       "      <th>SVM Base Cross-Validation (Standard Deviation)</th>\n",
       "      <td>0.00</td>\n",
       "      <td>0.01</td>\n",
       "      <td>0.00</td>\n",
       "      <td>0.01</td>\n",
       "    </tr>\n",
       "    <tr>\n",
       "      <th>Decision Tree Base Cross-Validation (Mean)</th>\n",
       "      <td>0.81</td>\n",
       "      <td>0.70</td>\n",
       "      <td>0.76</td>\n",
       "      <td>0.73</td>\n",
       "    </tr>\n",
       "    <tr>\n",
       "      <th>Decision Tree Base Cross-Validation (Standard Deviation)</th>\n",
       "      <td>0.00</td>\n",
       "      <td>0.01</td>\n",
       "      <td>0.00</td>\n",
       "      <td>0.01</td>\n",
       "    </tr>\n",
       "    <tr>\n",
       "      <th>Random Forest Base Cross-Validation (Mean)</th>\n",
       "      <td>0.81</td>\n",
       "      <td>0.71</td>\n",
       "      <td>0.75</td>\n",
       "      <td>0.73</td>\n",
       "    </tr>\n",
       "    <tr>\n",
       "      <th>Random Forest Base Cross-Validation (Standard Deviation)</th>\n",
       "      <td>0.00</td>\n",
       "      <td>0.01</td>\n",
       "      <td>0.00</td>\n",
       "      <td>0.01</td>\n",
       "    </tr>\n",
       "  </tbody>\n",
       "</table>\n",
       "</div>"
      ],
      "text/plain": [
       "                                                    Accuracy  Recall  \\\n",
       "LogReg Base Cross-Validation (Mean)                     0.78    0.54   \n",
       "LogReg Base Cross-Validation (Standard Deviation)       0.01    0.01   \n",
       "KNN Base Cross-Validation (Mean)                        0.77    0.65   \n",
       "KNN Base Cross-Validation (Standard Deviation)          0.01    0.06   \n",
       "SVM Base Cross-Validation (Mean)                        0.77    0.38   \n",
       "SVM Base Cross-Validation (Standard Deviation)          0.00    0.01   \n",
       "Decision Tree Base Cross-Validation (Mean)              0.81    0.70   \n",
       "Decision Tree Base Cross-Validation (Standard D...      0.00    0.01   \n",
       "Random Forest Base Cross-Validation (Mean)              0.81    0.71   \n",
       "Random Forest Base Cross-Validation (Standard D...      0.00    0.01   \n",
       "\n",
       "                                                    Precision  F-1 Score  \n",
       "LogReg Base Cross-Validation (Mean)                      0.79       0.64  \n",
       "LogReg Base Cross-Validation (Standard Deviation)        0.01       0.01  \n",
       "KNN Base Cross-Validation (Mean)                         0.71       0.67  \n",
       "KNN Base Cross-Validation (Standard Deviation)           0.05       0.02  \n",
       "SVM Base Cross-Validation (Mean)                         0.96       0.54  \n",
       "SVM Base Cross-Validation (Standard Deviation)           0.00       0.01  \n",
       "Decision Tree Base Cross-Validation (Mean)               0.76       0.73  \n",
       "Decision Tree Base Cross-Validation (Standard D...       0.00       0.01  \n",
       "Random Forest Base Cross-Validation (Mean)               0.75       0.73  \n",
       "Random Forest Base Cross-Validation (Standard D...       0.00       0.01  "
      ]
     },
     "execution_count": 98,
     "metadata": {},
     "output_type": "execute_result"
    }
   ],
   "source": [
    "## Compare evaluation matrix of every Base Model\n",
    "pd.concat([cv_LR, cv_KNN, cv_SVM, cv_DT, cv_RF])"
   ]
  },
  {
   "cell_type": "markdown",
   "metadata": {},
   "source": [
    "From all Model, mean of recall score that closest to our ideal limit of 0.80 are KNN, Decision Tree and Random Forest. Therefore, we will perform hyperparameter tuning to these 3 models in `Notebook 2`."
   ]
  },
  {
   "cell_type": "code",
   "execution_count": 99,
   "metadata": {},
   "outputs": [],
   "source": [
    "## Export DataFrame for Tuning\n",
    "df.to_csv('Clean_Data.csv')"
   ]
  },
  {
   "cell_type": "markdown",
   "metadata": {},
   "source": [
    "<hr>\n",
    "\n",
    "## References\n",
    "\n",
    "<a id=\"1\">[1]</a> \n",
    "Stop Losing Money When You Have To Cancel Hotel Reservations by TJ McCue, Senior Contributor\n",
    "> https://www.forbes.com/sites/tjmccue/2014/03/31/stop-losing-money-when-you-have-to-cancel-hotel-reservations/?sh=5e77113737ce\n",
    "\n",
    "<a id=\"2\">[2]</a>\n",
    "Consumers vs. Revenue Managers? The Case of Cancellations and No Shows by Zvi Schwartz, Ph.D., Professor, Department of Hospitality and Sport Business Management, University of Delaware – Alfred Lerner College of Business and Economics\n",
    "> https://www.bu.edu/bhr/2021/06/29/consumers-vs-revenue-managers-the-case-of-cancelations-and-no-shows/\n",
    "\n",
    "<a id=\"3\">[3]</a> \n",
    "Why Cancelling & Re-Booking is Killing Your Revenue by Bonnie Clay, Product Marketing Manager\n",
    "> https://ideas.com/cancelling-re-booking-killing-revenue/\n",
    "\n",
    "<a id=\"4\">[4]</a> \n",
    "Apa maksud dari Kebijakan Pembatalan Hotel yang non-refundable atau free-cancellation?\n",
    "> https://www.tiket.com/help-center/hotel/check-in/kebijakan-hotel/kebijakan-pembatalan-hotel\n",
    "\n",
    "<a id=\"5\">[5]</a> \n",
    "Hotel Cancellation Policies\n",
    "> https://www.roomertravel.com/cancellation/hotel_cancellation_policies\n",
    "\n",
    "<a id=\"6\">[6]</a> \n",
    "1 drop of water (gtt Metric) = 0.050 milliliters (ml)\n",
    "> http://convert-to.com/conversion/volume/convert-drop-to-ml.html\n",
    "\n",
    "<a id=\"7\">[7]</a> \n",
    "ONE IN FIVE HOTEL BOOKINGS ON THE WEB ARE CANCELLED\n",
    "> https://www.phocuswire.com/One-in-five-hotel-bookings-on-the-web-are-cancelled\n",
    "\n",
    "<a id=\"8\">[8]</a> \n",
    "Choose the right cancellation policy for you\n",
    "> https://www.airbnb.com/resources/hosting-homes/a/choose-the-right-cancellation-policy-for-you-19\n",
    "\n",
    "<a id=\"9\">[9]</a> \n",
    "U.S. Hotel Food-And-Beverage Revenue Per Occupied Room Increased 1.6% In 2017\n",
    "> https://www.htrends.com/trends-detail-sid-98585.html#:~:text=Total%20food%2Dand%2Dbeverage%20revenue,dining%20decreased%203%25%20from%202016.&text=U.S.%20hotel%20food%2Dand%2Dbeverage%20revenue%20per%20occupied%20room%20(,from%20US%24103.93%20in%202016\n",
    "\n",
    "<a id=\"10\">[10]</a> \n",
    "How Much 5-Star Hotels Cost: Top 100 Destinations (2020)\n",
    "> https://www.asherfergusson.com/5-star-hotels/\n",
    "\n",
    "<a id=\"11\">[11]</a> \n",
    "Average number of rooms per hotel in the United States from 2017 to 2020, by chain type\n",
    "> https://www.statista.com/statistics/823786/average-number-of-rooms-per-hotel-by-chain-type/\n",
    "\n",
    "<a id=\"12\">[12]</a> \n",
    "How much does a Machine Learning Manager make?\n",
    "> https://www.glassdoor.com/Salaries/machine-learning-manager-salary-SRCH_KO0,24.htm\n",
    "\n",
    "<a id=\"13\">[13]</a> \n",
    "How much does a Machine Learning Team Lead make?\n",
    "> https://www.glassdoor.com/Salaries/machine-learning-team-lead-salary-SRCH_KO0,26.htm#:~:text=The%20national%20average%20salary%20for,per%20year%20in%20United%20States.\n",
    "\n",
    "<a id=\"14\">[14]</a> \n",
    "How much does a Associate Machine Learning Engineer make?\n",
    "> https://www.glassdoor.com/Salaries/associate-machine-learning-engineer-salary-SRCH_KO0,35.htm"
   ]
  }
 ],
 "metadata": {
  "kernelspec": {
   "display_name": "Python 3.10.5 64-bit (windows store)",
   "language": "python",
   "name": "python3"
  },
  "language_info": {
   "codemirror_mode": {
    "name": "ipython",
    "version": 3
   },
   "file_extension": ".py",
   "mimetype": "text/x-python",
   "name": "python",
   "nbconvert_exporter": "python",
   "pygments_lexer": "ipython3",
   "version": "3.10.6"
  },
  "orig_nbformat": 4,
  "vscode": {
   "interpreter": {
    "hash": "bbdc6700f60de612a9776dd7a4bd392f8898b0d00245e53755bddb2281dd5e23"
   }
  }
 },
 "nbformat": 4,
 "nbformat_minor": 2
}
